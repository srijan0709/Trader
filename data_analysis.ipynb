{
 "cells": [
  {
   "cell_type": "code",
   "execution_count": 2,
   "metadata": {},
   "outputs": [],
   "source": [
    "from utils_data import StockDataFetcher, generateTargetDataBuySide, generateTargetDataSellSide,getTechnicalIndicators,normalize_dataframe_with_mean_std"
   ]
  },
  {
   "cell_type": "code",
   "execution_count": 3,
   "metadata": {},
   "outputs": [
    {
     "name": "stderr",
     "output_type": "stream",
     "text": [
      "c:\\Users\\srija\\Assignment\\Trading\\utils_data.py:42: SettingWithCopyWarning: \n",
      "A value is trying to be set on a copy of a slice from a DataFrame\n",
      "\n",
      "See the caveats in the documentation: https://pandas.pydata.org/pandas-docs/stable/user_guide/indexing.html#returning-a-view-versus-a-copy\n",
      "  df_market_hours.drop(columns=['time'], inplace=True)\n",
      "c:\\Users\\srija\\Assignment\\Trading\\utils_data.py:43: SettingWithCopyWarning: \n",
      "A value is trying to be set on a copy of a slice from a DataFrame\n",
      "\n",
      "See the caveats in the documentation: https://pandas.pydata.org/pandas-docs/stable/user_guide/indexing.html#returning-a-view-versus-a-copy\n",
      "  df_market_hours.rename(columns={'time_et': 'time'}, inplace=True)\n"
     ]
    }
   ],
   "source": [
    "fetcher = StockDataFetcher()\n",
    "\n",
    "stock_symbol = \"TSLA\"\n",
    "start_date = \"2025-02-25T00:00:00Z\"\n",
    "end_date = \"2025-03-02T09:30:00-04:00\"\n",
    "\n",
    "df = fetcher.get_stock_data(stock_symbol, start_date, end_date)\n",
    "# df"
   ]
  },
  {
   "cell_type": "code",
   "execution_count": 4,
   "metadata": {},
   "outputs": [
    {
     "data": {
      "text/html": [
       "<div>\n",
       "<style scoped>\n",
       "    .dataframe tbody tr th:only-of-type {\n",
       "        vertical-align: middle;\n",
       "    }\n",
       "\n",
       "    .dataframe tbody tr th {\n",
       "        vertical-align: top;\n",
       "    }\n",
       "\n",
       "    .dataframe thead th {\n",
       "        text-align: right;\n",
       "    }\n",
       "</style>\n",
       "<table border=\"1\" class=\"dataframe\">\n",
       "  <thead>\n",
       "    <tr style=\"text-align: right;\">\n",
       "      <th></th>\n",
       "      <th>close</th>\n",
       "      <th>high</th>\n",
       "      <th>low</th>\n",
       "      <th>trades</th>\n",
       "      <th>open</th>\n",
       "      <th>volume</th>\n",
       "      <th>vwap</th>\n",
       "      <th>time</th>\n",
       "      <th>MA50</th>\n",
       "      <th>RSI</th>\n",
       "      <th>MACD</th>\n",
       "      <th>BB_upper</th>\n",
       "      <th>BB_lower</th>\n",
       "      <th>ADX</th>\n",
       "      <th>CCI</th>\n",
       "      <th>ATR</th>\n",
       "      <th>ROC</th>\n",
       "      <th>OBV</th>\n",
       "    </tr>\n",
       "  </thead>\n",
       "  <tbody>\n",
       "    <tr>\n",
       "      <th>0</th>\n",
       "      <td>313.100</td>\n",
       "      <td>313.7800</td>\n",
       "      <td>312.9101</td>\n",
       "      <td>8115</td>\n",
       "      <td>313.0500</td>\n",
       "      <td>456001</td>\n",
       "      <td>313.271021</td>\n",
       "      <td>2025-02-25 09:59:00-05:00</td>\n",
       "      <td>318.244920</td>\n",
       "      <td>29.349700</td>\n",
       "      <td>-2.245836</td>\n",
       "      <td>321.045435</td>\n",
       "      <td>311.418325</td>\n",
       "      <td>63.167661</td>\n",
       "      <td>-98.274278</td>\n",
       "      <td>1.746396</td>\n",
       "      <td>-1.550168</td>\n",
       "      <td>-5399034</td>\n",
       "    </tr>\n",
       "    <tr>\n",
       "      <th>1</th>\n",
       "      <td>311.515</td>\n",
       "      <td>313.2000</td>\n",
       "      <td>311.0000</td>\n",
       "      <td>20581</td>\n",
       "      <td>313.2000</td>\n",
       "      <td>957038</td>\n",
       "      <td>311.709511</td>\n",
       "      <td>2025-02-25 10:00:00-05:00</td>\n",
       "      <td>317.780420</td>\n",
       "      <td>26.877466</td>\n",
       "      <td>-2.345220</td>\n",
       "      <td>320.777912</td>\n",
       "      <td>310.867848</td>\n",
       "      <td>62.931757</td>\n",
       "      <td>-128.432951</td>\n",
       "      <td>1.778796</td>\n",
       "      <td>-1.662037</td>\n",
       "      <td>-6356072</td>\n",
       "    </tr>\n",
       "    <tr>\n",
       "      <th>2</th>\n",
       "      <td>311.000</td>\n",
       "      <td>311.7400</td>\n",
       "      <td>310.4500</td>\n",
       "      <td>12553</td>\n",
       "      <td>311.4600</td>\n",
       "      <td>712770</td>\n",
       "      <td>310.741341</td>\n",
       "      <td>2025-02-25 10:01:00-05:00</td>\n",
       "      <td>317.416087</td>\n",
       "      <td>26.137435</td>\n",
       "      <td>-2.437441</td>\n",
       "      <td>320.295853</td>\n",
       "      <td>310.422057</td>\n",
       "      <td>62.855160</td>\n",
       "      <td>-142.196975</td>\n",
       "      <td>1.743882</td>\n",
       "      <td>-1.585393</td>\n",
       "      <td>-7068842</td>\n",
       "    </tr>\n",
       "    <tr>\n",
       "      <th>3</th>\n",
       "      <td>311.420</td>\n",
       "      <td>312.6700</td>\n",
       "      <td>310.7410</td>\n",
       "      <td>10361</td>\n",
       "      <td>310.9043</td>\n",
       "      <td>552196</td>\n",
       "      <td>311.829739</td>\n",
       "      <td>2025-02-25 10:02:00-05:00</td>\n",
       "      <td>316.996990</td>\n",
       "      <td>27.814225</td>\n",
       "      <td>-2.448413</td>\n",
       "      <td>319.604013</td>\n",
       "      <td>310.232897</td>\n",
       "      <td>61.824678</td>\n",
       "      <td>-116.467426</td>\n",
       "      <td>1.757105</td>\n",
       "      <td>-1.414675</td>\n",
       "      <td>-6516646</td>\n",
       "    </tr>\n",
       "    <tr>\n",
       "      <th>4</th>\n",
       "      <td>310.950</td>\n",
       "      <td>311.5699</td>\n",
       "      <td>310.1000</td>\n",
       "      <td>12722</td>\n",
       "      <td>311.4900</td>\n",
       "      <td>572668</td>\n",
       "      <td>310.708111</td>\n",
       "      <td>2025-02-25 10:03:00-05:00</td>\n",
       "      <td>316.585323</td>\n",
       "      <td>27.101984</td>\n",
       "      <td>-2.466600</td>\n",
       "      <td>319.283227</td>\n",
       "      <td>309.824673</td>\n",
       "      <td>61.081526</td>\n",
       "      <td>-129.257740</td>\n",
       "      <td>1.736590</td>\n",
       "      <td>-0.974807</td>\n",
       "      <td>-7089314</td>\n",
       "    </tr>\n",
       "    <tr>\n",
       "      <th>...</th>\n",
       "      <td>...</td>\n",
       "      <td>...</td>\n",
       "      <td>...</td>\n",
       "      <td>...</td>\n",
       "      <td>...</td>\n",
       "      <td>...</td>\n",
       "      <td>...</td>\n",
       "      <td>...</td>\n",
       "      <td>...</td>\n",
       "      <td>...</td>\n",
       "      <td>...</td>\n",
       "      <td>...</td>\n",
       "      <td>...</td>\n",
       "      <td>...</td>\n",
       "      <td>...</td>\n",
       "      <td>...</td>\n",
       "      <td>...</td>\n",
       "      <td>...</td>\n",
       "    </tr>\n",
       "    <tr>\n",
       "      <th>1530</th>\n",
       "      <td>291.725</td>\n",
       "      <td>292.1800</td>\n",
       "      <td>291.5115</td>\n",
       "      <td>5086</td>\n",
       "      <td>291.6500</td>\n",
       "      <td>337417</td>\n",
       "      <td>291.848434</td>\n",
       "      <td>2025-02-28 15:56:00-05:00</td>\n",
       "      <td>290.986730</td>\n",
       "      <td>55.584289</td>\n",
       "      <td>0.063786</td>\n",
       "      <td>292.105772</td>\n",
       "      <td>289.021738</td>\n",
       "      <td>20.630417</td>\n",
       "      <td>153.435981</td>\n",
       "      <td>1.052665</td>\n",
       "      <td>0.385334</td>\n",
       "      <td>-5893025</td>\n",
       "    </tr>\n",
       "    <tr>\n",
       "      <th>1531</th>\n",
       "      <td>292.329</td>\n",
       "      <td>292.3297</td>\n",
       "      <td>291.4700</td>\n",
       "      <td>6071</td>\n",
       "      <td>291.6800</td>\n",
       "      <td>390982</td>\n",
       "      <td>292.021535</td>\n",
       "      <td>2025-02-28 15:57:00-05:00</td>\n",
       "      <td>291.006697</td>\n",
       "      <td>57.637442</td>\n",
       "      <td>0.183024</td>\n",
       "      <td>292.380913</td>\n",
       "      <td>288.967497</td>\n",
       "      <td>20.977128</td>\n",
       "      <td>151.293644</td>\n",
       "      <td>1.038882</td>\n",
       "      <td>0.667723</td>\n",
       "      <td>-5502043</td>\n",
       "    </tr>\n",
       "    <tr>\n",
       "      <th>1532</th>\n",
       "      <td>293.110</td>\n",
       "      <td>293.1600</td>\n",
       "      <td>292.1400</td>\n",
       "      <td>8539</td>\n",
       "      <td>292.3200</td>\n",
       "      <td>654559</td>\n",
       "      <td>292.754669</td>\n",
       "      <td>2025-02-28 15:58:00-05:00</td>\n",
       "      <td>291.037697</td>\n",
       "      <td>60.104320</td>\n",
       "      <td>0.336660</td>\n",
       "      <td>292.810814</td>\n",
       "      <td>288.797596</td>\n",
       "      <td>22.022453</td>\n",
       "      <td>186.929632</td>\n",
       "      <td>1.037533</td>\n",
       "      <td>0.933196</td>\n",
       "      <td>-4847484</td>\n",
       "    </tr>\n",
       "    <tr>\n",
       "      <th>1533</th>\n",
       "      <td>293.310</td>\n",
       "      <td>293.6200</td>\n",
       "      <td>292.9700</td>\n",
       "      <td>14705</td>\n",
       "      <td>293.1200</td>\n",
       "      <td>1348984</td>\n",
       "      <td>293.269243</td>\n",
       "      <td>2025-02-28 15:59:00-05:00</td>\n",
       "      <td>291.039290</td>\n",
       "      <td>60.710421</td>\n",
       "      <td>0.469149</td>\n",
       "      <td>293.222316</td>\n",
       "      <td>288.682094</td>\n",
       "      <td>23.338075</td>\n",
       "      <td>189.619328</td>\n",
       "      <td>1.009852</td>\n",
       "      <td>1.066451</td>\n",
       "      <td>-3498500</td>\n",
       "    </tr>\n",
       "    <tr>\n",
       "      <th>1534</th>\n",
       "      <td>293.820</td>\n",
       "      <td>293.8800</td>\n",
       "      <td>292.9700</td>\n",
       "      <td>866</td>\n",
       "      <td>293.8800</td>\n",
       "      <td>8810287</td>\n",
       "      <td>292.981458</td>\n",
       "      <td>2025-02-28 16:00:00-05:00</td>\n",
       "      <td>291.072357</td>\n",
       "      <td>62.224314</td>\n",
       "      <td>0.608287</td>\n",
       "      <td>293.673790</td>\n",
       "      <td>288.490620</td>\n",
       "      <td>24.745472</td>\n",
       "      <td>172.028555</td>\n",
       "      <td>1.002720</td>\n",
       "      <td>1.261373</td>\n",
       "      <td>5311787</td>\n",
       "    </tr>\n",
       "  </tbody>\n",
       "</table>\n",
       "<p>1535 rows × 18 columns</p>\n",
       "</div>"
      ],
      "text/plain": [
       "        close      high       low  trades      open   volume        vwap  \\\n",
       "0     313.100  313.7800  312.9101    8115  313.0500   456001  313.271021   \n",
       "1     311.515  313.2000  311.0000   20581  313.2000   957038  311.709511   \n",
       "2     311.000  311.7400  310.4500   12553  311.4600   712770  310.741341   \n",
       "3     311.420  312.6700  310.7410   10361  310.9043   552196  311.829739   \n",
       "4     310.950  311.5699  310.1000   12722  311.4900   572668  310.708111   \n",
       "...       ...       ...       ...     ...       ...      ...         ...   \n",
       "1530  291.725  292.1800  291.5115    5086  291.6500   337417  291.848434   \n",
       "1531  292.329  292.3297  291.4700    6071  291.6800   390982  292.021535   \n",
       "1532  293.110  293.1600  292.1400    8539  292.3200   654559  292.754669   \n",
       "1533  293.310  293.6200  292.9700   14705  293.1200  1348984  293.269243   \n",
       "1534  293.820  293.8800  292.9700     866  293.8800  8810287  292.981458   \n",
       "\n",
       "                          time        MA50        RSI      MACD    BB_upper  \\\n",
       "0    2025-02-25 09:59:00-05:00  318.244920  29.349700 -2.245836  321.045435   \n",
       "1    2025-02-25 10:00:00-05:00  317.780420  26.877466 -2.345220  320.777912   \n",
       "2    2025-02-25 10:01:00-05:00  317.416087  26.137435 -2.437441  320.295853   \n",
       "3    2025-02-25 10:02:00-05:00  316.996990  27.814225 -2.448413  319.604013   \n",
       "4    2025-02-25 10:03:00-05:00  316.585323  27.101984 -2.466600  319.283227   \n",
       "...                        ...         ...        ...       ...         ...   \n",
       "1530 2025-02-28 15:56:00-05:00  290.986730  55.584289  0.063786  292.105772   \n",
       "1531 2025-02-28 15:57:00-05:00  291.006697  57.637442  0.183024  292.380913   \n",
       "1532 2025-02-28 15:58:00-05:00  291.037697  60.104320  0.336660  292.810814   \n",
       "1533 2025-02-28 15:59:00-05:00  291.039290  60.710421  0.469149  293.222316   \n",
       "1534 2025-02-28 16:00:00-05:00  291.072357  62.224314  0.608287  293.673790   \n",
       "\n",
       "        BB_lower        ADX         CCI       ATR       ROC      OBV  \n",
       "0     311.418325  63.167661  -98.274278  1.746396 -1.550168 -5399034  \n",
       "1     310.867848  62.931757 -128.432951  1.778796 -1.662037 -6356072  \n",
       "2     310.422057  62.855160 -142.196975  1.743882 -1.585393 -7068842  \n",
       "3     310.232897  61.824678 -116.467426  1.757105 -1.414675 -6516646  \n",
       "4     309.824673  61.081526 -129.257740  1.736590 -0.974807 -7089314  \n",
       "...          ...        ...         ...       ...       ...      ...  \n",
       "1530  289.021738  20.630417  153.435981  1.052665  0.385334 -5893025  \n",
       "1531  288.967497  20.977128  151.293644  1.038882  0.667723 -5502043  \n",
       "1532  288.797596  22.022453  186.929632  1.037533  0.933196 -4847484  \n",
       "1533  288.682094  23.338075  189.619328  1.009852  1.066451 -3498500  \n",
       "1534  288.490620  24.745472  172.028555  1.002720  1.261373  5311787  \n",
       "\n",
       "[1535 rows x 18 columns]"
      ]
     },
     "execution_count": 4,
     "metadata": {},
     "output_type": "execute_result"
    }
   ],
   "source": [
    "df = getTechnicalIndicators(df)\n",
    "df"
   ]
  },
  {
   "cell_type": "code",
   "execution_count": 30,
   "metadata": {},
   "outputs": [
    {
     "name": "stderr",
     "output_type": "stream",
     "text": [
      "Processing Buy Side Data: 100%|██████████| 1535/1535 [01:06<00:00, 23.22it/s] \n",
      "Processing Sell Side Data: 100%|██████████| 1535/1535 [00:57<00:00, 26.61it/s] \n"
     ]
    }
   ],
   "source": [
    "target_buy = generateTargetDataBuySide(df,1.03,0.95)\n",
    "target_sell = generateTargetDataSellSide(df,0.97,1.05)\n",
    "# target_buy"
   ]
  },
  {
   "cell_type": "code",
   "execution_count": 31,
   "metadata": {},
   "outputs": [
    {
     "data": {
      "text/plain": [
       "118"
      ]
     },
     "execution_count": 31,
     "metadata": {},
     "output_type": "execute_result"
    }
   ],
   "source": [
    "len(target_buy[target_buy[\"action\"]==\"Target Hit\"])"
   ]
  },
  {
   "cell_type": "code",
   "execution_count": 32,
   "metadata": {},
   "outputs": [
    {
     "data": {
      "text/plain": [
       "55"
      ]
     },
     "execution_count": 32,
     "metadata": {},
     "output_type": "execute_result"
    }
   ],
   "source": [
    "len(target_buy[target_buy[\"action\"]==\"Stop Loss Hit\"])"
   ]
  },
  {
   "cell_type": "code",
   "execution_count": 33,
   "metadata": {},
   "outputs": [
    {
     "data": {
      "text/plain": [
       "1362"
      ]
     },
     "execution_count": 33,
     "metadata": {},
     "output_type": "execute_result"
    }
   ],
   "source": [
    "len(target_buy[target_buy[\"action\"]==\"End of Day\"])"
   ]
  },
  {
   "cell_type": "code",
   "execution_count": 34,
   "metadata": {},
   "outputs": [
    {
     "data": {
      "text/plain": [
       "418"
      ]
     },
     "execution_count": 34,
     "metadata": {},
     "output_type": "execute_result"
    }
   ],
   "source": [
    "len(target_sell[target_sell[\"action\"]==\"Target Hit\"])"
   ]
  },
  {
   "cell_type": "code",
   "execution_count": 35,
   "metadata": {},
   "outputs": [
    {
     "data": {
      "text/plain": [
       "15"
      ]
     },
     "execution_count": 35,
     "metadata": {},
     "output_type": "execute_result"
    }
   ],
   "source": [
    "len(target_sell[target_sell[\"action\"]==\"Stop Loss Hit\"])"
   ]
  },
  {
   "cell_type": "code",
   "execution_count": 36,
   "metadata": {},
   "outputs": [
    {
     "data": {
      "text/plain": [
       "1102"
      ]
     },
     "execution_count": 36,
     "metadata": {},
     "output_type": "execute_result"
    }
   ],
   "source": [
    "len(target_sell[target_sell[\"action\"]==\"End of Day\"])"
   ]
  },
  {
   "cell_type": "code",
   "execution_count": 37,
   "metadata": {},
   "outputs": [
    {
     "data": {
      "text/plain": [
       "8.0"
      ]
     },
     "execution_count": 37,
     "metadata": {},
     "output_type": "execute_result"
    }
   ],
   "source": [
    "target_sell[target_sell[\"action\"]==\"Target Hit\"][\"delay\"].min()"
   ]
  },
  {
   "cell_type": "code",
   "execution_count": 38,
   "metadata": {},
   "outputs": [
    {
     "data": {
      "text/plain": [
       "9.0"
      ]
     },
     "execution_count": 38,
     "metadata": {},
     "output_type": "execute_result"
    }
   ],
   "source": [
    "target_buy[target_buy[\"action\"]==\"Target Hit\"][\"delay\"].min()"
   ]
  },
  {
   "cell_type": "code",
   "execution_count": null,
   "metadata": {},
   "outputs": [],
   "source": []
  },
  {
   "cell_type": "code",
   "execution_count": null,
   "metadata": {},
   "outputs": [],
   "source": []
  },
  {
   "cell_type": "code",
   "execution_count": null,
   "metadata": {},
   "outputs": [],
   "source": []
  },
  {
   "cell_type": "code",
   "execution_count": null,
   "metadata": {},
   "outputs": [],
   "source": []
  },
  {
   "cell_type": "code",
   "execution_count": null,
   "metadata": {},
   "outputs": [],
   "source": []
  },
  {
   "cell_type": "code",
   "execution_count": null,
   "metadata": {},
   "outputs": [],
   "source": []
  },
  {
   "cell_type": "code",
   "execution_count": 16,
   "metadata": {},
   "outputs": [],
   "source": [
    "def calculate_optimized_scalping_reward(delay, action_type, success_base_reward=1500, \n",
    "                                     failure_base_penalty=1000, min_delay_threshold=3, \n",
    "                                     max_reward=2500, decay_rate=0.3,\n",
    "                                     opportunity_cost_factor=0.2,\n",
    "                                     missed_opp_multiplier=2.0,\n",
    "                                     consecutive_successes=0, \n",
    "                                     consecutive_success_bonus=0.15):\n",
    "    \"\"\"\n",
    "    Comprehensive reward function optimized for scalping.\n",
    "    \"\"\"\n",
    "    if action_type == 'success':\n",
    "        # Delay-dependent base reward scaling\n",
    "        if delay <= min_delay_threshold:\n",
    "            base_reward = max_reward - (max_reward - success_base_reward) * (delay / min_delay_threshold)\n",
    "        else:\n",
    "            base_reward = success_base_reward\n",
    "        \n",
    "        # Apply exponential decay\n",
    "        reward = base_reward * np.exp(-decay_rate * delay)\n",
    "        \n",
    "        # Apply opportunity cost\n",
    "        opportunity_cost = opportunity_cost_factor * delay * success_base_reward\n",
    "        opportunity_cost = min(opportunity_cost, reward * 0.8)\n",
    "        reward = reward - opportunity_cost\n",
    "        \n",
    "        # Apply sequential bonus\n",
    "        if consecutive_successes > 0:\n",
    "            sequential_bonus = reward * (consecutive_success_bonus * consecutive_successes)\n",
    "            reward += sequential_bonus\n",
    "        \n",
    "        return reward\n",
    "    \n",
    "    elif action_type == 'failure':\n",
    "        # Standard penalty with exponential decay\n",
    "        penalty = -failure_base_penalty * np.exp(-decay_rate * delay)\n",
    "        \n",
    "        # Add opportunity cost to penalty\n",
    "        opportunity_cost = opportunity_cost_factor * delay * failure_base_penalty\n",
    "        penalty = penalty - opportunity_cost\n",
    "        \n",
    "        return penalty\n",
    "    \n",
    "    elif action_type == 'missed_opportunity':\n",
    "        # Enhanced penalty for missed opportunities\n",
    "        missed_penalty = -failure_base_penalty * missed_opp_multiplier * np.exp(-decay_rate * delay)\n",
    "        return missed_penalty\n",
    "    \n",
    "    elif action_type == 'no_action':\n",
    "        # Reward for correctly staying out of the market\n",
    "        return 100\n"
   ]
  },
  {
   "cell_type": "code",
   "execution_count": null,
   "metadata": {},
   "outputs": [],
   "source": []
  },
  {
   "cell_type": "code",
   "execution_count": null,
   "metadata": {},
   "outputs": [],
   "source": []
  }
 ],
 "metadata": {
  "kernelspec": {
   "display_name": "trader",
   "language": "python",
   "name": "python3"
  },
  "language_info": {
   "codemirror_mode": {
    "name": "ipython",
    "version": 3
   },
   "file_extension": ".py",
   "mimetype": "text/x-python",
   "name": "python",
   "nbconvert_exporter": "python",
   "pygments_lexer": "ipython3",
   "version": "3.12.2"
  }
 },
 "nbformat": 4,
 "nbformat_minor": 2
}
