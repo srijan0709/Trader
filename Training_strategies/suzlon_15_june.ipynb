{
 "cells": [
  {
   "cell_type": "markdown",
   "metadata": {},
   "source": [
    "# Importing Libraries and Helper Classes and Functions"
   ]
  },
  {
   "cell_type": "code",
   "execution_count": 2,
   "metadata": {},
   "outputs": [],
   "source": [
    "import sys\n",
    "import os\n",
    "import json\n",
    "import numpy as np\n",
    "from tqdm import tqdm\n",
    "import torch\n",
    "parent_dir = os.path.abspath(os.path.join(os.getcwd(), \"..\"))\n",
    "sys.path.append(parent_dir)\n",
    "from utils_data import  generateTargetDataBuySide, generateTargetDataSellSide, getTechnicalIndicators, normalize_dataframe_with_mean_std\n",
    "from utils_data import UpstoxStockDataFetcher"
   ]
  },
  {
   "cell_type": "markdown",
   "metadata": {},
   "source": [
    "# Loading Data"
   ]
  },
  {
   "cell_type": "code",
   "execution_count": 3,
   "metadata": {},
   "outputs": [
    {
     "name": "stderr",
     "output_type": "stream",
     "text": [
      "Processing Buy Side Data: 100%|██████████| 1473/1473 [00:19<00:00, 76.63it/s] \n",
      "Processing Sell Side Data: 100%|██████████| 1473/1473 [00:17<00:00, 82.02it/s] \n"
     ]
    }
   ],
   "source": [
    "fetcher = UpstoxStockDataFetcher()\n",
    "stock_symbol = \"SUZLON\"\n",
    "start_date = \"2025-06-11\"\n",
    "end_date = \"2025-06-17\"\n",
    "df = fetcher.get_stock_data(stock_symbol, start_date, end_date)\n",
    "df = getTechnicalIndicators(df)\n",
    "target_buy = generateTargetDataBuySide(df,1.005,0.99)\n",
    "target_sell = generateTargetDataSellSide(df,0.995,1.01)\n",
    "\n"
   ]
  },
  {
   "cell_type": "markdown",
   "metadata": {},
   "source": [
    "# Data Analysis"
   ]
  },
  {
   "cell_type": "code",
   "execution_count": 4,
   "metadata": {},
   "outputs": [
    {
     "name": "stdout",
     "output_type": "stream",
     "text": [
      "End of Day: 384\n",
      "Target Hit: 634\n",
      "Stop Loss Hit: 455\n"
     ]
    }
   ],
   "source": [
    "count1 = len(target_buy[target_buy['action'].isin(['End of Day'])])\n",
    "count2 = len(target_buy[target_buy['action'].isin(['Target Hit'])])\n",
    "count3 = len(target_buy[target_buy['action'].isin(['Stop Loss Hit'])])\n",
    "\n",
    "print(f\"End of Day: {count1}\")\n",
    "print(f\"Target Hit: {count2}\")\n",
    "print(f\"Stop Loss Hit: {count3}\")"
   ]
  },
  {
   "cell_type": "code",
   "execution_count": 5,
   "metadata": {},
   "outputs": [
    {
     "name": "stdout",
     "output_type": "stream",
     "text": [
      "End of Day: 327\n",
      "Target Hit: 870\n",
      "Stop Loss Hit: 276\n"
     ]
    }
   ],
   "source": [
    "count4 = len(target_sell[target_sell['action'].isin(['End of Day'])])\n",
    "count5 = len(target_sell[target_sell['action'].isin(['Target Hit'])])\n",
    "count6 = len(target_sell[target_sell['action'].isin(['Stop Loss Hit'])])\n",
    "\n",
    "print(f\"End of Day: {count4}\")\n",
    "print(f\"Target Hit: {count5}\")\n",
    "print(f\"Stop Loss Hit: {count6}\")"
   ]
  },
  {
   "cell_type": "markdown",
   "metadata": {},
   "source": [
    "# Normalizing and Storing Params"
   ]
  },
  {
   "cell_type": "code",
   "execution_count": 6,
   "metadata": {},
   "outputs": [
    {
     "name": "stderr",
     "output_type": "stream",
     "text": [
      "c:\\Users\\srija\\Assignment\\Trading\\utils_data.py:207: SettingWithCopyWarning: \n",
      "A value is trying to be set on a copy of a slice from a DataFrame\n",
      "\n",
      "See the caveats in the documentation: https://pandas.pydata.org/pandas-docs/stable/user_guide/indexing.html#returning-a-view-versus-a-copy\n",
      "  normalized_df[col].iloc[i] = normalized_df[col].iloc[i].hour*60 + normalized_df[col].iloc[i].minute-540\n",
      "c:\\Users\\srija\\Assignment\\Trading\\utils_data.py:207: FutureWarning: Setting an item of incompatible dtype is deprecated and will raise in a future error of pandas. Value '42' has dtype incompatible with datetime64[ns, UTC+05:30], please explicitly cast to a compatible dtype first.\n",
      "  normalized_df[col].iloc[i] = normalized_df[col].iloc[i].hour*60 + normalized_df[col].iloc[i].minute-540\n"
     ]
    },
    {
     "data": {
      "text/html": [
       "<div>\n",
       "<style scoped>\n",
       "    .dataframe tbody tr th:only-of-type {\n",
       "        vertical-align: middle;\n",
       "    }\n",
       "\n",
       "    .dataframe tbody tr th {\n",
       "        vertical-align: top;\n",
       "    }\n",
       "\n",
       "    .dataframe thead th {\n",
       "        text-align: right;\n",
       "    }\n",
       "</style>\n",
       "<table border=\"1\" class=\"dataframe\">\n",
       "  <thead>\n",
       "    <tr style=\"text-align: right;\">\n",
       "      <th></th>\n",
       "      <th>time</th>\n",
       "      <th>open</th>\n",
       "      <th>high</th>\n",
       "      <th>low</th>\n",
       "      <th>close</th>\n",
       "      <th>volume</th>\n",
       "      <th>MA50</th>\n",
       "      <th>RSI</th>\n",
       "      <th>MACD</th>\n",
       "      <th>BB_upper</th>\n",
       "      <th>BB_lower</th>\n",
       "      <th>ADX</th>\n",
       "      <th>CCI</th>\n",
       "      <th>ATR</th>\n",
       "      <th>ROC</th>\n",
       "      <th>OBV</th>\n",
       "    </tr>\n",
       "  </thead>\n",
       "  <tbody>\n",
       "    <tr>\n",
       "      <th>0</th>\n",
       "      <td>42</td>\n",
       "      <td>68.35</td>\n",
       "      <td>68.40</td>\n",
       "      <td>68.33</td>\n",
       "      <td>68.36</td>\n",
       "      <td>0.121618</td>\n",
       "      <td>1.699062</td>\n",
       "      <td>0.803805</td>\n",
       "      <td>0.582877</td>\n",
       "      <td>1.706032</td>\n",
       "      <td>1.659184</td>\n",
       "      <td>-0.226936</td>\n",
       "      <td>0.475535</td>\n",
       "      <td>1.397213</td>\n",
       "      <td>-0.016104</td>\n",
       "      <td>2.059316</td>\n",
       "    </tr>\n",
       "    <tr>\n",
       "      <th>1</th>\n",
       "      <td>43</td>\n",
       "      <td>68.37</td>\n",
       "      <td>68.38</td>\n",
       "      <td>68.35</td>\n",
       "      <td>68.36</td>\n",
       "      <td>-0.305492</td>\n",
       "      <td>1.707238</td>\n",
       "      <td>0.803805</td>\n",
       "      <td>0.565125</td>\n",
       "      <td>1.700603</td>\n",
       "      <td>1.677476</td>\n",
       "      <td>-0.280383</td>\n",
       "      <td>0.432600</td>\n",
       "      <td>1.203042</td>\n",
       "      <td>0.314196</td>\n",
       "      <td>2.086973</td>\n",
       "    </tr>\n",
       "    <tr>\n",
       "      <th>2</th>\n",
       "      <td>44</td>\n",
       "      <td>68.38</td>\n",
       "      <td>68.38</td>\n",
       "      <td>68.31</td>\n",
       "      <td>68.33</td>\n",
       "      <td>-0.213411</td>\n",
       "      <td>1.705450</td>\n",
       "      <td>0.652320</td>\n",
       "      <td>0.518791</td>\n",
       "      <td>1.676647</td>\n",
       "      <td>1.715444</td>\n",
       "      <td>-0.387618</td>\n",
       "      <td>0.023131</td>\n",
       "      <td>1.084364</td>\n",
       "      <td>0.093899</td>\n",
       "      <td>2.053423</td>\n",
       "    </tr>\n",
       "    <tr>\n",
       "      <th>3</th>\n",
       "      <td>45</td>\n",
       "      <td>68.33</td>\n",
       "      <td>68.33</td>\n",
       "      <td>68.26</td>\n",
       "      <td>68.30</td>\n",
       "      <td>-0.217055</td>\n",
       "      <td>1.699062</td>\n",
       "      <td>0.502135</td>\n",
       "      <td>0.450592</td>\n",
       "      <td>1.674890</td>\n",
       "      <td>1.719186</td>\n",
       "      <td>-0.547933</td>\n",
       "      <td>-0.886931</td>\n",
       "      <td>0.974164</td>\n",
       "      <td>0.093899</td>\n",
       "      <td>2.020106</td>\n",
       "    </tr>\n",
       "    <tr>\n",
       "      <th>4</th>\n",
       "      <td>46</td>\n",
       "      <td>68.30</td>\n",
       "      <td>68.31</td>\n",
       "      <td>68.26</td>\n",
       "      <td>68.29</td>\n",
       "      <td>-0.350719</td>\n",
       "      <td>1.696251</td>\n",
       "      <td>0.451772</td>\n",
       "      <td>0.384578</td>\n",
       "      <td>1.658987</td>\n",
       "      <td>1.721851</td>\n",
       "      <td>-0.696796</td>\n",
       "      <td>-0.936793</td>\n",
       "      <td>0.841023</td>\n",
       "      <td>0.204112</td>\n",
       "      <td>1.995343</td>\n",
       "    </tr>\n",
       "    <tr>\n",
       "      <th>...</th>\n",
       "      <td>...</td>\n",
       "      <td>...</td>\n",
       "      <td>...</td>\n",
       "      <td>...</td>\n",
       "      <td>...</td>\n",
       "      <td>...</td>\n",
       "      <td>...</td>\n",
       "      <td>...</td>\n",
       "      <td>...</td>\n",
       "      <td>...</td>\n",
       "      <td>...</td>\n",
       "      <td>...</td>\n",
       "      <td>...</td>\n",
       "      <td>...</td>\n",
       "      <td>...</td>\n",
       "      <td>...</td>\n",
       "    </tr>\n",
       "    <tr>\n",
       "      <th>1468</th>\n",
       "      <td>385</td>\n",
       "      <td>65.17</td>\n",
       "      <td>65.19</td>\n",
       "      <td>65.13</td>\n",
       "      <td>65.15</td>\n",
       "      <td>0.027499</td>\n",
       "      <td>-0.360832</td>\n",
       "      <td>-1.053319</td>\n",
       "      <td>-0.781498</td>\n",
       "      <td>-0.284325</td>\n",
       "      <td>-0.491373</td>\n",
       "      <td>0.344517</td>\n",
       "      <td>-0.842435</td>\n",
       "      <td>-0.064929</td>\n",
       "      <td>-1.626327</td>\n",
       "      <td>0.863067</td>\n",
       "    </tr>\n",
       "    <tr>\n",
       "      <th>1469</th>\n",
       "      <td>386</td>\n",
       "      <td>65.15</td>\n",
       "      <td>65.19</td>\n",
       "      <td>65.12</td>\n",
       "      <td>65.19</td>\n",
       "      <td>0.401421</td>\n",
       "      <td>-0.370541</td>\n",
       "      <td>-0.782112</td>\n",
       "      <td>-0.798893</td>\n",
       "      <td>-0.299030</td>\n",
       "      <td>-0.505746</td>\n",
       "      <td>0.416083</td>\n",
       "      <td>-0.736377</td>\n",
       "      <td>-0.093037</td>\n",
       "      <td>-0.749543</td>\n",
       "      <td>0.935962</td>\n",
       "    </tr>\n",
       "    <tr>\n",
       "      <th>1470</th>\n",
       "      <td>387</td>\n",
       "      <td>65.19</td>\n",
       "      <td>65.19</td>\n",
       "      <td>65.13</td>\n",
       "      <td>65.15</td>\n",
       "      <td>0.848630</td>\n",
       "      <td>-0.385360</td>\n",
       "      <td>-0.971305</td>\n",
       "      <td>-0.838671</td>\n",
       "      <td>-0.311632</td>\n",
       "      <td>-0.522809</td>\n",
       "      <td>0.482538</td>\n",
       "      <td>-0.716707</td>\n",
       "      <td>-0.134543</td>\n",
       "      <td>-0.482144</td>\n",
       "      <td>0.834449</td>\n",
       "    </tr>\n",
       "    <tr>\n",
       "      <th>1471</th>\n",
       "      <td>388</td>\n",
       "      <td>65.15</td>\n",
       "      <td>65.20</td>\n",
       "      <td>65.13</td>\n",
       "      <td>65.14</td>\n",
       "      <td>-0.005158</td>\n",
       "      <td>-0.395836</td>\n",
       "      <td>-1.018158</td>\n",
       "      <td>-0.867726</td>\n",
       "      <td>-0.327410</td>\n",
       "      <td>-0.537547</td>\n",
       "      <td>0.521677</td>\n",
       "      <td>-0.677065</td>\n",
       "      <td>-0.157678</td>\n",
       "      <td>-0.711944</td>\n",
       "      <td>0.787572</td>\n",
       "    </tr>\n",
       "    <tr>\n",
       "      <th>1472</th>\n",
       "      <td>389</td>\n",
       "      <td>65.14</td>\n",
       "      <td>65.20</td>\n",
       "      <td>65.10</td>\n",
       "      <td>65.18</td>\n",
       "      <td>-0.017722</td>\n",
       "      <td>-0.406567</td>\n",
       "      <td>-0.741167</td>\n",
       "      <td>-0.841703</td>\n",
       "      <td>-0.361070</td>\n",
       "      <td>-0.538061</td>\n",
       "      <td>0.588068</td>\n",
       "      <td>-0.633625</td>\n",
       "      <td>-0.132942</td>\n",
       "      <td>-0.443576</td>\n",
       "      <td>0.833645</td>\n",
       "    </tr>\n",
       "  </tbody>\n",
       "</table>\n",
       "<p>1473 rows × 16 columns</p>\n",
       "</div>"
      ],
      "text/plain": [
       "     time   open   high    low  close    volume      MA50       RSI      MACD  \\\n",
       "0      42  68.35  68.40  68.33  68.36  0.121618  1.699062  0.803805  0.582877   \n",
       "1      43  68.37  68.38  68.35  68.36 -0.305492  1.707238  0.803805  0.565125   \n",
       "2      44  68.38  68.38  68.31  68.33 -0.213411  1.705450  0.652320  0.518791   \n",
       "3      45  68.33  68.33  68.26  68.30 -0.217055  1.699062  0.502135  0.450592   \n",
       "4      46  68.30  68.31  68.26  68.29 -0.350719  1.696251  0.451772  0.384578   \n",
       "...   ...    ...    ...    ...    ...       ...       ...       ...       ...   \n",
       "1468  385  65.17  65.19  65.13  65.15  0.027499 -0.360832 -1.053319 -0.781498   \n",
       "1469  386  65.15  65.19  65.12  65.19  0.401421 -0.370541 -0.782112 -0.798893   \n",
       "1470  387  65.19  65.19  65.13  65.15  0.848630 -0.385360 -0.971305 -0.838671   \n",
       "1471  388  65.15  65.20  65.13  65.14 -0.005158 -0.395836 -1.018158 -0.867726   \n",
       "1472  389  65.14  65.20  65.10  65.18 -0.017722 -0.406567 -0.741167 -0.841703   \n",
       "\n",
       "      BB_upper  BB_lower       ADX       CCI       ATR       ROC       OBV  \n",
       "0     1.706032  1.659184 -0.226936  0.475535  1.397213 -0.016104  2.059316  \n",
       "1     1.700603  1.677476 -0.280383  0.432600  1.203042  0.314196  2.086973  \n",
       "2     1.676647  1.715444 -0.387618  0.023131  1.084364  0.093899  2.053423  \n",
       "3     1.674890  1.719186 -0.547933 -0.886931  0.974164  0.093899  2.020106  \n",
       "4     1.658987  1.721851 -0.696796 -0.936793  0.841023  0.204112  1.995343  \n",
       "...        ...       ...       ...       ...       ...       ...       ...  \n",
       "1468 -0.284325 -0.491373  0.344517 -0.842435 -0.064929 -1.626327  0.863067  \n",
       "1469 -0.299030 -0.505746  0.416083 -0.736377 -0.093037 -0.749543  0.935962  \n",
       "1470 -0.311632 -0.522809  0.482538 -0.716707 -0.134543 -0.482144  0.834449  \n",
       "1471 -0.327410 -0.537547  0.521677 -0.677065 -0.157678 -0.711944  0.787572  \n",
       "1472 -0.361070 -0.538061  0.588068 -0.633625 -0.132942 -0.443576  0.833645  \n",
       "\n",
       "[1473 rows x 16 columns]"
      ]
     },
     "execution_count": 6,
     "metadata": {},
     "output_type": "execute_result"
    }
   ],
   "source": [
    "df_normalized, norm_param = normalize_dataframe_with_mean_std(df)\n",
    "\n",
    "# Storing Norm parameters to be used later for inference\n",
    "with open(\"C:/Users/srija/Assignment/Trading/json_files/suzlon_14_june_norm_params.json\", \"w\") as f:\n",
    "    json.dump(norm_param, f)\n",
    "\n",
    "df_normalized"
   ]
  },
  {
   "cell_type": "markdown",
   "metadata": {},
   "source": [
    "# Loading Models"
   ]
  },
  {
   "cell_type": "code",
   "execution_count": 7,
   "metadata": {},
   "outputs": [
    {
     "data": {
      "text/plain": [
       "DQN(\n",
       "  (fc1): Linear(in_features=16, out_features=1440, bias=True)\n",
       "  (fc2): Linear(in_features=1440, out_features=1024, bias=True)\n",
       "  (fc3): Linear(in_features=1024, out_features=512, bias=True)\n",
       "  (fc4): Linear(in_features=512, out_features=256, bias=True)\n",
       "  (fc5): Linear(in_features=256, out_features=128, bias=True)\n",
       "  (fc6): Linear(in_features=128, out_features=64, bias=True)\n",
       "  (fc7): Linear(in_features=64, out_features=32, bias=True)\n",
       "  (fc8): Linear(in_features=32, out_features=3, bias=True)\n",
       ")"
      ]
     },
     "execution_count": 7,
     "metadata": {},
     "output_type": "execute_result"
    }
   ],
   "source": [
    "from Models.DQN import DQN,DQNAgent\n",
    "from trading_environment import StockTradingEnv\n",
    "\n",
    "policy_net = DQN(16, 3)\n",
    "target_net = DQN(16, 3)\n",
    "target_net.load_state_dict(policy_net.state_dict())\n",
    "target_net.eval()"
   ]
  },
  {
   "cell_type": "code",
   "execution_count": 8,
   "metadata": {},
   "outputs": [
    {
     "data": {
      "text/plain": [
       "DQN(\n",
       "  (fc1): Linear(in_features=16, out_features=1440, bias=True)\n",
       "  (fc2): Linear(in_features=1440, out_features=1024, bias=True)\n",
       "  (fc3): Linear(in_features=1024, out_features=512, bias=True)\n",
       "  (fc4): Linear(in_features=512, out_features=256, bias=True)\n",
       "  (fc5): Linear(in_features=256, out_features=128, bias=True)\n",
       "  (fc6): Linear(in_features=128, out_features=64, bias=True)\n",
       "  (fc7): Linear(in_features=64, out_features=32, bias=True)\n",
       "  (fc8): Linear(in_features=32, out_features=3, bias=True)\n",
       ")"
      ]
     },
     "execution_count": 8,
     "metadata": {},
     "output_type": "execute_result"
    }
   ],
   "source": [
    "device = torch.device('cuda' if torch.cuda.is_available() else 'cpu')\n",
    "\n",
    "policy_net.to(device)\n",
    "target_net.to(device)\n"
   ]
  },
  {
   "cell_type": "code",
   "execution_count": 9,
   "metadata": {},
   "outputs": [],
   "source": [
    "def get_state(df, current_step):\n",
    "    row = df.iloc[current_step]\n",
    "    state = np.array([\n",
    "        row['time'],\n",
    "        row['open'],\n",
    "        row['high'],\n",
    "        row['low'],\n",
    "        row['close'],\n",
    "        row['volume'],\n",
    "        row['MA50'],\n",
    "        row['RSI'],\n",
    "        row['MACD'],\n",
    "        row['BB_upper'],\n",
    "        row['BB_lower'],\n",
    "        row['ADX'],\n",
    "        row['CCI'],\n",
    "        row['ATR'],\n",
    "        row['ROC'],\n",
    "        row['OBV']\n",
    "    ], dtype=np.float32)\n",
    "    return state\n"
   ]
  },
  {
   "cell_type": "code",
   "execution_count": 10,
   "metadata": {},
   "outputs": [],
   "source": [
    "save_folder = r\"C:\\Users\\srija\\Assignment\\Trading\\Models\\trained_models\\suzlon_14_june\"\n",
    "model_path = r\"C:\\Users\\srija\\Assignment\\Trading\\Models\\trained_models\\suzlon_14_june\\suzlon_14_june_6981.pth\"\n",
    "policy_net.load_state_dict(torch.load(model_path))\n",
    "policy_net.train()\n",
    "env = StockTradingEnv(df_normalized)\n",
    "agent = DQNAgent(env, policy_net, target_net)"
   ]
  },
  {
   "cell_type": "markdown",
   "metadata": {},
   "source": [
    "# Defining Reward Function"
   ]
  },
  {
   "cell_type": "code",
   "execution_count": 11,
   "metadata": {},
   "outputs": [],
   "source": [
    "def calculate_optimized_scalping_reward(delay, action_type, success_base_reward=1500, \n",
    "                                     failure_base_penalty=1000, min_delay_threshold=60, \n",
    "                                     max_reward=2500, decay_rate=0.3,\n",
    "                                     opportunity_cost_factor=0.2,\n",
    "                                     missed_opp_multiplier=2.0,\n",
    "                                     consecutive_successes=0, \n",
    "                                     consecutive_success_bonus=0.15):\n",
    "    \"\"\"\n",
    "    Comprehensive reward function optimized for scalping.\n",
    "    \"\"\"\n",
    "    delay = delay/60\n",
    "    if action_type == 'success':\n",
    "        # Delay-dependent base reward scaling\n",
    "        if delay <= min_delay_threshold:\n",
    "            base_reward = max_reward - (max_reward - success_base_reward) * (delay / min_delay_threshold)\n",
    "        else:\n",
    "            base_reward = success_base_reward\n",
    "        \n",
    "        # Apply exponential decay\n",
    "        reward = base_reward * np.exp(-decay_rate * delay)\n",
    "        \n",
    "        # Apply opportunity cost\n",
    "        opportunity_cost = opportunity_cost_factor * delay * success_base_reward\n",
    "        opportunity_cost = min(opportunity_cost, reward * 0.8)\n",
    "        reward = reward - opportunity_cost\n",
    "        \n",
    "        # Apply sequential bonus\n",
    "        if consecutive_successes > 0:\n",
    "            sequential_bonus = reward * (consecutive_success_bonus * consecutive_successes)\n",
    "            reward += sequential_bonus\n",
    "        \n",
    "        return reward\n",
    "    \n",
    "    elif action_type == 'failure':\n",
    "        # Standard penalty with exponential decay\n",
    "        penalty = -failure_base_penalty * np.exp(-decay_rate * delay)\n",
    "        \n",
    "        # Add opportunity cost to penalty\n",
    "        opportunity_cost = opportunity_cost_factor * delay * failure_base_penalty\n",
    "        penalty = penalty - opportunity_cost\n",
    "        \n",
    "        return penalty\n",
    "    \n",
    "    elif action_type == 'missed_opportunity':\n",
    "        # Enhanced penalty for missed opportunities\n",
    "        missed_penalty = -failure_base_penalty * missed_opp_multiplier * np.exp(-decay_rate * delay)\n",
    "        return missed_penalty\n",
    "    \n",
    "    elif action_type == 'no_action':\n",
    "        # Reward for correctly staying out of the market\n",
    "        return 100\n"
   ]
  },
  {
   "cell_type": "markdown",
   "metadata": {},
   "source": [
    "# Training the Model "
   ]
  },
  {
   "cell_type": "code",
   "execution_count": null,
   "metadata": {},
   "outputs": [
    {
     "name": "stderr",
     "output_type": "stream",
     "text": [
      "100%|██████████| 1473/1473 [00:00<00:00, 92365.11it/s]\n",
      "100%|██████████| 1473/1473 [00:00<00:00, 81428.31it/s]\n",
      "100%|██████████| 1473/1473 [00:00<00:00, 90762.59it/s]\n",
      "100%|██████████| 1473/1473 [00:00<00:00, 54737.40it/s]\n",
      "100%|██████████| 1473/1473 [00:00<00:00, 67159.56it/s]\n",
      "100%|██████████| 1473/1473 [00:00<00:00, 98463.80it/s]\n",
      "100%|██████████| 1473/1473 [00:00<00:00, 83681.56it/s]\n",
      "100%|██████████| 1473/1473 [00:00<00:00, 112934.77it/s]\n",
      "100%|██████████| 1473/1473 [00:00<00:00, 97643.70it/s]\n",
      "100%|██████████| 1473/1473 [00:00<00:00, 85914.67it/s]\n",
      "100%|██████████| 1473/1473 [00:00<00:00, 103312.82it/s]\n",
      "100%|██████████| 1473/1473 [00:00<00:00, 86216.80it/s]\n",
      "100%|██████████| 1473/1473 [00:00<00:00, 90347.16it/s]\n",
      "100%|██████████| 1473/1473 [00:00<00:00, 112310.67it/s]\n",
      "100%|██████████| 1473/1473 [00:00<00:00, 79617.13it/s]\n",
      "100%|██████████| 1473/1473 [00:00<00:00, 121790.92it/s]\n",
      "100%|██████████| 1473/1473 [00:00<00:00, 121838.96it/s]\n",
      "100%|██████████| 1473/1473 [00:00<00:00, 113603.45it/s]\n",
      "100%|██████████| 1473/1473 [00:00<00:00, 88937.33it/s]\n"
     ]
    },
    {
     "name": "stdout",
     "output_type": "stream",
     "text": [
      "Episode 7001\n",
      "Number of transcations: 35, Wins: 22, Lose: 4, Defeat: 9 \n"
     ]
    },
    {
     "name": "stderr",
     "output_type": "stream",
     "text": [
      "100%|██████████| 1473/1473 [00:00<00:00, 81414.36it/s]\n",
      "100%|██████████| 1473/1473 [00:00<00:00, 84649.24it/s]\n",
      "100%|██████████| 1473/1473 [00:00<00:00, 104644.47it/s]\n",
      "100%|██████████| 1473/1473 [00:00<00:00, 97047.06it/s]\n",
      "100%|██████████| 1473/1473 [00:00<00:00, 105898.25it/s]\n",
      "100%|██████████| 1473/1473 [00:00<00:00, 121108.12it/s]\n",
      "100%|██████████| 1473/1473 [00:00<00:00, 96451.64it/s]\n",
      "100%|██████████| 1473/1473 [00:00<00:00, 92367.87it/s]\n",
      "100%|██████████| 1473/1473 [00:00<00:00, 92448.04it/s]\n",
      "100%|██████████| 1473/1473 [00:00<00:00, 90426.50it/s]\n",
      "100%|██████████| 1473/1473 [00:00<00:00, 83515.28it/s]\n",
      "100%|██████████| 1473/1473 [00:00<00:00, 96350.86it/s]\n",
      "100%|██████████| 1473/1473 [00:00<00:00, 103576.08it/s]\n",
      "100%|██████████| 1473/1473 [00:00<00:00, 133119.51it/s]\n",
      "100%|██████████| 1473/1473 [00:00<00:00, 77066.75it/s]\n",
      "100%|██████████| 1473/1473 [00:00<00:00, 113634.79it/s]\n",
      "100%|██████████| 1473/1473 [00:00<00:00, 108309.84it/s]\n",
      "100%|██████████| 1473/1473 [00:00<00:00, 134338.11it/s]\n",
      "100%|██████████| 1473/1473 [00:00<00:00, 104407.51it/s]\n",
      "100%|██████████| 1473/1473 [00:00<00:00, 77768.11it/s]\n"
     ]
    },
    {
     "name": "stdout",
     "output_type": "stream",
     "text": [
      "Episode 7021\n",
      "Number of transcations: 32, Wins: 17, Lose: 4, Defeat: 11 \n"
     ]
    },
    {
     "name": "stderr",
     "output_type": "stream",
     "text": [
      "100%|██████████| 1473/1473 [00:00<00:00, 71313.09it/s]\n",
      "100%|██████████| 1473/1473 [00:00<00:00, 98525.04it/s]\n",
      "100%|██████████| 1473/1473 [00:00<00:00, 72892.35it/s]\n",
      "100%|██████████| 1473/1473 [00:00<00:00, 73474.02it/s]\n",
      "100%|██████████| 1473/1473 [00:00<00:00, 117275.86it/s]\n",
      "100%|██████████| 1473/1473 [00:00<00:00, 77388.20it/s]\n",
      "100%|██████████| 1473/1473 [00:00<00:00, 97804.46it/s]\n",
      "100%|██████████| 1473/1473 [00:00<00:00, 98498.34it/s]\n",
      "100%|██████████| 1473/1473 [00:00<00:00, 96582.82it/s]\n",
      "100%|██████████| 1473/1473 [00:00<00:00, 97680.75it/s]\n",
      "100%|██████████| 1473/1473 [00:00<00:00, 95447.32it/s]\n",
      "100%|██████████| 1473/1473 [00:00<00:00, 108214.98it/s]\n",
      "100%|██████████| 1473/1473 [00:00<00:00, 80463.25it/s]\n",
      "100%|██████████| 1473/1473 [00:00<00:00, 92410.70it/s]\n",
      "100%|██████████| 1473/1473 [00:00<00:00, 72553.37it/s]\n",
      "100%|██████████| 1473/1473 [00:00<00:00, 86909.32it/s]\n",
      "100%|██████████| 1473/1473 [00:00<00:00, 79214.93it/s]\n",
      "100%|██████████| 1473/1473 [00:00<00:00, 98504.62it/s]\n",
      "100%|██████████| 1473/1473 [00:00<00:00, 82107.91it/s]\n",
      "100%|██████████| 1473/1473 [00:00<00:00, 105536.46it/s]\n"
     ]
    },
    {
     "name": "stdout",
     "output_type": "stream",
     "text": [
      "Episode 7041\n",
      "Number of transcations: 29, Wins: 16, Lose: 4, Defeat: 9 \n"
     ]
    },
    {
     "name": "stderr",
     "output_type": "stream",
     "text": [
      "100%|██████████| 1473/1473 [00:00<00:00, 92316.80it/s]\n",
      "100%|██████████| 1473/1473 [00:00<00:00, 95204.64it/s]\n",
      "100%|██████████| 1473/1473 [00:00<00:00, 98374.44it/s]\n",
      "100%|██████████| 1473/1473 [00:00<00:00, 86257.73it/s]\n",
      "100%|██████████| 1473/1473 [00:00<00:00, 91505.99it/s]\n",
      "100%|██████████| 1473/1473 [00:00<00:00, 123130.78it/s]\n",
      "100%|██████████| 1473/1473 [00:00<00:00, 97792.07it/s]\n",
      "100%|██████████| 1473/1473 [00:00<00:00, 100793.03it/s]\n",
      "100%|██████████| 1473/1473 [00:00<00:00, 121577.62it/s]\n",
      "100%|██████████| 1473/1473 [00:00<00:00, 92374.78it/s]\n",
      "100%|██████████| 1473/1473 [00:00<00:00, 77783.78it/s]\n",
      "100%|██████████| 1473/1473 [00:00<00:00, 86184.33it/s]\n",
      "100%|██████████| 1473/1473 [00:00<00:00, 86925.22it/s]\n",
      "100%|██████████| 1473/1473 [00:00<00:00, 63775.73it/s]\n",
      "100%|██████████| 1473/1473 [00:00<00:00, 63374.05it/s]\n",
      "100%|██████████| 1473/1473 [00:00<00:00, 92363.73it/s]\n",
      "100%|██████████| 1473/1473 [00:00<00:00, 134305.99it/s]\n",
      "100%|██████████| 1473/1473 [00:00<00:00, 93326.43it/s]\n",
      "100%|██████████| 1473/1473 [00:00<00:00, 112263.73it/s]\n",
      "100%|██████████| 1473/1473 [00:00<00:00, 91662.11it/s]\n"
     ]
    },
    {
     "name": "stdout",
     "output_type": "stream",
     "text": [
      "Episode 7061\n",
      "Number of transcations: 37, Wins: 26, Lose: 4, Defeat: 7 \n"
     ]
    },
    {
     "name": "stderr",
     "output_type": "stream",
     "text": [
      "100%|██████████| 1473/1473 [00:00<00:00, 98496.77it/s]\n",
      "100%|██████████| 1473/1473 [00:00<00:00, 86091.86it/s]\n",
      "100%|██████████| 1473/1473 [00:00<00:00, 100666.58it/s]\n",
      "100%|██████████| 1473/1473 [00:00<00:00, 105568.92it/s]\n",
      "100%|██████████| 1473/1473 [00:00<00:00, 73896.73it/s]\n",
      "100%|██████████| 1473/1473 [00:00<00:00, 98504.62it/s]\n",
      "100%|██████████| 1473/1473 [00:02<00:00, 604.53it/s]\n",
      "100%|██████████| 1473/1473 [00:02<00:00, 554.27it/s]\n",
      "100%|██████████| 1473/1473 [00:02<00:00, 721.38it/s]\n",
      "100%|██████████| 1473/1473 [00:02<00:00, 528.72it/s]\n",
      "100%|██████████| 1473/1473 [00:03<00:00, 457.14it/s]\n",
      "100%|██████████| 1473/1473 [00:02<00:00, 532.58it/s]\n",
      "100%|██████████| 1473/1473 [00:04<00:00, 368.01it/s]\n",
      "100%|██████████| 1473/1473 [00:06<00:00, 243.72it/s]\n",
      "100%|██████████| 1473/1473 [00:06<00:00, 243.17it/s]\n",
      "100%|██████████| 1473/1473 [00:07<00:00, 197.99it/s]\n",
      "100%|██████████| 1473/1473 [00:06<00:00, 229.74it/s]\n",
      "100%|██████████| 1473/1473 [00:08<00:00, 182.96it/s]\n",
      "100%|██████████| 1473/1473 [00:08<00:00, 174.31it/s]\n",
      "100%|██████████| 1473/1473 [00:07<00:00, 201.24it/s]\n"
     ]
    },
    {
     "name": "stdout",
     "output_type": "stream",
     "text": [
      "Episode 7081\n",
      "Number of transcations: 34, Wins: 25, Lose: 2, Defeat: 7 \n"
     ]
    },
    {
     "name": "stderr",
     "output_type": "stream",
     "text": [
      "100%|██████████| 1473/1473 [00:06<00:00, 218.77it/s]\n",
      "100%|██████████| 1473/1473 [00:06<00:00, 211.29it/s]\n",
      "100%|██████████| 1473/1473 [00:06<00:00, 240.69it/s]\n",
      "100%|██████████| 1473/1473 [00:06<00:00, 241.93it/s]\n",
      "100%|██████████| 1473/1473 [00:05<00:00, 254.85it/s]\n",
      "100%|██████████| 1473/1473 [00:06<00:00, 235.73it/s]\n",
      "100%|██████████| 1473/1473 [00:05<00:00, 254.84it/s]\n",
      "100%|██████████| 1473/1473 [00:06<00:00, 211.77it/s]\n",
      "100%|██████████| 1473/1473 [00:06<00:00, 240.25it/s]\n",
      "100%|██████████| 1473/1473 [00:06<00:00, 240.44it/s]\n",
      "100%|██████████| 1473/1473 [00:05<00:00, 246.15it/s]\n",
      "100%|██████████| 1473/1473 [00:05<00:00, 270.34it/s]\n",
      "100%|██████████| 1473/1473 [00:06<00:00, 223.41it/s]\n",
      "100%|██████████| 1473/1473 [00:07<00:00, 204.44it/s]\n",
      "100%|██████████| 1473/1473 [00:06<00:00, 225.95it/s]\n",
      "100%|██████████| 1473/1473 [00:05<00:00, 256.67it/s]\n",
      "100%|██████████| 1473/1473 [00:07<00:00, 194.83it/s]\n",
      "100%|██████████| 1473/1473 [00:06<00:00, 237.94it/s]\n",
      "100%|██████████| 1473/1473 [00:07<00:00, 189.03it/s]\n",
      "100%|██████████| 1473/1473 [00:05<00:00, 246.27it/s]\n"
     ]
    },
    {
     "name": "stdout",
     "output_type": "stream",
     "text": [
      "Episode 7101\n",
      "Number of transcations: 34, Wins: 27, Lose: 2, Defeat: 5 \n"
     ]
    },
    {
     "name": "stderr",
     "output_type": "stream",
     "text": [
      "100%|██████████| 1473/1473 [00:20<00:00, 72.23it/s] \n",
      "100%|██████████| 1473/1473 [00:06<00:00, 225.77it/s]\n",
      "100%|██████████| 1473/1473 [00:05<00:00, 252.47it/s]\n",
      "100%|██████████| 1473/1473 [00:06<00:00, 213.33it/s]\n",
      "100%|██████████| 1473/1473 [00:07<00:00, 204.08it/s]\n",
      "100%|██████████| 1473/1473 [00:09<00:00, 156.36it/s]\n",
      "100%|██████████| 1473/1473 [00:07<00:00, 204.86it/s]\n",
      "100%|██████████| 1473/1473 [00:06<00:00, 218.71it/s]\n",
      "100%|██████████| 1473/1473 [00:34<00:00, 42.51it/s] \n",
      "100%|██████████| 1473/1473 [00:06<00:00, 240.35it/s]\n",
      "100%|██████████| 1473/1473 [00:40<00:00, 36.49it/s] \n",
      "100%|██████████| 1473/1473 [00:05<00:00, 264.40it/s]\n",
      "100%|██████████| 1473/1473 [5:38:28<00:00, 13.79s/it]  \n",
      "100%|██████████| 1473/1473 [00:05<00:00, 267.40it/s]\n",
      "100%|██████████| 1473/1473 [00:04<00:00, 317.00it/s]\n",
      "100%|██████████| 1473/1473 [00:09<00:00, 152.71it/s]\n",
      "100%|██████████| 1473/1473 [00:05<00:00, 289.49it/s]\n",
      "100%|██████████| 1473/1473 [00:05<00:00, 283.70it/s]\n",
      "100%|██████████| 1473/1473 [00:05<00:00, 292.76it/s]\n",
      "100%|██████████| 1473/1473 [00:04<00:00, 324.44it/s]\n"
     ]
    },
    {
     "name": "stdout",
     "output_type": "stream",
     "text": [
      "Episode 7121\n",
      "Number of transcations: 32, Wins: 18, Lose: 3, Defeat: 11 \n"
     ]
    },
    {
     "name": "stderr",
     "output_type": "stream",
     "text": [
      "100%|██████████| 1473/1473 [00:05<00:00, 276.25it/s]\n",
      "100%|██████████| 1473/1473 [00:06<00:00, 225.10it/s]\n",
      "100%|██████████| 1473/1473 [00:05<00:00, 249.85it/s]\n",
      "100%|██████████| 1473/1473 [00:06<00:00, 236.86it/s]\n",
      "100%|██████████| 1473/1473 [00:06<00:00, 221.48it/s]\n",
      "100%|██████████| 1473/1473 [00:06<00:00, 216.38it/s]\n",
      "100%|██████████| 1473/1473 [00:06<00:00, 227.22it/s]\n",
      "100%|██████████| 1473/1473 [00:07<00:00, 207.93it/s]\n",
      "100%|██████████| 1473/1473 [00:06<00:00, 212.42it/s]\n",
      "100%|██████████| 1473/1473 [00:06<00:00, 218.46it/s]\n",
      "100%|██████████| 1473/1473 [00:06<00:00, 226.74it/s]\n",
      "100%|██████████| 1473/1473 [00:06<00:00, 231.62it/s]\n",
      "100%|██████████| 1473/1473 [00:07<00:00, 199.27it/s]\n",
      "100%|██████████| 1473/1473 [00:06<00:00, 218.25it/s]\n",
      "100%|██████████| 1473/1473 [00:07<00:00, 185.64it/s]\n",
      "100%|██████████| 1473/1473 [00:05<00:00, 292.79it/s]\n",
      "100%|██████████| 1473/1473 [00:07<00:00, 206.87it/s]\n",
      "100%|██████████| 1473/1473 [00:06<00:00, 212.62it/s]\n",
      "100%|██████████| 1473/1473 [00:07<00:00, 208.86it/s]\n",
      "100%|██████████| 1473/1473 [00:07<00:00, 198.80it/s]\n"
     ]
    },
    {
     "name": "stdout",
     "output_type": "stream",
     "text": [
      "Episode 7141\n",
      "Number of transcations: 34, Wins: 22, Lose: 2, Defeat: 10 \n"
     ]
    },
    {
     "name": "stderr",
     "output_type": "stream",
     "text": [
      "100%|██████████| 1473/1473 [00:05<00:00, 253.91it/s]\n",
      "100%|██████████| 1473/1473 [00:08<00:00, 180.97it/s]\n",
      "100%|██████████| 1473/1473 [00:09<00:00, 157.33it/s]\n",
      "100%|██████████| 1473/1473 [00:05<00:00, 253.66it/s]\n",
      "100%|██████████| 1473/1473 [00:07<00:00, 190.93it/s]\n",
      "100%|██████████| 1473/1473 [00:08<00:00, 168.05it/s]\n",
      "100%|██████████| 1473/1473 [00:08<00:00, 174.99it/s]\n",
      "100%|██████████| 1473/1473 [00:07<00:00, 191.67it/s]\n",
      "100%|██████████| 1473/1473 [00:08<00:00, 167.95it/s]\n",
      "100%|██████████| 1473/1473 [00:09<00:00, 151.89it/s]\n",
      "100%|██████████| 1473/1473 [00:08<00:00, 168.47it/s]\n",
      "100%|██████████| 1473/1473 [00:07<00:00, 185.59it/s]\n",
      "100%|██████████| 1473/1473 [00:08<00:00, 173.61it/s]\n",
      "100%|██████████| 1473/1473 [00:08<00:00, 166.84it/s]\n",
      "100%|██████████| 1473/1473 [00:09<00:00, 158.65it/s]\n",
      "100%|██████████| 1473/1473 [00:09<00:00, 160.27it/s]\n",
      "100%|██████████| 1473/1473 [00:10<00:00, 146.29it/s]\n",
      "100%|██████████| 1473/1473 [00:09<00:00, 148.50it/s]\n",
      "100%|██████████| 1473/1473 [00:10<00:00, 142.16it/s]\n",
      "100%|██████████| 1473/1473 [00:08<00:00, 165.09it/s]\n"
     ]
    },
    {
     "name": "stdout",
     "output_type": "stream",
     "text": [
      "Episode 7161\n",
      "Number of transcations: 37, Wins: 28, Lose: 1, Defeat: 8 \n"
     ]
    },
    {
     "name": "stderr",
     "output_type": "stream",
     "text": [
      "100%|██████████| 1473/1473 [00:09<00:00, 157.66it/s]\n",
      "100%|██████████| 1473/1473 [00:08<00:00, 171.60it/s]\n",
      "100%|██████████| 1473/1473 [00:11<00:00, 132.01it/s]\n",
      "100%|██████████| 1473/1473 [00:11<00:00, 127.72it/s]\n",
      "100%|██████████| 1473/1473 [00:12<00:00, 117.25it/s]\n",
      "100%|██████████| 1473/1473 [00:07<00:00, 199.51it/s]\n",
      "100%|██████████| 1473/1473 [00:09<00:00, 162.93it/s]\n",
      "100%|██████████| 1473/1473 [00:07<00:00, 194.98it/s]\n",
      "100%|██████████| 1473/1473 [00:08<00:00, 164.10it/s]\n",
      "100%|██████████| 1473/1473 [00:07<00:00, 187.90it/s]\n",
      "100%|██████████| 1473/1473 [00:07<00:00, 185.78it/s]\n",
      "100%|██████████| 1473/1473 [00:07<00:00, 203.30it/s]\n",
      "100%|██████████| 1473/1473 [00:09<00:00, 161.42it/s]\n",
      "100%|██████████| 1473/1473 [00:11<00:00, 129.06it/s]\n",
      "100%|██████████| 1473/1473 [00:08<00:00, 175.58it/s]\n",
      "100%|██████████| 1473/1473 [00:11<00:00, 132.27it/s]\n",
      "100%|██████████| 1473/1473 [00:07<00:00, 195.42it/s]\n",
      "100%|██████████| 1473/1473 [00:09<00:00, 160.37it/s]\n",
      "100%|██████████| 1473/1473 [00:11<00:00, 123.43it/s]\n",
      "100%|██████████| 1473/1473 [00:09<00:00, 157.72it/s]\n"
     ]
    },
    {
     "name": "stdout",
     "output_type": "stream",
     "text": [
      "Episode 7181\n",
      "Number of transcations: 39, Wins: 30, Lose: 0, Defeat: 9 \n"
     ]
    },
    {
     "name": "stderr",
     "output_type": "stream",
     "text": [
      "100%|██████████| 1473/1473 [00:11<00:00, 128.25it/s]\n",
      "100%|██████████| 1473/1473 [00:09<00:00, 161.53it/s]\n",
      "100%|██████████| 1473/1473 [00:08<00:00, 183.85it/s]\n",
      "100%|██████████| 1473/1473 [00:12<00:00, 117.44it/s]\n",
      "100%|██████████| 1473/1473 [00:08<00:00, 167.69it/s]\n",
      "100%|██████████| 1473/1473 [00:09<00:00, 162.59it/s]\n",
      "100%|██████████| 1473/1473 [00:09<00:00, 161.73it/s]\n",
      "100%|██████████| 1473/1473 [00:09<00:00, 151.15it/s]\n",
      "100%|██████████| 1473/1473 [00:09<00:00, 162.22it/s]\n",
      "100%|██████████| 1473/1473 [00:16<00:00, 89.03it/s] \n",
      "100%|██████████| 1473/1473 [00:15<00:00, 95.34it/s] \n",
      "100%|██████████| 1473/1473 [00:11<00:00, 126.41it/s]\n",
      "100%|██████████| 1473/1473 [00:14<00:00, 99.87it/s] \n",
      "100%|██████████| 1473/1473 [00:10<00:00, 144.12it/s]\n",
      "100%|██████████| 1473/1473 [00:18<00:00, 80.80it/s] \n",
      "100%|██████████| 1473/1473 [00:15<00:00, 98.15it/s] \n",
      "100%|██████████| 1473/1473 [00:14<00:00, 98.31it/s] \n",
      "100%|██████████| 1473/1473 [00:11<00:00, 128.75it/s]\n",
      "100%|██████████| 1473/1473 [00:16<00:00, 91.55it/s] \n",
      "100%|██████████| 1473/1473 [00:15<00:00, 96.71it/s] \n"
     ]
    },
    {
     "name": "stdout",
     "output_type": "stream",
     "text": [
      "Episode 7201\n",
      "Number of transcations: 39, Wins: 31, Lose: 1, Defeat: 7 \n"
     ]
    },
    {
     "name": "stderr",
     "output_type": "stream",
     "text": [
      "100%|██████████| 1473/1473 [00:10<00:00, 140.28it/s]\n",
      "100%|██████████| 1473/1473 [00:10<00:00, 146.29it/s]\n",
      "100%|██████████| 1473/1473 [00:08<00:00, 171.75it/s]\n",
      "100%|██████████| 1473/1473 [00:08<00:00, 175.91it/s]\n",
      "100%|██████████| 1473/1473 [00:10<00:00, 136.81it/s]\n",
      "100%|██████████| 1473/1473 [00:08<00:00, 179.76it/s]\n",
      "100%|██████████| 1473/1473 [00:09<00:00, 154.68it/s]\n",
      "100%|██████████| 1473/1473 [00:11<00:00, 133.37it/s]\n",
      "100%|██████████| 1473/1473 [00:10<00:00, 134.48it/s]\n",
      "100%|██████████| 1473/1473 [00:11<00:00, 133.22it/s]\n",
      "100%|██████████| 1473/1473 [00:09<00:00, 161.84it/s]\n",
      "100%|██████████| 1473/1473 [00:10<00:00, 134.38it/s]\n",
      "100%|██████████| 1473/1473 [00:08<00:00, 177.26it/s]\n",
      "100%|██████████| 1473/1473 [00:16<00:00, 88.09it/s] \n",
      "100%|██████████| 1473/1473 [00:15<00:00, 97.56it/s] \n",
      "100%|██████████| 1473/1473 [00:18<00:00, 80.96it/s] \n",
      "100%|██████████| 1473/1473 [00:10<00:00, 144.47it/s]\n",
      "100%|██████████| 1473/1473 [00:18<00:00, 79.96it/s] \n",
      "100%|██████████| 1473/1473 [00:10<00:00, 142.68it/s]\n",
      "100%|██████████| 1473/1473 [00:11<00:00, 128.27it/s]\n"
     ]
    },
    {
     "name": "stdout",
     "output_type": "stream",
     "text": [
      "Episode 7221\n",
      "Number of transcations: 34, Wins: 27, Lose: 2, Defeat: 5 \n"
     ]
    },
    {
     "name": "stderr",
     "output_type": "stream",
     "text": [
      "100%|██████████| 1473/1473 [00:07<00:00, 189.61it/s]\n",
      "100%|██████████| 1473/1473 [00:15<00:00, 97.20it/s] \n",
      "100%|██████████| 1473/1473 [00:13<00:00, 107.03it/s]\n",
      "100%|██████████| 1473/1473 [00:14<00:00, 102.10it/s]\n",
      "100%|██████████| 1473/1473 [00:14<00:00, 103.48it/s]\n",
      "100%|██████████| 1473/1473 [00:09<00:00, 152.59it/s]\n",
      "100%|██████████| 1473/1473 [00:17<00:00, 86.45it/s] \n",
      "100%|██████████| 1473/1473 [00:11<00:00, 133.06it/s]\n",
      "100%|██████████| 1473/1473 [00:13<00:00, 113.06it/s]\n",
      "100%|██████████| 1473/1473 [00:17<00:00, 81.90it/s] \n",
      "100%|██████████| 1473/1473 [00:10<00:00, 134.69it/s]\n",
      "100%|██████████| 1473/1473 [00:10<00:00, 134.02it/s]\n",
      "100%|██████████| 1473/1473 [00:10<00:00, 135.88it/s]\n",
      "100%|██████████| 1473/1473 [00:11<00:00, 133.45it/s]\n",
      "100%|██████████| 1473/1473 [00:09<00:00, 147.43it/s]\n",
      "100%|██████████| 1473/1473 [00:18<00:00, 79.32it/s] \n",
      "100%|██████████| 1473/1473 [00:09<00:00, 151.98it/s]\n",
      "100%|██████████| 1473/1473 [00:08<00:00, 180.98it/s]\n",
      "100%|██████████| 1473/1473 [00:11<00:00, 124.71it/s]\n",
      "100%|██████████| 1473/1473 [00:17<00:00, 83.56it/s] \n"
     ]
    },
    {
     "name": "stdout",
     "output_type": "stream",
     "text": [
      "Episode 7241\n",
      "Number of transcations: 35, Wins: 29, Lose: 0, Defeat: 6 \n"
     ]
    },
    {
     "name": "stderr",
     "output_type": "stream",
     "text": [
      "100%|██████████| 1473/1473 [00:09<00:00, 157.62it/s]\n",
      "100%|██████████| 1473/1473 [00:14<00:00, 101.61it/s]\n",
      "100%|██████████| 1473/1473 [00:07<00:00, 184.42it/s]\n",
      "100%|██████████| 1473/1473 [00:15<00:00, 97.46it/s] \n",
      "100%|██████████| 1473/1473 [00:11<00:00, 131.00it/s]\n",
      "100%|██████████| 1473/1473 [00:09<00:00, 159.61it/s]\n",
      "100%|██████████| 1473/1473 [00:09<00:00, 161.47it/s]\n",
      "100%|██████████| 1473/1473 [00:07<00:00, 199.23it/s]\n",
      "100%|██████████| 1473/1473 [00:10<00:00, 143.21it/s]\n",
      "100%|██████████| 1473/1473 [00:10<00:00, 143.54it/s]\n",
      "100%|██████████| 1473/1473 [00:11<00:00, 133.82it/s]\n",
      "100%|██████████| 1473/1473 [00:10<00:00, 137.28it/s]\n",
      "100%|██████████| 1473/1473 [00:10<00:00, 139.18it/s]\n",
      "100%|██████████| 1473/1473 [00:11<00:00, 125.85it/s]\n",
      "100%|██████████| 1473/1473 [00:11<00:00, 128.72it/s]\n",
      "100%|██████████| 1473/1473 [00:15<00:00, 92.46it/s] \n",
      "100%|██████████| 1473/1473 [00:09<00:00, 157.55it/s]\n",
      "100%|██████████| 1473/1473 [00:09<00:00, 153.70it/s]\n",
      "100%|██████████| 1473/1473 [00:12<00:00, 122.67it/s]\n",
      "100%|██████████| 1473/1473 [00:11<00:00, 130.94it/s]\n"
     ]
    },
    {
     "name": "stdout",
     "output_type": "stream",
     "text": [
      "Episode 7261\n",
      "Number of transcations: 40, Wins: 33, Lose: 0, Defeat: 7 \n"
     ]
    },
    {
     "name": "stderr",
     "output_type": "stream",
     "text": [
      "100%|██████████| 1473/1473 [00:12<00:00, 113.69it/s]\n",
      "100%|██████████| 1473/1473 [00:11<00:00, 125.75it/s]\n",
      "100%|██████████| 1473/1473 [00:07<00:00, 188.91it/s]\n",
      "100%|██████████| 1473/1473 [00:11<00:00, 127.02it/s]\n",
      "100%|██████████| 1473/1473 [00:14<00:00, 104.85it/s]\n",
      "100%|██████████| 1473/1473 [00:06<00:00, 213.36it/s]\n",
      "100%|██████████| 1473/1473 [00:14<00:00, 104.99it/s]\n",
      "100%|██████████| 1473/1473 [00:09<00:00, 160.93it/s]\n",
      "100%|██████████| 1473/1473 [00:12<00:00, 120.99it/s]\n",
      "100%|██████████| 1473/1473 [00:10<00:00, 136.52it/s]\n",
      "100%|██████████| 1473/1473 [00:11<00:00, 129.63it/s]\n",
      "100%|██████████| 1473/1473 [00:11<00:00, 126.68it/s]\n",
      "100%|██████████| 1473/1473 [00:15<00:00, 97.85it/s] \n",
      "100%|██████████| 1473/1473 [00:14<00:00, 98.75it/s] \n",
      "100%|██████████| 1473/1473 [00:15<00:00, 95.51it/s] \n",
      "100%|██████████| 1473/1473 [00:13<00:00, 107.54it/s]\n",
      "100%|██████████| 1473/1473 [00:14<00:00, 100.58it/s]\n",
      "100%|██████████| 1473/1473 [00:12<00:00, 120.45it/s]\n",
      "100%|██████████| 1473/1473 [00:15<00:00, 97.49it/s] \n",
      "100%|██████████| 1473/1473 [00:15<00:00, 95.48it/s] \n"
     ]
    },
    {
     "name": "stdout",
     "output_type": "stream",
     "text": [
      "Episode 7281\n",
      "Number of transcations: 41, Wins: 31, Lose: 2, Defeat: 8 \n"
     ]
    },
    {
     "name": "stderr",
     "output_type": "stream",
     "text": [
      "100%|██████████| 1473/1473 [00:11<00:00, 126.21it/s]\n",
      "100%|██████████| 1473/1473 [00:10<00:00, 136.11it/s]\n",
      "100%|██████████| 1473/1473 [00:13<00:00, 112.97it/s]\n",
      "100%|██████████| 1473/1473 [00:10<00:00, 134.33it/s]\n",
      "100%|██████████| 1473/1473 [00:20<00:00, 72.47it/s] \n",
      "100%|██████████| 1473/1473 [00:12<00:00, 116.18it/s]\n",
      "100%|██████████| 1473/1473 [00:20<00:00, 71.89it/s] \n",
      "100%|██████████| 1473/1473 [00:20<00:00, 70.56it/s] \n",
      "100%|██████████| 1473/1473 [00:16<00:00, 91.40it/s] \n",
      "100%|██████████| 1473/1473 [00:12<00:00, 113.46it/s]\n",
      "100%|██████████| 1473/1473 [00:13<00:00, 107.34it/s]\n",
      "100%|██████████| 1473/1473 [00:10<00:00, 139.01it/s]\n",
      "100%|██████████| 1473/1473 [00:15<00:00, 95.97it/s] \n",
      "100%|██████████| 1473/1473 [00:12<00:00, 114.64it/s]\n",
      "100%|██████████| 1473/1473 [00:19<00:00, 73.99it/s] \n",
      "100%|██████████| 1473/1473 [00:20<00:00, 70.89it/s] \n",
      "100%|██████████| 1473/1473 [00:20<00:00, 71.31it/s] \n",
      "100%|██████████| 1473/1473 [00:16<00:00, 89.22it/s] \n",
      "100%|██████████| 1473/1473 [00:12<00:00, 122.70it/s]\n",
      "100%|██████████| 1473/1473 [00:17<00:00, 82.94it/s] \n"
     ]
    },
    {
     "name": "stdout",
     "output_type": "stream",
     "text": [
      "Episode 7301\n",
      "Number of transcations: 38, Wins: 27, Lose: 2, Defeat: 9 \n"
     ]
    },
    {
     "name": "stderr",
     "output_type": "stream",
     "text": [
      "100%|██████████| 1473/1473 [00:11<00:00, 125.16it/s]\n",
      "100%|██████████| 1473/1473 [00:11<00:00, 123.87it/s]\n",
      "100%|██████████| 1473/1473 [00:13<00:00, 105.79it/s]\n",
      "100%|██████████| 1473/1473 [00:14<00:00, 100.67it/s]\n",
      "100%|██████████| 1473/1473 [00:21<00:00, 68.85it/s] \n",
      "100%|██████████| 1473/1473 [00:16<00:00, 88.38it/s] \n",
      "100%|██████████| 1473/1473 [00:20<00:00, 70.59it/s] \n",
      "100%|██████████| 1473/1473 [00:20<00:00, 71.34it/s] \n",
      "100%|██████████| 1473/1473 [00:14<00:00, 103.28it/s]\n",
      "100%|██████████| 1473/1473 [00:12<00:00, 114.47it/s]\n",
      "100%|██████████| 1473/1473 [00:14<00:00, 102.98it/s]\n",
      "100%|██████████| 1473/1473 [00:13<00:00, 109.54it/s]\n",
      "100%|██████████| 1473/1473 [00:13<00:00, 105.82it/s]\n",
      "100%|██████████| 1473/1473 [00:14<00:00, 100.07it/s]\n",
      "100%|██████████| 1473/1473 [00:14<00:00, 103.58it/s]\n",
      "100%|██████████| 1473/1473 [00:13<00:00, 111.15it/s]\n",
      "100%|██████████| 1473/1473 [00:13<00:00, 109.30it/s]\n",
      "100%|██████████| 1473/1473 [00:17<00:00, 86.19it/s] \n",
      "100%|██████████| 1473/1473 [00:23<00:00, 62.10it/s] \n",
      "100%|██████████| 1473/1473 [00:15<00:00, 94.58it/s] \n"
     ]
    },
    {
     "name": "stdout",
     "output_type": "stream",
     "text": [
      "Episode 7321\n",
      "Number of transcations: 35, Wins: 28, Lose: 1, Defeat: 6 \n"
     ]
    },
    {
     "name": "stderr",
     "output_type": "stream",
     "text": [
      "100%|██████████| 1473/1473 [00:12<00:00, 117.50it/s]\n",
      "100%|██████████| 1473/1473 [00:08<00:00, 178.37it/s]\n",
      "100%|██████████| 1473/1473 [00:13<00:00, 106.37it/s]\n",
      "100%|██████████| 1473/1473 [00:11<00:00, 127.30it/s]\n",
      "100%|██████████| 1473/1473 [00:23<00:00, 62.06it/s] \n",
      "100%|██████████| 1473/1473 [00:13<00:00, 106.70it/s]\n",
      "100%|██████████| 1473/1473 [00:16<00:00, 89.79it/s] \n",
      "100%|██████████| 1473/1473 [00:13<00:00, 109.70it/s]\n",
      "100%|██████████| 1473/1473 [00:15<00:00, 94.52it/s] \n",
      "100%|██████████| 1473/1473 [00:16<00:00, 86.93it/s] \n",
      "100%|██████████| 1473/1473 [00:17<00:00, 82.87it/s] \n",
      "100%|██████████| 1473/1473 [00:21<00:00, 68.41it/s] \n",
      "100%|██████████| 1473/1473 [00:22<00:00, 65.85it/s] \n",
      "100%|██████████| 1473/1473 [00:20<00:00, 70.99it/s] \n",
      "100%|██████████| 1473/1473 [00:18<00:00, 78.75it/s] \n",
      "100%|██████████| 1473/1473 [00:21<00:00, 67.94it/s] \n",
      "100%|██████████| 1473/1473 [00:23<00:00, 62.01it/s] \n",
      "100%|██████████| 1473/1473 [00:14<00:00, 101.98it/s]\n",
      "100%|██████████| 1473/1473 [00:16<00:00, 87.32it/s] \n",
      "100%|██████████| 1473/1473 [00:22<00:00, 64.51it/s] \n"
     ]
    },
    {
     "name": "stdout",
     "output_type": "stream",
     "text": [
      "Episode 7341\n",
      "Number of transcations: 35, Wins: 26, Lose: 1, Defeat: 8 \n"
     ]
    },
    {
     "name": "stderr",
     "output_type": "stream",
     "text": [
      "100%|██████████| 1473/1473 [00:17<00:00, 83.74it/s] \n",
      "100%|██████████| 1473/1473 [00:14<00:00, 98.41it/s] \n",
      "100%|██████████| 1473/1473 [00:17<00:00, 82.77it/s] \n",
      "100%|██████████| 1473/1473 [00:15<00:00, 97.97it/s] \n",
      "100%|██████████| 1473/1473 [00:13<00:00, 111.80it/s]\n",
      "100%|██████████| 1473/1473 [00:19<00:00, 76.46it/s] \n",
      "100%|██████████| 1473/1473 [00:17<00:00, 83.21it/s] \n",
      "100%|██████████| 1473/1473 [00:17<00:00, 84.68it/s] \n",
      "100%|██████████| 1473/1473 [00:14<00:00, 103.09it/s]\n",
      "100%|██████████| 1473/1473 [00:14<00:00, 98.40it/s] \n",
      "100%|██████████| 1473/1473 [00:19<00:00, 74.57it/s] \n",
      "100%|██████████| 1473/1473 [00:22<00:00, 65.14it/s] \n",
      "100%|██████████| 1473/1473 [00:14<00:00, 100.21it/s]\n",
      "100%|██████████| 1473/1473 [00:12<00:00, 117.07it/s]\n",
      "100%|██████████| 1473/1473 [00:13<00:00, 105.69it/s]\n",
      "100%|██████████| 1473/1473 [00:12<00:00, 116.22it/s]\n",
      "100%|██████████| 1473/1473 [00:10<00:00, 147.23it/s]\n",
      "100%|██████████| 1473/1473 [00:15<00:00, 94.48it/s] \n",
      "100%|██████████| 1473/1473 [00:16<00:00, 87.34it/s] \n",
      "100%|██████████| 1473/1473 [00:12<00:00, 115.79it/s]\n"
     ]
    },
    {
     "name": "stdout",
     "output_type": "stream",
     "text": [
      "Episode 7361\n",
      "Number of transcations: 37, Wins: 27, Lose: 2, Defeat: 8 \n"
     ]
    },
    {
     "name": "stderr",
     "output_type": "stream",
     "text": [
      "100%|██████████| 1473/1473 [00:10<00:00, 141.20it/s]\n",
      "100%|██████████| 1473/1473 [00:05<00:00, 248.83it/s]\n",
      "100%|██████████| 1473/1473 [00:10<00:00, 143.89it/s]\n",
      "100%|██████████| 1473/1473 [00:10<00:00, 134.67it/s]\n",
      "100%|██████████| 1473/1473 [00:12<00:00, 119.71it/s]\n",
      "100%|██████████| 1473/1473 [00:11<00:00, 130.74it/s]\n",
      "100%|██████████| 1473/1473 [00:11<00:00, 125.43it/s]\n",
      "100%|██████████| 1473/1473 [00:20<00:00, 73.04it/s] \n",
      "100%|██████████| 1473/1473 [00:09<00:00, 159.46it/s]\n",
      "100%|██████████| 1473/1473 [00:12<00:00, 119.14it/s]\n",
      "100%|██████████| 1473/1473 [00:11<00:00, 129.93it/s]\n",
      "100%|██████████| 1473/1473 [00:18<00:00, 79.42it/s] \n",
      "100%|██████████| 1473/1473 [00:17<00:00, 83.58it/s] \n",
      "100%|██████████| 1473/1473 [00:11<00:00, 123.89it/s]\n",
      "100%|██████████| 1473/1473 [00:19<00:00, 76.93it/s] \n",
      "100%|██████████| 1473/1473 [00:17<00:00, 83.36it/s] \n",
      "100%|██████████| 1473/1473 [00:14<00:00, 98.40it/s] \n",
      "100%|██████████| 1473/1473 [00:18<00:00, 78.68it/s] \n",
      "100%|██████████| 1473/1473 [00:19<00:00, 73.83it/s] \n",
      "100%|██████████| 1473/1473 [00:12<00:00, 118.85it/s]\n"
     ]
    },
    {
     "name": "stdout",
     "output_type": "stream",
     "text": [
      "Episode 7381\n",
      "Number of transcations: 33, Wins: 26, Lose: 2, Defeat: 5 \n"
     ]
    },
    {
     "name": "stderr",
     "output_type": "stream",
     "text": [
      "100%|██████████| 1473/1473 [00:13<00:00, 108.26it/s]\n",
      "100%|██████████| 1473/1473 [00:14<00:00, 103.90it/s]\n",
      "100%|██████████| 1473/1473 [00:15<00:00, 94.63it/s] \n",
      "100%|██████████| 1473/1473 [00:12<00:00, 114.94it/s]\n",
      "100%|██████████| 1473/1473 [00:16<00:00, 88.52it/s] \n",
      "100%|██████████| 1473/1473 [00:15<00:00, 93.91it/s] \n",
      "100%|██████████| 1473/1473 [00:17<00:00, 82.57it/s] \n",
      "100%|██████████| 1473/1473 [00:18<00:00, 79.76it/s] \n",
      "100%|██████████| 1473/1473 [00:18<00:00, 78.22it/s] \n",
      "100%|██████████| 1473/1473 [00:17<00:00, 85.85it/s] \n",
      "100%|██████████| 1473/1473 [00:16<00:00, 89.66it/s] \n",
      "100%|██████████| 1473/1473 [00:22<00:00, 64.74it/s] \n",
      "100%|██████████| 1473/1473 [00:17<00:00, 83.99it/s] \n",
      "100%|██████████| 1473/1473 [00:19<00:00, 74.74it/s] \n",
      "100%|██████████| 1473/1473 [00:17<00:00, 82.09it/s] \n",
      "100%|██████████| 1473/1473 [00:17<00:00, 83.36it/s] \n",
      "100%|██████████| 1473/1473 [00:25<00:00, 56.86it/s] \n",
      "100%|██████████| 1473/1473 [00:18<00:00, 81.78it/s] \n",
      "100%|██████████| 1473/1473 [00:19<00:00, 75.11it/s] \n",
      "100%|██████████| 1473/1473 [00:14<00:00, 102.97it/s]\n"
     ]
    },
    {
     "name": "stdout",
     "output_type": "stream",
     "text": [
      "Episode 7401\n",
      "Number of transcations: 32, Wins: 24, Lose: 2, Defeat: 6 \n"
     ]
    },
    {
     "name": "stderr",
     "output_type": "stream",
     "text": [
      "100%|██████████| 1473/1473 [00:15<00:00, 94.27it/s] \n",
      "100%|██████████| 1473/1473 [00:17<00:00, 86.59it/s] \n",
      "100%|██████████| 1473/1473 [00:10<00:00, 135.16it/s]\n",
      "100%|██████████| 1473/1473 [00:18<00:00, 79.03it/s] \n",
      "100%|██████████| 1473/1473 [00:10<00:00, 134.42it/s]\n",
      "100%|██████████| 1473/1473 [00:16<00:00, 86.74it/s] \n",
      "100%|██████████| 1473/1473 [00:18<00:00, 80.89it/s] \n",
      "100%|██████████| 1473/1473 [00:14<00:00, 101.02it/s]\n",
      "100%|██████████| 1473/1473 [00:18<00:00, 79.92it/s] \n",
      "100%|██████████| 1473/1473 [00:18<00:00, 78.77it/s] \n",
      "100%|██████████| 1473/1473 [00:20<00:00, 72.26it/s] \n",
      "100%|██████████| 1473/1473 [00:13<00:00, 111.68it/s]\n",
      "100%|██████████| 1473/1473 [00:18<00:00, 81.09it/s] \n",
      "100%|██████████| 1473/1473 [00:12<00:00, 114.65it/s]\n",
      "100%|██████████| 1473/1473 [00:18<00:00, 79.82it/s] \n",
      "100%|██████████| 1473/1473 [00:18<00:00, 80.31it/s] \n",
      "100%|██████████| 1473/1473 [00:22<00:00, 65.76it/s] \n",
      "100%|██████████| 1473/1473 [00:15<00:00, 95.21it/s] \n",
      "100%|██████████| 1473/1473 [00:18<00:00, 78.99it/s] \n",
      "100%|██████████| 1473/1473 [00:22<00:00, 64.36it/s] \n"
     ]
    },
    {
     "name": "stdout",
     "output_type": "stream",
     "text": [
      "Episode 7421\n",
      "Number of transcations: 31, Wins: 26, Lose: 1, Defeat: 4 \n"
     ]
    },
    {
     "name": "stderr",
     "output_type": "stream",
     "text": [
      "100%|██████████| 1473/1473 [00:14<00:00, 103.38it/s]\n",
      "100%|██████████| 1473/1473 [00:13<00:00, 111.47it/s]\n",
      "100%|██████████| 1473/1473 [00:14<00:00, 102.24it/s]\n",
      "100%|██████████| 1473/1473 [00:21<00:00, 70.11it/s] \n",
      "100%|██████████| 1473/1473 [00:13<00:00, 105.96it/s]\n",
      "100%|██████████| 1473/1473 [00:15<00:00, 93.96it/s] \n",
      "100%|██████████| 1473/1473 [00:11<00:00, 132.79it/s]\n",
      "100%|██████████| 1473/1473 [00:11<00:00, 128.25it/s]\n",
      "100%|██████████| 1473/1473 [00:21<00:00, 67.12it/s] \n",
      "100%|██████████| 1473/1473 [00:17<00:00, 83.70it/s] \n",
      "100%|██████████| 1473/1473 [00:17<00:00, 82.64it/s] \n",
      "100%|██████████| 1473/1473 [00:17<00:00, 83.40it/s] \n",
      "100%|██████████| 1473/1473 [00:19<00:00, 77.36it/s] \n",
      "100%|██████████| 1473/1473 [00:12<00:00, 115.50it/s]\n",
      "100%|██████████| 1473/1473 [00:21<00:00, 68.21it/s] \n",
      "100%|██████████| 1473/1473 [00:24<00:00, 60.57it/s] \n",
      "100%|██████████| 1473/1473 [00:11<00:00, 126.20it/s]\n",
      "100%|██████████| 1473/1473 [00:22<00:00, 66.22it/s] \n",
      "100%|██████████| 1473/1473 [00:13<00:00, 110.44it/s]\n",
      "100%|██████████| 1473/1473 [00:23<00:00, 61.72it/s] \n"
     ]
    },
    {
     "name": "stdout",
     "output_type": "stream",
     "text": [
      "Episode 7441\n",
      "Number of transcations: 35, Wins: 31, Lose: 0, Defeat: 4 \n"
     ]
    },
    {
     "name": "stderr",
     "output_type": "stream",
     "text": [
      "100%|██████████| 1473/1473 [00:11<00:00, 133.55it/s]\n",
      "100%|██████████| 1473/1473 [00:19<00:00, 76.81it/s] \n",
      "100%|██████████| 1473/1473 [00:12<00:00, 119.42it/s]\n",
      "100%|██████████| 1473/1473 [00:14<00:00, 101.83it/s]\n",
      "100%|██████████| 1473/1473 [00:16<00:00, 90.70it/s] \n",
      "100%|██████████| 1473/1473 [00:19<00:00, 73.78it/s] \n",
      "100%|██████████| 1473/1473 [00:09<00:00, 149.29it/s]\n",
      "100%|██████████| 1473/1473 [00:12<00:00, 115.92it/s]\n",
      "100%|██████████| 1473/1473 [00:20<00:00, 71.27it/s] \n",
      "100%|██████████| 1473/1473 [00:17<00:00, 82.25it/s] \n",
      "100%|██████████| 1473/1473 [00:12<00:00, 118.33it/s]\n",
      "100%|██████████| 1473/1473 [00:11<00:00, 124.17it/s]\n",
      "100%|██████████| 1473/1473 [00:17<00:00, 82.82it/s] \n",
      "100%|██████████| 1473/1473 [00:11<00:00, 123.58it/s]\n",
      "100%|██████████| 1473/1473 [00:13<00:00, 108.36it/s]\n",
      "100%|██████████| 1473/1473 [00:17<00:00, 83.15it/s] \n",
      "100%|██████████| 1473/1473 [00:09<00:00, 156.16it/s]\n",
      "100%|██████████| 1473/1473 [00:10<00:00, 145.76it/s]\n",
      "100%|██████████| 1473/1473 [00:11<00:00, 132.35it/s]\n",
      "100%|██████████| 1473/1473 [00:12<00:00, 114.73it/s]\n"
     ]
    },
    {
     "name": "stdout",
     "output_type": "stream",
     "text": [
      "Episode 7461\n",
      "Number of transcations: 37, Wins: 30, Lose: 1, Defeat: 6 \n"
     ]
    },
    {
     "name": "stderr",
     "output_type": "stream",
     "text": [
      "100%|██████████| 1473/1473 [00:13<00:00, 113.15it/s]\n",
      "100%|██████████| 1473/1473 [00:17<00:00, 83.48it/s] \n",
      "100%|██████████| 1473/1473 [00:09<00:00, 151.79it/s]\n",
      "100%|██████████| 1473/1473 [00:13<00:00, 111.03it/s]\n",
      "100%|██████████| 1473/1473 [00:14<00:00, 103.47it/s]\n",
      "100%|██████████| 1473/1473 [00:15<00:00, 97.86it/s] \n",
      "100%|██████████| 1473/1473 [00:17<00:00, 83.73it/s] \n",
      "100%|██████████| 1473/1473 [00:18<00:00, 77.54it/s] \n",
      "100%|██████████| 1473/1473 [00:17<00:00, 85.29it/s] \n",
      "100%|██████████| 1473/1473 [00:16<00:00, 87.98it/s] \n",
      "100%|██████████| 1473/1473 [00:16<00:00, 89.40it/s] \n",
      "100%|██████████| 1473/1473 [00:16<00:00, 91.29it/s] \n",
      "100%|██████████| 1473/1473 [00:15<00:00, 96.71it/s] \n",
      "100%|██████████| 1473/1473 [00:11<00:00, 127.27it/s]\n",
      "100%|██████████| 1473/1473 [00:13<00:00, 105.74it/s]\n",
      "100%|██████████| 1473/1473 [00:16<00:00, 88.03it/s] \n",
      "100%|██████████| 1473/1473 [00:18<00:00, 78.93it/s] \n",
      "100%|██████████| 1473/1473 [00:15<00:00, 96.99it/s] \n",
      "100%|██████████| 1473/1473 [00:15<00:00, 95.23it/s] \n",
      "100%|██████████| 1473/1473 [00:11<00:00, 126.09it/s]\n"
     ]
    },
    {
     "name": "stdout",
     "output_type": "stream",
     "text": [
      "Episode 7481\n",
      "Number of transcations: 38, Wins: 30, Lose: 1, Defeat: 7 \n"
     ]
    },
    {
     "name": "stderr",
     "output_type": "stream",
     "text": [
      "100%|██████████| 1473/1473 [00:11<00:00, 125.09it/s]\n",
      "100%|██████████| 1473/1473 [00:14<00:00, 101.48it/s]\n",
      "100%|██████████| 1473/1473 [00:12<00:00, 119.51it/s]\n",
      "100%|██████████| 1473/1473 [00:11<00:00, 124.64it/s]\n",
      "100%|██████████| 1473/1473 [00:16<00:00, 91.62it/s] \n",
      "100%|██████████| 1473/1473 [00:11<00:00, 127.37it/s]\n",
      "100%|██████████| 1473/1473 [00:21<00:00, 69.42it/s] \n",
      "100%|██████████| 1473/1473 [00:22<00:00, 64.73it/s] \n",
      "100%|██████████| 1473/1473 [00:11<00:00, 123.58it/s]\n",
      "100%|██████████| 1473/1473 [00:17<00:00, 85.65it/s] \n",
      "100%|██████████| 1473/1473 [00:11<00:00, 129.48it/s]\n",
      "100%|██████████| 1473/1473 [00:13<00:00, 108.95it/s]\n",
      "100%|██████████| 1473/1473 [00:13<00:00, 108.90it/s]\n",
      "100%|██████████| 1473/1473 [00:20<00:00, 70.29it/s] \n",
      "100%|██████████| 1473/1473 [00:16<00:00, 87.48it/s] \n",
      "100%|██████████| 1473/1473 [00:15<00:00, 94.12it/s] \n",
      "100%|██████████| 1473/1473 [00:13<00:00, 108.22it/s]\n",
      "100%|██████████| 1473/1473 [00:16<00:00, 88.73it/s] \n",
      "100%|██████████| 1473/1473 [00:18<00:00, 81.18it/s] \n",
      "100%|██████████| 1473/1473 [00:16<00:00, 90.28it/s] \n"
     ]
    },
    {
     "name": "stdout",
     "output_type": "stream",
     "text": [
      "Episode 7501\n",
      "Number of transcations: 41, Wins: 36, Lose: 1, Defeat: 4 \n"
     ]
    },
    {
     "name": "stderr",
     "output_type": "stream",
     "text": [
      "100%|██████████| 1473/1473 [00:09<00:00, 157.37it/s]\n",
      "100%|██████████| 1473/1473 [00:18<00:00, 79.18it/s] \n",
      "100%|██████████| 1473/1473 [00:22<00:00, 64.89it/s] \n",
      "100%|██████████| 1473/1473 [00:21<00:00, 67.15it/s] \n",
      "100%|██████████| 1473/1473 [00:15<00:00, 97.87it/s] \n",
      "100%|██████████| 1473/1473 [00:20<00:00, 72.98it/s] \n",
      "100%|██████████| 1473/1473 [00:14<00:00, 104.21it/s]\n",
      "100%|██████████| 1473/1473 [00:11<00:00, 124.73it/s]\n",
      "100%|██████████| 1473/1473 [00:14<00:00, 104.97it/s]\n",
      "100%|██████████| 1473/1473 [00:12<00:00, 115.61it/s]\n",
      "100%|██████████| 1473/1473 [00:21<00:00, 68.31it/s] \n",
      "100%|██████████| 1473/1473 [00:12<00:00, 116.80it/s]\n",
      "100%|██████████| 1473/1473 [00:20<00:00, 70.99it/s] \n",
      "100%|██████████| 1473/1473 [00:13<00:00, 109.99it/s]\n",
      "100%|██████████| 1473/1473 [00:19<00:00, 76.48it/s] \n",
      "100%|██████████| 1473/1473 [00:22<00:00, 65.68it/s] \n",
      "100%|██████████| 1473/1473 [00:22<00:00, 66.66it/s] \n",
      "100%|██████████| 1473/1473 [00:19<00:00, 76.25it/s] \n",
      "100%|██████████| 1473/1473 [00:15<00:00, 94.98it/s] \n",
      "100%|██████████| 1473/1473 [00:20<00:00, 72.44it/s] \n"
     ]
    },
    {
     "name": "stdout",
     "output_type": "stream",
     "text": [
      "Episode 7521\n",
      "Number of transcations: 39, Wins: 37, Lose: 0, Defeat: 2 \n"
     ]
    },
    {
     "name": "stderr",
     "output_type": "stream",
     "text": [
      "100%|██████████| 1473/1473 [00:11<00:00, 129.75it/s]\n",
      "100%|██████████| 1473/1473 [00:10<00:00, 140.10it/s]\n",
      "100%|██████████| 1473/1473 [00:10<00:00, 135.95it/s]\n",
      "100%|██████████| 1473/1473 [00:11<00:00, 128.60it/s]\n",
      "100%|██████████| 1473/1473 [00:09<00:00, 162.02it/s]\n",
      "100%|██████████| 1473/1473 [00:10<00:00, 142.51it/s]\n",
      "100%|██████████| 1473/1473 [00:12<00:00, 113.89it/s]\n",
      "100%|██████████| 1473/1473 [00:13<00:00, 107.44it/s]\n",
      "100%|██████████| 1473/1473 [00:12<00:00, 118.22it/s]\n",
      "100%|██████████| 1473/1473 [00:12<00:00, 114.54it/s]\n",
      "100%|██████████| 1473/1473 [00:08<00:00, 178.12it/s]\n",
      "100%|██████████| 1473/1473 [00:13<00:00, 108.22it/s]\n",
      "100%|██████████| 1473/1473 [00:10<00:00, 139.05it/s]\n",
      "100%|██████████| 1473/1473 [00:13<00:00, 110.81it/s]\n",
      "100%|██████████| 1473/1473 [00:10<00:00, 136.92it/s]\n",
      "100%|██████████| 1473/1473 [00:12<00:00, 115.06it/s]\n",
      "100%|██████████| 1473/1473 [00:11<00:00, 128.07it/s]\n",
      "100%|██████████| 1473/1473 [00:10<00:00, 136.65it/s]\n",
      "100%|██████████| 1473/1473 [00:12<00:00, 113.92it/s]\n",
      "100%|██████████| 1473/1473 [00:09<00:00, 148.03it/s]\n"
     ]
    },
    {
     "name": "stdout",
     "output_type": "stream",
     "text": [
      "Episode 7541\n",
      "Number of transcations: 41, Wins: 37, Lose: 0, Defeat: 4 \n"
     ]
    },
    {
     "name": "stderr",
     "output_type": "stream",
     "text": [
      "100%|██████████| 1473/1473 [00:12<00:00, 116.24it/s]\n",
      "100%|██████████| 1473/1473 [00:10<00:00, 138.82it/s]\n",
      "100%|██████████| 1473/1473 [00:11<00:00, 133.67it/s]\n",
      "100%|██████████| 1473/1473 [00:11<00:00, 124.00it/s]\n",
      "100%|██████████| 1473/1473 [00:12<00:00, 117.96it/s]\n",
      "100%|██████████| 1473/1473 [00:09<00:00, 153.98it/s]\n",
      "100%|██████████| 1473/1473 [00:12<00:00, 119.43it/s]\n",
      "100%|██████████| 1473/1473 [00:13<00:00, 108.76it/s]\n",
      "100%|██████████| 1473/1473 [00:13<00:00, 113.18it/s]\n",
      "100%|██████████| 1473/1473 [00:11<00:00, 127.15it/s]\n",
      "100%|██████████| 1473/1473 [00:10<00:00, 138.37it/s]\n",
      "100%|██████████| 1473/1473 [00:13<00:00, 110.22it/s]\n",
      "100%|██████████| 1473/1473 [00:12<00:00, 117.46it/s]\n",
      "100%|██████████| 1473/1473 [00:13<00:00, 112.91it/s]\n",
      "100%|██████████| 1473/1473 [00:10<00:00, 145.22it/s]\n",
      "100%|██████████| 1473/1473 [00:07<00:00, 198.12it/s]\n",
      "100%|██████████| 1473/1473 [00:13<00:00, 110.24it/s]\n",
      "100%|██████████| 1473/1473 [00:10<00:00, 134.57it/s]\n",
      "100%|██████████| 1473/1473 [00:13<00:00, 112.41it/s]\n",
      "100%|██████████| 1473/1473 [00:13<00:00, 109.07it/s]\n"
     ]
    },
    {
     "name": "stdout",
     "output_type": "stream",
     "text": [
      "Episode 7561\n",
      "Number of transcations: 34, Wins: 30, Lose: 0, Defeat: 4 \n"
     ]
    },
    {
     "name": "stderr",
     "output_type": "stream",
     "text": [
      "100%|██████████| 1473/1473 [00:08<00:00, 168.26it/s]\n",
      "100%|██████████| 1473/1473 [00:06<00:00, 213.68it/s]\n",
      "100%|██████████| 1473/1473 [00:09<00:00, 163.01it/s]\n",
      "100%|██████████| 1473/1473 [00:10<00:00, 137.19it/s]\n",
      "100%|██████████| 1473/1473 [00:09<00:00, 163.14it/s]\n",
      "100%|██████████| 1473/1473 [00:13<00:00, 107.85it/s]\n",
      "100%|██████████| 1473/1473 [00:11<00:00, 127.05it/s]\n",
      "100%|██████████| 1473/1473 [00:11<00:00, 127.78it/s]\n",
      "100%|██████████| 1473/1473 [00:09<00:00, 151.05it/s]\n",
      "100%|██████████| 1473/1473 [00:10<00:00, 144.68it/s]\n",
      "100%|██████████| 1473/1473 [00:13<00:00, 112.70it/s]\n",
      "100%|██████████| 1473/1473 [00:10<00:00, 139.34it/s]\n",
      "100%|██████████| 1473/1473 [00:13<00:00, 105.93it/s]\n",
      "100%|██████████| 1473/1473 [00:09<00:00, 150.12it/s]\n",
      "100%|██████████| 1473/1473 [00:07<00:00, 193.63it/s]\n",
      "100%|██████████| 1473/1473 [00:08<00:00, 165.53it/s]\n",
      "100%|██████████| 1473/1473 [00:10<00:00, 143.16it/s]\n",
      "100%|██████████| 1473/1473 [00:08<00:00, 169.80it/s]\n",
      "100%|██████████| 1473/1473 [00:09<00:00, 159.22it/s]\n",
      "100%|██████████| 1473/1473 [00:08<00:00, 175.20it/s]\n"
     ]
    },
    {
     "name": "stdout",
     "output_type": "stream",
     "text": [
      "Episode 7581\n",
      "Number of transcations: 35, Wins: 30, Lose: 1, Defeat: 4 \n"
     ]
    },
    {
     "name": "stderr",
     "output_type": "stream",
     "text": [
      "100%|██████████| 1473/1473 [00:08<00:00, 165.74it/s]\n",
      "100%|██████████| 1473/1473 [00:09<00:00, 151.06it/s]\n",
      "100%|██████████| 1473/1473 [00:09<00:00, 153.55it/s]\n",
      "100%|██████████| 1473/1473 [00:08<00:00, 182.83it/s]\n",
      "100%|██████████| 1473/1473 [00:09<00:00, 151.83it/s]\n",
      "100%|██████████| 1473/1473 [00:09<00:00, 154.62it/s]\n",
      "100%|██████████| 1473/1473 [00:08<00:00, 175.18it/s]\n",
      "100%|██████████| 1473/1473 [00:08<00:00, 163.75it/s]\n",
      "100%|██████████| 1473/1473 [00:09<00:00, 162.15it/s]\n",
      "100%|██████████| 1473/1473 [00:09<00:00, 160.86it/s]\n",
      "100%|██████████| 1473/1473 [00:09<00:00, 156.93it/s]\n",
      "100%|██████████| 1473/1473 [00:09<00:00, 162.03it/s]\n",
      "100%|██████████| 1473/1473 [00:08<00:00, 165.40it/s]\n",
      "100%|██████████| 1473/1473 [00:09<00:00, 159.07it/s]\n",
      "100%|██████████| 1473/1473 [00:10<00:00, 134.00it/s]\n",
      "100%|██████████| 1473/1473 [00:09<00:00, 160.39it/s]\n",
      "100%|██████████| 1473/1473 [00:10<00:00, 146.62it/s]\n",
      "100%|██████████| 1473/1473 [00:09<00:00, 154.36it/s]\n",
      "100%|██████████| 1473/1473 [00:09<00:00, 159.69it/s]\n",
      "100%|██████████| 1473/1473 [00:09<00:00, 152.95it/s]\n"
     ]
    },
    {
     "name": "stdout",
     "output_type": "stream",
     "text": [
      "Episode 7601\n",
      "Number of transcations: 37, Wins: 31, Lose: 1, Defeat: 5 \n"
     ]
    },
    {
     "name": "stderr",
     "output_type": "stream",
     "text": [
      "100%|██████████| 1473/1473 [00:08<00:00, 171.97it/s]\n",
      "100%|██████████| 1473/1473 [00:09<00:00, 162.71it/s]\n",
      "100%|██████████| 1473/1473 [00:07<00:00, 191.05it/s]\n",
      "100%|██████████| 1473/1473 [00:08<00:00, 166.57it/s]\n",
      "100%|██████████| 1473/1473 [00:11<00:00, 127.11it/s]\n",
      "100%|██████████| 1473/1473 [00:10<00:00, 134.70it/s]\n",
      "100%|██████████| 1473/1473 [00:11<00:00, 131.27it/s]\n",
      "100%|██████████| 1473/1473 [00:11<00:00, 131.03it/s]\n",
      "100%|██████████| 1473/1473 [00:11<00:00, 132.30it/s]\n",
      "100%|██████████| 1473/1473 [00:12<00:00, 117.69it/s]\n",
      "100%|██████████| 1473/1473 [00:10<00:00, 134.97it/s]\n",
      "100%|██████████| 1473/1473 [00:10<00:00, 140.14it/s]\n",
      "100%|██████████| 1473/1473 [00:11<00:00, 124.85it/s]\n",
      "100%|██████████| 1473/1473 [00:10<00:00, 146.73it/s]\n",
      "100%|██████████| 1473/1473 [00:12<00:00, 116.99it/s]\n",
      "100%|██████████| 1473/1473 [00:10<00:00, 135.50it/s]\n",
      "100%|██████████| 1473/1473 [00:10<00:00, 136.56it/s]\n",
      "100%|██████████| 1473/1473 [00:12<00:00, 117.61it/s]\n",
      "100%|██████████| 1473/1473 [00:11<00:00, 129.07it/s]\n",
      "100%|██████████| 1473/1473 [00:12<00:00, 118.51it/s]\n"
     ]
    },
    {
     "name": "stdout",
     "output_type": "stream",
     "text": [
      "Episode 7621\n",
      "Number of transcations: 35, Wins: 28, Lose: 0, Defeat: 7 \n"
     ]
    },
    {
     "name": "stderr",
     "output_type": "stream",
     "text": [
      "100%|██████████| 1473/1473 [00:08<00:00, 168.91it/s]\n",
      "100%|██████████| 1473/1473 [00:10<00:00, 144.41it/s]\n",
      "100%|██████████| 1473/1473 [00:05<00:00, 274.22it/s]\n",
      "100%|██████████| 1473/1473 [00:06<00:00, 224.83it/s]\n",
      "100%|██████████| 1473/1473 [00:11<00:00, 124.06it/s]\n",
      "100%|██████████| 1473/1473 [00:07<00:00, 202.85it/s]\n",
      "100%|██████████| 1473/1473 [00:07<00:00, 188.45it/s]\n",
      "100%|██████████| 1473/1473 [00:07<00:00, 197.47it/s]\n",
      "100%|██████████| 1473/1473 [00:06<00:00, 242.68it/s]\n",
      "100%|██████████| 1473/1473 [00:07<00:00, 196.75it/s]\n",
      "100%|██████████| 1473/1473 [00:09<00:00, 160.43it/s]\n",
      "100%|██████████| 1473/1473 [00:07<00:00, 185.45it/s]\n",
      "100%|██████████| 1473/1473 [00:07<00:00, 206.62it/s]\n",
      "100%|██████████| 1473/1473 [00:06<00:00, 218.19it/s]\n",
      "100%|██████████| 1473/1473 [00:09<00:00, 157.26it/s]\n",
      "100%|██████████| 1473/1473 [00:08<00:00, 182.99it/s]\n",
      "100%|██████████| 1473/1473 [00:09<00:00, 160.78it/s]\n",
      "100%|██████████| 1473/1473 [00:09<00:00, 162.42it/s]\n",
      "100%|██████████| 1473/1473 [00:08<00:00, 180.64it/s]\n",
      "100%|██████████| 1473/1473 [00:08<00:00, 165.04it/s]\n"
     ]
    },
    {
     "name": "stdout",
     "output_type": "stream",
     "text": [
      "Episode 7641\n",
      "Number of transcations: 38, Wins: 29, Lose: 1, Defeat: 8 \n"
     ]
    },
    {
     "name": "stderr",
     "output_type": "stream",
     "text": [
      "100%|██████████| 1473/1473 [00:06<00:00, 227.89it/s]\n",
      "100%|██████████| 1473/1473 [00:07<00:00, 195.52it/s]\n",
      "100%|██████████| 1473/1473 [00:08<00:00, 177.63it/s]\n",
      "100%|██████████| 1473/1473 [00:10<00:00, 136.60it/s]\n",
      "100%|██████████| 1473/1473 [00:07<00:00, 191.01it/s]\n",
      "100%|██████████| 1473/1473 [00:07<00:00, 204.34it/s]\n",
      "100%|██████████| 1473/1473 [00:07<00:00, 197.03it/s]\n",
      "100%|██████████| 1473/1473 [00:09<00:00, 158.94it/s]\n",
      "100%|██████████| 1473/1473 [00:07<00:00, 194.80it/s]\n",
      "100%|██████████| 1473/1473 [00:09<00:00, 158.92it/s]\n",
      "100%|██████████| 1473/1473 [00:08<00:00, 171.47it/s]\n",
      "100%|██████████| 1473/1473 [00:08<00:00, 176.80it/s]\n",
      "100%|██████████| 1473/1473 [00:08<00:00, 169.10it/s]\n",
      "100%|██████████| 1473/1473 [00:09<00:00, 160.95it/s]\n",
      "100%|██████████| 1473/1473 [00:11<00:00, 124.84it/s]\n",
      "100%|██████████| 1473/1473 [00:09<00:00, 157.47it/s]\n",
      "100%|██████████| 1473/1473 [00:08<00:00, 169.53it/s]\n",
      "100%|██████████| 1473/1473 [00:08<00:00, 180.28it/s]\n",
      "100%|██████████| 1473/1473 [00:08<00:00, 181.52it/s]\n",
      "100%|██████████| 1473/1473 [00:08<00:00, 172.17it/s]\n"
     ]
    },
    {
     "name": "stdout",
     "output_type": "stream",
     "text": [
      "Episode 7661\n",
      "Number of transcations: 37, Wins: 29, Lose: 1, Defeat: 7 \n"
     ]
    },
    {
     "name": "stderr",
     "output_type": "stream",
     "text": [
      "100%|██████████| 1473/1473 [00:06<00:00, 244.22it/s]\n",
      "100%|██████████| 1473/1473 [00:06<00:00, 211.05it/s]\n",
      "100%|██████████| 1473/1473 [00:06<00:00, 225.54it/s]\n",
      "100%|██████████| 1473/1473 [00:05<00:00, 294.24it/s]\n",
      "100%|██████████| 1473/1473 [00:06<00:00, 215.30it/s]\n",
      "100%|██████████| 1473/1473 [00:06<00:00, 213.16it/s]\n",
      "100%|██████████| 1473/1473 [00:07<00:00, 192.66it/s]\n",
      "100%|██████████| 1473/1473 [00:06<00:00, 236.07it/s]\n",
      "100%|██████████| 1473/1473 [00:05<00:00, 263.68it/s]\n",
      "100%|██████████| 1473/1473 [00:05<00:00, 253.86it/s]\n",
      "100%|██████████| 1473/1473 [00:07<00:00, 189.19it/s]\n",
      " 48%|████▊     | 702/1473 [00:03<00:03, 211.31it/s]"
     ]
    },
    {
     "ename": "KeyboardInterrupt",
     "evalue": "",
     "output_type": "error",
     "traceback": [
      "\u001b[31m---------------------------------------------------------------------------\u001b[39m",
      "\u001b[31mKeyboardInterrupt\u001b[39m                         Traceback (most recent call last)",
      "\u001b[36mCell\u001b[39m\u001b[36m \u001b[39m\u001b[32mIn[12]\u001b[39m\u001b[32m, line 19\u001b[39m\n\u001b[32m     15\u001b[39m \u001b[38;5;28;01mwhile\u001b[39;00m step<\u001b[38;5;28mlen\u001b[39m(df_normalized):\n\u001b[32m     18\u001b[39m     state = get_state(df_normalized,step)\n\u001b[32m---> \u001b[39m\u001b[32m19\u001b[39m     action = \u001b[43magent\u001b[49m\u001b[43m.\u001b[49m\u001b[43mselect_action\u001b[49m\u001b[43m(\u001b[49m\u001b[43mstate\u001b[49m\u001b[43m)\u001b[49m\n\u001b[32m     20\u001b[39m     done = \u001b[38;5;28;01mFalse\u001b[39;00m\n\u001b[32m     21\u001b[39m     \u001b[38;5;66;03m# print(action)\u001b[39;00m\n",
      "\u001b[36mFile \u001b[39m\u001b[32mc:\\Users\\srija\\Assignment\\Trading\\Models\\DQN.py:53\u001b[39m, in \u001b[36mDQNAgent.select_action\u001b[39m\u001b[34m(self, state)\u001b[39m\n\u001b[32m     51\u001b[39m     \u001b[38;5;28;01mreturn\u001b[39;00m \u001b[38;5;28mself\u001b[39m.env.action_space.sample()\n\u001b[32m     52\u001b[39m \u001b[38;5;28;01mwith\u001b[39;00m torch.no_grad():\n\u001b[32m---> \u001b[39m\u001b[32m53\u001b[39m     state = \u001b[43mtorch\u001b[49m\u001b[43m.\u001b[49m\u001b[43mtensor\u001b[49m\u001b[43m(\u001b[49m\u001b[43mstate\u001b[49m\u001b[43m,\u001b[49m\u001b[43m \u001b[49m\u001b[43mdtype\u001b[49m\u001b[43m=\u001b[49m\u001b[43mtorch\u001b[49m\u001b[43m.\u001b[49m\u001b[43mfloat32\u001b[49m\u001b[43m)\u001b[49m\u001b[43m.\u001b[49m\u001b[43munsqueeze\u001b[49m\u001b[43m(\u001b[49m\u001b[32;43m0\u001b[39;49m\u001b[43m)\u001b[49m\u001b[43m.\u001b[49m\u001b[43mto\u001b[49m\u001b[43m(\u001b[49m\u001b[43mdevice\u001b[49m\u001b[43m)\u001b[49m\n\u001b[32m     54\u001b[39m     q_values = \u001b[38;5;28mself\u001b[39m.policy_net(state)\n\u001b[32m     55\u001b[39m     \u001b[38;5;28;01mreturn\u001b[39;00m q_values.argmax().item()\n",
      "\u001b[31mKeyboardInterrupt\u001b[39m: "
     ]
    },
    {
     "name": "stderr",
     "output_type": "stream",
     "text": [
      " 49%|████▉     | 728/1473 [00:16<00:03, 211.31it/s]"
     ]
    }
   ],
   "source": [
    "num_episodes = 9000\n",
    "\n",
    "for episode in range(6982,num_episodes):\n",
    "    # state = env.reset()\n",
    "    total_reward = 0\n",
    "    number_trans = 0\n",
    "    wins =0\n",
    "    lose = 0\n",
    "    defeat =0\n",
    "    consecutive_success = 0\n",
    "    pbar = tqdm(total = len(df_normalized))\n",
    "    step =0\n",
    "    next_step = 0\n",
    "\n",
    "    while step<len(df_normalized):\n",
    "    \n",
    "        \n",
    "        state = get_state(df_normalized,step)\n",
    "        action = agent.select_action(state)\n",
    "        done = False\n",
    "        # print(action)\n",
    "       \n",
    "        if action ==1: ## BUY\n",
    "            next_state = target_buy.iloc[step]\n",
    "            \n",
    "            next_state_index = next_state[\"next_state_index\"]\n",
    "            \n",
    "            next_state2 = df_normalized.iloc[next_state_index].copy()\n",
    "\n",
    "            reward = 0\n",
    "            if(next_state['action']==\"Target Hit\"):\n",
    "                wins +=1\n",
    "                consecutive_success+=1\n",
    "                # reward = 1000/(target_buy.iloc[step]['delay']+1)\n",
    "                reward = calculate_optimized_scalping_reward(delay=target_buy.iloc[step]['delay'],action_type=\"success\",consecutive_successes=consecutive_success)\n",
    "                \n",
    "              \n",
    "            elif next_state['action']==\"Stop Loss Hit\":\n",
    "                defeat +=1\n",
    "                consecutive_success=0\n",
    "                # reward = -1000/(target_buy.iloc[step]['delay']+1)\n",
    "                reward = calculate_optimized_scalping_reward(delay=target_buy.iloc[step]['delay'],action_type=\"failure\",consecutive_successes=consecutive_success)\n",
    "                \n",
    "                \n",
    "            elif next_state['action']==\"End of Day\":\n",
    "                lose+=1\n",
    "                consecutive_success=0\n",
    "                done = True\n",
    "                # reward = -50\n",
    "                reward = calculate_optimized_scalping_reward(delay=target_buy.iloc[step]['delay'],action_type=\"failure\",consecutive_successes=consecutive_success)\n",
    "                \n",
    "               \n",
    "            reward = float(reward)  # Convert to scalar float\n",
    "            \n",
    "            next_state2 = np.array(next_state2.values, dtype=np.float32)\n",
    "            agent.store_transition(state, action, reward, next_state2, done)\n",
    "            agent.update_policy()\n",
    "            number_trans +=1\n",
    "            next_step = next_state_index+1\n",
    "        \n",
    "        if action==2: ## Sell  short\n",
    "            next_state = target_sell.iloc[step]\n",
    "            next_state_index = next_state[\"next_state_index\"]\n",
    "            \n",
    "            next_state2 = df_normalized.iloc[next_state_index].copy()\n",
    "            reward = 0\n",
    "            if(next_state['action']==\"Target Hit\"):\n",
    "                wins +=1\n",
    "                consecutive_success+=1\n",
    "                # reward = 1000/(target_sell.iloc[step]['delay']+1)\n",
    "                reward = calculate_optimized_scalping_reward(delay=target_sell.iloc[step]['delay'],action_type=\"success\",consecutive_successes=consecutive_success)\n",
    "                \n",
    "               \n",
    "            elif next_state['action']==\"Stop Loss Hit\":\n",
    "                consecutive_success=0\n",
    "                defeat +=1\n",
    "                # reward = -1000/(target_sell.iloc[step]['delay']+1)\n",
    "                reward = calculate_optimized_scalping_reward(delay=target_sell.iloc[step]['delay'],action_type=\"failure\",consecutive_successes=consecutive_success)\n",
    "                \n",
    "               \n",
    "            elif next_state['action']==\"End of Day\":\n",
    "                consecutive_success=0\n",
    "                lose+=1\n",
    "                done =True\n",
    "                # reward = -50\n",
    "                reward = calculate_optimized_scalping_reward(delay=target_sell.iloc[step]['delay'],action_type=\"failure\",consecutive_successes=consecutive_success)\n",
    "                \n",
    "                \n",
    "            reward = float(reward)  # Convert to scalar float\n",
    "           \n",
    "            next_state2 = np.array(next_state2.values, dtype=np.float32)\n",
    "            \n",
    "            agent.store_transition(state, action, reward, next_state2, done)\n",
    "            agent.update_policy()\n",
    "            number_trans +=1\n",
    "            next_step = next_state_index+1\n",
    "        if action ==0:\n",
    "            buy_side = target_buy.iloc[step].copy()\n",
    "            sell_side = target_sell.iloc[step].copy()\n",
    "            if buy_side['action']==\"Target Hit\":\n",
    "                # reward = -1000/(target_buy.iloc[step]['delay']+1)\n",
    "                reward = calculate_optimized_scalping_reward(delay=target_buy.iloc[step]['delay'],action_type=\"missed_opportunity\",consecutive_successes=consecutive_success)     \n",
    "            elif sell_side['action']==\"Target Hit\":\n",
    "                # reward = -1000/(target_sell.iloc[step]['delay']+1)\n",
    "                reward = calculate_optimized_scalping_reward(delay=target_sell.iloc[step]['delay'],action_type=\"missed_opportunity\",consecutive_successes=consecutive_success)\n",
    "            else:\n",
    "                reward = 100\n",
    "            if step+1 < len(df_normalized):\n",
    "               \n",
    "                next_state = get_state(df_normalized,step+1)\n",
    "                \n",
    "                reward = float(reward)  # Convert to scalar float\n",
    "                agent.store_transition(state, action, reward, next_state, done)\n",
    "                agent.update_policy()\n",
    "            else:\n",
    "                done = True\n",
    "                next_state = get_state(df_normalized,-1)\n",
    "                reward = float(reward)  # Convert to scalar float\n",
    "                agent.store_transition(state, action, reward, next_state, done)\n",
    "                agent.update_policy()\n",
    "            next_step = step+1\n",
    "            \n",
    "        pbar.update(next_step - step)\n",
    "        step = next_step\n",
    "    pbar.close()\n",
    "                    \n",
    "    \n",
    "    # Update the target network\n",
    "    if episode % 20 == 0:\n",
    "        target_net.load_state_dict(policy_net.state_dict())\n",
    "        model_save_path = os.path.join(save_folder, f'suzlon_14_june_{episode+1}.pth')\n",
    "        print(f'Episode {episode + 1}')\n",
    "        print(f'Number of transcations: {number_trans}, Wins: {wins}, Lose: {lose}, Defeat: {defeat} ')\n",
    "\n",
    "        # Save the model state_dict\n",
    "        torch.save(policy_net.state_dict(), model_save_path)\n",
    "       \n",
    "\n",
    "\n",
    "        \n",
    "\n",
    "        \n"
   ]
  },
  {
   "cell_type": "code",
   "execution_count": null,
   "metadata": {},
   "outputs": [],
   "source": []
  }
 ],
 "metadata": {
  "kernelspec": {
   "display_name": "trader",
   "language": "python",
   "name": "python3"
  },
  "language_info": {
   "codemirror_mode": {
    "name": "ipython",
    "version": 3
   },
   "file_extension": ".py",
   "mimetype": "text/x-python",
   "name": "python",
   "nbconvert_exporter": "python",
   "pygments_lexer": "ipython3",
   "version": "3.12.2"
  }
 },
 "nbformat": 4,
 "nbformat_minor": 2
}
