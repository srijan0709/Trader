{
 "cells": [
  {
   "cell_type": "markdown",
   "metadata": {},
   "source": [
    "# Importing Libraries and Helper Classes and Functions"
   ]
  },
  {
   "cell_type": "code",
   "execution_count": 1,
   "metadata": {},
   "outputs": [],
   "source": [
    "import sys\n",
    "import os\n",
    "import json\n",
    "import numpy as np\n",
    "from tqdm import tqdm\n",
    "import torch\n",
    "parent_dir = os.path.abspath(os.path.join(os.getcwd(), \"..\"))\n",
    "sys.path.append(parent_dir)\n",
    "from utils_data import  generateTargetDataBuySide, generateTargetDataSellSide, getTechnicalIndicators, normalize_dataframe_with_mean_std\n",
    "from utils_data import UpstoxStockDataFetcher\n",
    "import pandas as pd"
   ]
  },
  {
   "cell_type": "markdown",
   "metadata": {},
   "source": [
    "# Loading Data"
   ]
  },
  {
   "cell_type": "code",
   "execution_count": 2,
   "metadata": {},
   "outputs": [
    {
     "data": {
      "text/html": [
       "<div>\n",
       "<style scoped>\n",
       "    .dataframe tbody tr th:only-of-type {\n",
       "        vertical-align: middle;\n",
       "    }\n",
       "\n",
       "    .dataframe tbody tr th {\n",
       "        vertical-align: top;\n",
       "    }\n",
       "\n",
       "    .dataframe thead th {\n",
       "        text-align: right;\n",
       "    }\n",
       "</style>\n",
       "<table border=\"1\" class=\"dataframe\">\n",
       "  <thead>\n",
       "    <tr style=\"text-align: right;\">\n",
       "      <th></th>\n",
       "      <th>time</th>\n",
       "      <th>open</th>\n",
       "      <th>high</th>\n",
       "      <th>low</th>\n",
       "      <th>close</th>\n",
       "      <th>volume</th>\n",
       "    </tr>\n",
       "  </thead>\n",
       "  <tbody>\n",
       "    <tr>\n",
       "      <th>0</th>\n",
       "      <td>2025-06-16 09:15:00+05:30</td>\n",
       "      <td>64.50</td>\n",
       "      <td>65.05</td>\n",
       "      <td>64.45</td>\n",
       "      <td>65.05</td>\n",
       "      <td>1860104</td>\n",
       "    </tr>\n",
       "    <tr>\n",
       "      <th>1</th>\n",
       "      <td>2025-06-16 09:16:00+05:30</td>\n",
       "      <td>65.07</td>\n",
       "      <td>65.30</td>\n",
       "      <td>64.86</td>\n",
       "      <td>64.97</td>\n",
       "      <td>1193739</td>\n",
       "    </tr>\n",
       "    <tr>\n",
       "      <th>2</th>\n",
       "      <td>2025-06-16 09:17:00+05:30</td>\n",
       "      <td>64.96</td>\n",
       "      <td>65.07</td>\n",
       "      <td>64.88</td>\n",
       "      <td>64.92</td>\n",
       "      <td>571128</td>\n",
       "    </tr>\n",
       "    <tr>\n",
       "      <th>3</th>\n",
       "      <td>2025-06-16 09:18:00+05:30</td>\n",
       "      <td>64.95</td>\n",
       "      <td>65.01</td>\n",
       "      <td>64.60</td>\n",
       "      <td>64.66</td>\n",
       "      <td>772514</td>\n",
       "    </tr>\n",
       "    <tr>\n",
       "      <th>4</th>\n",
       "      <td>2025-06-16 09:19:00+05:30</td>\n",
       "      <td>64.66</td>\n",
       "      <td>64.69</td>\n",
       "      <td>64.38</td>\n",
       "      <td>64.57</td>\n",
       "      <td>1089367</td>\n",
       "    </tr>\n",
       "    <tr>\n",
       "      <th>...</th>\n",
       "      <td>...</td>\n",
       "      <td>...</td>\n",
       "      <td>...</td>\n",
       "      <td>...</td>\n",
       "      <td>...</td>\n",
       "      <td>...</td>\n",
       "    </tr>\n",
       "    <tr>\n",
       "      <th>1120</th>\n",
       "      <td>2025-06-18 15:25:00+05:30</td>\n",
       "      <td>63.96</td>\n",
       "      <td>63.96</td>\n",
       "      <td>63.91</td>\n",
       "      <td>63.94</td>\n",
       "      <td>118175</td>\n",
       "    </tr>\n",
       "    <tr>\n",
       "      <th>1121</th>\n",
       "      <td>2025-06-18 15:26:00+05:30</td>\n",
       "      <td>63.94</td>\n",
       "      <td>63.94</td>\n",
       "      <td>63.89</td>\n",
       "      <td>63.91</td>\n",
       "      <td>262339</td>\n",
       "    </tr>\n",
       "    <tr>\n",
       "      <th>1122</th>\n",
       "      <td>2025-06-18 15:27:00+05:30</td>\n",
       "      <td>63.89</td>\n",
       "      <td>63.92</td>\n",
       "      <td>63.86</td>\n",
       "      <td>63.89</td>\n",
       "      <td>264268</td>\n",
       "    </tr>\n",
       "    <tr>\n",
       "      <th>1123</th>\n",
       "      <td>2025-06-18 15:28:00+05:30</td>\n",
       "      <td>63.89</td>\n",
       "      <td>63.91</td>\n",
       "      <td>63.88</td>\n",
       "      <td>63.89</td>\n",
       "      <td>254881</td>\n",
       "    </tr>\n",
       "    <tr>\n",
       "      <th>1124</th>\n",
       "      <td>2025-06-18 15:29:00+05:30</td>\n",
       "      <td>63.91</td>\n",
       "      <td>63.95</td>\n",
       "      <td>63.85</td>\n",
       "      <td>63.85</td>\n",
       "      <td>272783</td>\n",
       "    </tr>\n",
       "  </tbody>\n",
       "</table>\n",
       "<p>1125 rows × 6 columns</p>\n",
       "</div>"
      ],
      "text/plain": [
       "                          time   open   high    low  close   volume\n",
       "0    2025-06-16 09:15:00+05:30  64.50  65.05  64.45  65.05  1860104\n",
       "1    2025-06-16 09:16:00+05:30  65.07  65.30  64.86  64.97  1193739\n",
       "2    2025-06-16 09:17:00+05:30  64.96  65.07  64.88  64.92   571128\n",
       "3    2025-06-16 09:18:00+05:30  64.95  65.01  64.60  64.66   772514\n",
       "4    2025-06-16 09:19:00+05:30  64.66  64.69  64.38  64.57  1089367\n",
       "...                        ...    ...    ...    ...    ...      ...\n",
       "1120 2025-06-18 15:25:00+05:30  63.96  63.96  63.91  63.94   118175\n",
       "1121 2025-06-18 15:26:00+05:30  63.94  63.94  63.89  63.91   262339\n",
       "1122 2025-06-18 15:27:00+05:30  63.89  63.92  63.86  63.89   264268\n",
       "1123 2025-06-18 15:28:00+05:30  63.89  63.91  63.88  63.89   254881\n",
       "1124 2025-06-18 15:29:00+05:30  63.91  63.95  63.85  63.85   272783\n",
       "\n",
       "[1125 rows x 6 columns]"
      ]
     },
     "execution_count": 2,
     "metadata": {},
     "output_type": "execute_result"
    }
   ],
   "source": [
    "fetcher = UpstoxStockDataFetcher()\n",
    "stock_symbol = \"SUZLON\"\n",
    "start_date = \"2025-06-15\"\n",
    "end_date = \"2025-06-18\"\n",
    "df = fetcher.get_stock_data(stock_symbol, start_date, end_date)\n",
    "df\n"
   ]
  },
  {
   "cell_type": "code",
   "execution_count": 4,
   "metadata": {},
   "outputs": [
    {
     "data": {
      "text/html": [
       "<div>\n",
       "<style scoped>\n",
       "    .dataframe tbody tr th:only-of-type {\n",
       "        vertical-align: middle;\n",
       "    }\n",
       "\n",
       "    .dataframe tbody tr th {\n",
       "        vertical-align: top;\n",
       "    }\n",
       "\n",
       "    .dataframe thead th {\n",
       "        text-align: right;\n",
       "    }\n",
       "</style>\n",
       "<table border=\"1\" class=\"dataframe\">\n",
       "  <thead>\n",
       "    <tr style=\"text-align: right;\">\n",
       "      <th></th>\n",
       "      <th>time</th>\n",
       "      <th>open</th>\n",
       "      <th>high</th>\n",
       "      <th>low</th>\n",
       "      <th>close</th>\n",
       "      <th>volume</th>\n",
       "    </tr>\n",
       "  </thead>\n",
       "  <tbody>\n",
       "    <tr>\n",
       "      <th>0</th>\n",
       "      <td>2025-06-16 09:15:00+05:30</td>\n",
       "      <td>64.50</td>\n",
       "      <td>65.05</td>\n",
       "      <td>64.45</td>\n",
       "      <td>65.05</td>\n",
       "      <td>1860104</td>\n",
       "    </tr>\n",
       "    <tr>\n",
       "      <th>1</th>\n",
       "      <td>2025-06-16 09:16:00+05:30</td>\n",
       "      <td>65.07</td>\n",
       "      <td>65.30</td>\n",
       "      <td>64.86</td>\n",
       "      <td>64.97</td>\n",
       "      <td>1193739</td>\n",
       "    </tr>\n",
       "    <tr>\n",
       "      <th>2</th>\n",
       "      <td>2025-06-16 09:17:00+05:30</td>\n",
       "      <td>64.96</td>\n",
       "      <td>65.07</td>\n",
       "      <td>64.88</td>\n",
       "      <td>64.92</td>\n",
       "      <td>571128</td>\n",
       "    </tr>\n",
       "    <tr>\n",
       "      <th>3</th>\n",
       "      <td>2025-06-16 09:18:00+05:30</td>\n",
       "      <td>64.95</td>\n",
       "      <td>65.01</td>\n",
       "      <td>64.60</td>\n",
       "      <td>64.66</td>\n",
       "      <td>772514</td>\n",
       "    </tr>\n",
       "    <tr>\n",
       "      <th>4</th>\n",
       "      <td>2025-06-16 09:19:00+05:30</td>\n",
       "      <td>64.66</td>\n",
       "      <td>64.69</td>\n",
       "      <td>64.38</td>\n",
       "      <td>64.57</td>\n",
       "      <td>1089367</td>\n",
       "    </tr>\n",
       "    <tr>\n",
       "      <th>...</th>\n",
       "      <td>...</td>\n",
       "      <td>...</td>\n",
       "      <td>...</td>\n",
       "      <td>...</td>\n",
       "      <td>...</td>\n",
       "      <td>...</td>\n",
       "    </tr>\n",
       "    <tr>\n",
       "      <th>1465</th>\n",
       "      <td>2025-06-19 15:02:00+05:30</td>\n",
       "      <td>62.30</td>\n",
       "      <td>62.34</td>\n",
       "      <td>62.26</td>\n",
       "      <td>62.34</td>\n",
       "      <td>239907</td>\n",
       "    </tr>\n",
       "    <tr>\n",
       "      <th>1466</th>\n",
       "      <td>2025-06-19 15:03:00+05:30</td>\n",
       "      <td>62.31</td>\n",
       "      <td>62.38</td>\n",
       "      <td>62.28</td>\n",
       "      <td>62.38</td>\n",
       "      <td>195570</td>\n",
       "    </tr>\n",
       "    <tr>\n",
       "      <th>1467</th>\n",
       "      <td>2025-06-19 15:05:00+05:30</td>\n",
       "      <td>62.39</td>\n",
       "      <td>62.42</td>\n",
       "      <td>62.37</td>\n",
       "      <td>62.40</td>\n",
       "      <td>137269</td>\n",
       "    </tr>\n",
       "    <tr>\n",
       "      <th>1468</th>\n",
       "      <td>2025-06-19 15:06:00+05:30</td>\n",
       "      <td>62.38</td>\n",
       "      <td>62.58</td>\n",
       "      <td>62.37</td>\n",
       "      <td>62.48</td>\n",
       "      <td>1174016</td>\n",
       "    </tr>\n",
       "    <tr>\n",
       "      <th>1469</th>\n",
       "      <td>2025-06-19 15:07:00+05:30</td>\n",
       "      <td>62.48</td>\n",
       "      <td>62.51</td>\n",
       "      <td>62.40</td>\n",
       "      <td>62.44</td>\n",
       "      <td>214083</td>\n",
       "    </tr>\n",
       "  </tbody>\n",
       "</table>\n",
       "<p>1470 rows × 6 columns</p>\n",
       "</div>"
      ],
      "text/plain": [
       "                          time   open   high    low  close   volume\n",
       "0    2025-06-16 09:15:00+05:30  64.50  65.05  64.45  65.05  1860104\n",
       "1    2025-06-16 09:16:00+05:30  65.07  65.30  64.86  64.97  1193739\n",
       "2    2025-06-16 09:17:00+05:30  64.96  65.07  64.88  64.92   571128\n",
       "3    2025-06-16 09:18:00+05:30  64.95  65.01  64.60  64.66   772514\n",
       "4    2025-06-16 09:19:00+05:30  64.66  64.69  64.38  64.57  1089367\n",
       "...                        ...    ...    ...    ...    ...      ...\n",
       "1465 2025-06-19 15:02:00+05:30  62.30  62.34  62.26  62.34   239907\n",
       "1466 2025-06-19 15:03:00+05:30  62.31  62.38  62.28  62.38   195570\n",
       "1467 2025-06-19 15:05:00+05:30  62.39  62.42  62.37  62.40   137269\n",
       "1468 2025-06-19 15:06:00+05:30  62.38  62.58  62.37  62.48  1174016\n",
       "1469 2025-06-19 15:07:00+05:30  62.48  62.51  62.40  62.44   214083\n",
       "\n",
       "[1470 rows x 6 columns]"
      ]
     },
     "execution_count": 4,
     "metadata": {},
     "output_type": "execute_result"
    }
   ],
   "source": [
    "df_today = pd.read_csv(r\"C:\\Users\\srija\\Assignment\\Trading\\json_files\\suzlon_2025-06-19.csv\")\n",
    "df_today = df_today.drop_duplicates()\n",
    "df_today['time'] = df_today['time'].astype(str) + \"+05:30\"\n",
    "df_today['time'] = pd.to_datetime(df_today['time'])\n",
    "df = pd.concat([df, df_today], ignore_index=True)\n",
    "df\n"
   ]
  },
  {
   "cell_type": "code",
   "execution_count": 5,
   "metadata": {},
   "outputs": [
    {
     "name": "stderr",
     "output_type": "stream",
     "text": [
      "Processing Buy Side Data: 100%|██████████| 1443/1443 [00:28<00:00, 51.26it/s] \n",
      "Processing Sell Side Data: 100%|██████████| 1443/1443 [00:29<00:00, 48.96it/s] \n"
     ]
    }
   ],
   "source": [
    "df = getTechnicalIndicators(df)\n",
    "target_buy = generateTargetDataBuySide(df,1.005,0.99)\n",
    "target_sell = generateTargetDataSellSide(df,0.995,1.01)"
   ]
  },
  {
   "cell_type": "markdown",
   "metadata": {},
   "source": [
    "# Data Analysis"
   ]
  },
  {
   "cell_type": "code",
   "execution_count": 6,
   "metadata": {},
   "outputs": [
    {
     "name": "stdout",
     "output_type": "stream",
     "text": [
      "End of Day: 362\n",
      "Target Hit: 714\n",
      "Stop Loss Hit: 367\n"
     ]
    }
   ],
   "source": [
    "count1 = len(target_buy[target_buy['action'].isin(['End of Day'])])\n",
    "count2 = len(target_buy[target_buy['action'].isin(['Target Hit'])])\n",
    "count3 = len(target_buy[target_buy['action'].isin(['Stop Loss Hit'])])\n",
    "\n",
    "print(f\"End of Day: {count1}\")\n",
    "print(f\"Target Hit: {count2}\")\n",
    "print(f\"Stop Loss Hit: {count3}\")"
   ]
  },
  {
   "cell_type": "code",
   "execution_count": 7,
   "metadata": {},
   "outputs": [
    {
     "name": "stdout",
     "output_type": "stream",
     "text": [
      "End of Day: 414\n",
      "Target Hit: 740\n",
      "Stop Loss Hit: 289\n"
     ]
    }
   ],
   "source": [
    "count4 = len(target_sell[target_sell['action'].isin(['End of Day'])])\n",
    "count5 = len(target_sell[target_sell['action'].isin(['Target Hit'])])\n",
    "count6 = len(target_sell[target_sell['action'].isin(['Stop Loss Hit'])])\n",
    "\n",
    "print(f\"End of Day: {count4}\")\n",
    "print(f\"Target Hit: {count5}\")\n",
    "print(f\"Stop Loss Hit: {count6}\")"
   ]
  },
  {
   "cell_type": "markdown",
   "metadata": {},
   "source": [
    "# Normalizing and Storing Params"
   ]
  },
  {
   "cell_type": "code",
   "execution_count": 8,
   "metadata": {},
   "outputs": [
    {
     "name": "stderr",
     "output_type": "stream",
     "text": [
      "c:\\Users\\srija\\Assignment\\Trading\\utils_data.py:210: SettingWithCopyWarning: \n",
      "A value is trying to be set on a copy of a slice from a DataFrame\n",
      "\n",
      "See the caveats in the documentation: https://pandas.pydata.org/pandas-docs/stable/user_guide/indexing.html#returning-a-view-versus-a-copy\n",
      "  normalized_df[col].iloc[i] = normalized_df[col].iloc[i].hour*60 + normalized_df[col].iloc[i].minute-540\n",
      "c:\\Users\\srija\\Assignment\\Trading\\utils_data.py:210: FutureWarning: Setting an item of incompatible dtype is deprecated and will raise in a future error of pandas. Value '42' has dtype incompatible with datetime64[ns, UTC+05:30], please explicitly cast to a compatible dtype first.\n",
      "  normalized_df[col].iloc[i] = normalized_df[col].iloc[i].hour*60 + normalized_df[col].iloc[i].minute-540\n"
     ]
    },
    {
     "data": {
      "text/html": [
       "<div>\n",
       "<style scoped>\n",
       "    .dataframe tbody tr th:only-of-type {\n",
       "        vertical-align: middle;\n",
       "    }\n",
       "\n",
       "    .dataframe tbody tr th {\n",
       "        vertical-align: top;\n",
       "    }\n",
       "\n",
       "    .dataframe thead th {\n",
       "        text-align: right;\n",
       "    }\n",
       "</style>\n",
       "<table border=\"1\" class=\"dataframe\">\n",
       "  <thead>\n",
       "    <tr style=\"text-align: right;\">\n",
       "      <th></th>\n",
       "      <th>time</th>\n",
       "      <th>open</th>\n",
       "      <th>high</th>\n",
       "      <th>low</th>\n",
       "      <th>close</th>\n",
       "      <th>volume</th>\n",
       "      <th>MA50</th>\n",
       "      <th>RSI</th>\n",
       "      <th>MACD</th>\n",
       "      <th>BB_upper</th>\n",
       "      <th>BB_lower</th>\n",
       "      <th>ADX</th>\n",
       "      <th>CCI</th>\n",
       "      <th>ATR</th>\n",
       "      <th>ROC</th>\n",
       "      <th>OBV</th>\n",
       "    </tr>\n",
       "  </thead>\n",
       "  <tbody>\n",
       "    <tr>\n",
       "      <th>0</th>\n",
       "      <td>42</td>\n",
       "      <td>63.42</td>\n",
       "      <td>63.54</td>\n",
       "      <td>63.40</td>\n",
       "      <td>63.54</td>\n",
       "      <td>0.148690</td>\n",
       "      <td>-0.311075</td>\n",
       "      <td>-2.278575</td>\n",
       "      <td>-5.195724</td>\n",
       "      <td>0.074711</td>\n",
       "      <td>-1.269002</td>\n",
       "      <td>2.170878</td>\n",
       "      <td>-0.438213</td>\n",
       "      <td>4.368766</td>\n",
       "      <td>-1.354629</td>\n",
       "      <td>-3.515543</td>\n",
       "    </tr>\n",
       "    <tr>\n",
       "      <th>1</th>\n",
       "      <td>43</td>\n",
       "      <td>63.52</td>\n",
       "      <td>63.73</td>\n",
       "      <td>63.46</td>\n",
       "      <td>63.73</td>\n",
       "      <td>-0.138830</td>\n",
       "      <td>-0.367216</td>\n",
       "      <td>-1.500105</td>\n",
       "      <td>-4.619538</td>\n",
       "      <td>-0.058979</td>\n",
       "      <td>-1.226689</td>\n",
       "      <td>1.851027</td>\n",
       "      <td>-0.126304</td>\n",
       "      <td>4.388066</td>\n",
       "      <td>0.752306</td>\n",
       "      <td>-3.458713</td>\n",
       "    </tr>\n",
       "    <tr>\n",
       "      <th>2</th>\n",
       "      <td>44</td>\n",
       "      <td>63.73</td>\n",
       "      <td>63.74</td>\n",
       "      <td>63.53</td>\n",
       "      <td>63.58</td>\n",
       "      <td>0.479474</td>\n",
       "      <td>-0.426334</td>\n",
       "      <td>-1.829013</td>\n",
       "      <td>-4.322464</td>\n",
       "      <td>-0.193186</td>\n",
       "      <td>-1.191916</td>\n",
       "      <td>1.548778</td>\n",
       "      <td>-0.120591</td>\n",
       "      <td>4.294710</td>\n",
       "      <td>0.319508</td>\n",
       "      <td>-3.574071</td>\n",
       "    </tr>\n",
       "    <tr>\n",
       "      <th>3</th>\n",
       "      <td>45</td>\n",
       "      <td>63.56</td>\n",
       "      <td>63.59</td>\n",
       "      <td>63.35</td>\n",
       "      <td>63.45</td>\n",
       "      <td>1.386853</td>\n",
       "      <td>-0.488855</td>\n",
       "      <td>-2.091144</td>\n",
       "      <td>-4.219633</td>\n",
       "      <td>-0.316810</td>\n",
       "      <td>-1.170754</td>\n",
       "      <td>1.352010</td>\n",
       "      <td>-0.452894</td>\n",
       "      <td>4.263660</td>\n",
       "      <td>-0.222588</td>\n",
       "      <td>-3.775320</td>\n",
       "    </tr>\n",
       "    <tr>\n",
       "      <th>4</th>\n",
       "      <td>46</td>\n",
       "      <td>63.45</td>\n",
       "      <td>63.45</td>\n",
       "      <td>63.31</td>\n",
       "      <td>63.35</td>\n",
       "      <td>0.771457</td>\n",
       "      <td>-0.544571</td>\n",
       "      <td>-2.280925</td>\n",
       "      <td>-4.228426</td>\n",
       "      <td>-0.425898</td>\n",
       "      <td>-1.163557</td>\n",
       "      <td>1.186530</td>\n",
       "      <td>-0.689508</td>\n",
       "      <td>4.049368</td>\n",
       "      <td>-0.168742</td>\n",
       "      <td>-3.918317</td>\n",
       "    </tr>\n",
       "    <tr>\n",
       "      <th>...</th>\n",
       "      <td>...</td>\n",
       "      <td>...</td>\n",
       "      <td>...</td>\n",
       "      <td>...</td>\n",
       "      <td>...</td>\n",
       "      <td>...</td>\n",
       "      <td>...</td>\n",
       "      <td>...</td>\n",
       "      <td>...</td>\n",
       "      <td>...</td>\n",
       "      <td>...</td>\n",
       "      <td>...</td>\n",
       "      <td>...</td>\n",
       "      <td>...</td>\n",
       "      <td>...</td>\n",
       "      <td>...</td>\n",
       "    </tr>\n",
       "    <tr>\n",
       "      <th>1438</th>\n",
       "      <td>362</td>\n",
       "      <td>62.30</td>\n",
       "      <td>62.34</td>\n",
       "      <td>62.26</td>\n",
       "      <td>62.34</td>\n",
       "      <td>0.297290</td>\n",
       "      <td>-2.166283</td>\n",
       "      <td>-0.527711</td>\n",
       "      <td>-0.627366</td>\n",
       "      <td>-2.308127</td>\n",
       "      <td>-2.035365</td>\n",
       "      <td>-1.531991</td>\n",
       "      <td>-1.902999</td>\n",
       "      <td>0.127486</td>\n",
       "      <td>-0.667989</td>\n",
       "      <td>-0.508280</td>\n",
       "    </tr>\n",
       "    <tr>\n",
       "      <th>1439</th>\n",
       "      <td>363</td>\n",
       "      <td>62.31</td>\n",
       "      <td>62.38</td>\n",
       "      <td>62.28</td>\n",
       "      <td>62.38</td>\n",
       "      <td>0.105736</td>\n",
       "      <td>-2.179468</td>\n",
       "      <td>-0.284715</td>\n",
       "      <td>-0.610843</td>\n",
       "      <td>-2.309199</td>\n",
       "      <td>-2.042373</td>\n",
       "      <td>-1.500356</td>\n",
       "      <td>-1.119902</td>\n",
       "      <td>0.134450</td>\n",
       "      <td>-0.006663</td>\n",
       "      <td>-0.428299</td>\n",
       "    </tr>\n",
       "    <tr>\n",
       "      <th>1440</th>\n",
       "      <td>365</td>\n",
       "      <td>62.39</td>\n",
       "      <td>62.42</td>\n",
       "      <td>62.37</td>\n",
       "      <td>62.40</td>\n",
       "      <td>-0.146149</td>\n",
       "      <td>-2.190951</td>\n",
       "      <td>-0.164639</td>\n",
       "      <td>-0.561454</td>\n",
       "      <td>-2.309861</td>\n",
       "      <td>-2.045181</td>\n",
       "      <td>-1.534483</td>\n",
       "      <td>-0.328497</td>\n",
       "      <td>0.048186</td>\n",
       "      <td>-0.172048</td>\n",
       "      <td>-0.372161</td>\n",
       "    </tr>\n",
       "    <tr>\n",
       "      <th>1441</th>\n",
       "      <td>366</td>\n",
       "      <td>62.38</td>\n",
       "      <td>62.58</td>\n",
       "      <td>62.37</td>\n",
       "      <td>62.48</td>\n",
       "      <td>4.333034</td>\n",
       "      <td>-2.194354</td>\n",
       "      <td>0.294862</td>\n",
       "      <td>-0.403414</td>\n",
       "      <td>-2.308203</td>\n",
       "      <td>-2.045626</td>\n",
       "      <td>-1.476509</td>\n",
       "      <td>0.820611</td>\n",
       "      <td>0.264821</td>\n",
       "      <td>0.213926</td>\n",
       "      <td>0.107969</td>\n",
       "    </tr>\n",
       "    <tr>\n",
       "      <th>1442</th>\n",
       "      <td>367</td>\n",
       "      <td>62.48</td>\n",
       "      <td>62.51</td>\n",
       "      <td>62.40</td>\n",
       "      <td>62.44</td>\n",
       "      <td>0.185720</td>\n",
       "      <td>-2.198607</td>\n",
       "      <td>0.074966</td>\n",
       "      <td>-0.328979</td>\n",
       "      <td>-2.311797</td>\n",
       "      <td>-2.045618</td>\n",
       "      <td>-1.422675</td>\n",
       "      <td>0.435053</td>\n",
       "      <td>0.280522</td>\n",
       "      <td>-0.171906</td>\n",
       "      <td>0.020416</td>\n",
       "    </tr>\n",
       "  </tbody>\n",
       "</table>\n",
       "<p>1443 rows × 16 columns</p>\n",
       "</div>"
      ],
      "text/plain": [
       "     time   open   high    low  close    volume      MA50       RSI      MACD  \\\n",
       "0      42  63.42  63.54  63.40  63.54  0.148690 -0.311075 -2.278575 -5.195724   \n",
       "1      43  63.52  63.73  63.46  63.73 -0.138830 -0.367216 -1.500105 -4.619538   \n",
       "2      44  63.73  63.74  63.53  63.58  0.479474 -0.426334 -1.829013 -4.322464   \n",
       "3      45  63.56  63.59  63.35  63.45  1.386853 -0.488855 -2.091144 -4.219633   \n",
       "4      46  63.45  63.45  63.31  63.35  0.771457 -0.544571 -2.280925 -4.228426   \n",
       "...   ...    ...    ...    ...    ...       ...       ...       ...       ...   \n",
       "1438  362  62.30  62.34  62.26  62.34  0.297290 -2.166283 -0.527711 -0.627366   \n",
       "1439  363  62.31  62.38  62.28  62.38  0.105736 -2.179468 -0.284715 -0.610843   \n",
       "1440  365  62.39  62.42  62.37  62.40 -0.146149 -2.190951 -0.164639 -0.561454   \n",
       "1441  366  62.38  62.58  62.37  62.48  4.333034 -2.194354  0.294862 -0.403414   \n",
       "1442  367  62.48  62.51  62.40  62.44  0.185720 -2.198607  0.074966 -0.328979   \n",
       "\n",
       "      BB_upper  BB_lower       ADX       CCI       ATR       ROC       OBV  \n",
       "0     0.074711 -1.269002  2.170878 -0.438213  4.368766 -1.354629 -3.515543  \n",
       "1    -0.058979 -1.226689  1.851027 -0.126304  4.388066  0.752306 -3.458713  \n",
       "2    -0.193186 -1.191916  1.548778 -0.120591  4.294710  0.319508 -3.574071  \n",
       "3    -0.316810 -1.170754  1.352010 -0.452894  4.263660 -0.222588 -3.775320  \n",
       "4    -0.425898 -1.163557  1.186530 -0.689508  4.049368 -0.168742 -3.918317  \n",
       "...        ...       ...       ...       ...       ...       ...       ...  \n",
       "1438 -2.308127 -2.035365 -1.531991 -1.902999  0.127486 -0.667989 -0.508280  \n",
       "1439 -2.309199 -2.042373 -1.500356 -1.119902  0.134450 -0.006663 -0.428299  \n",
       "1440 -2.309861 -2.045181 -1.534483 -0.328497  0.048186 -0.172048 -0.372161  \n",
       "1441 -2.308203 -2.045626 -1.476509  0.820611  0.264821  0.213926  0.107969  \n",
       "1442 -2.311797 -2.045618 -1.422675  0.435053  0.280522 -0.171906  0.020416  \n",
       "\n",
       "[1443 rows x 16 columns]"
      ]
     },
     "execution_count": 8,
     "metadata": {},
     "output_type": "execute_result"
    }
   ],
   "source": [
    "df_normalized, norm_param = normalize_dataframe_with_mean_std(df)\n",
    "\n",
    "# Storing Norm parameters to be used later for inference\n",
    "with open(\"C:/Users/srija/Assignment/Trading/json_files/suzlon_14_june_norm_params.json\", \"w\") as f:\n",
    "    json.dump(norm_param, f)\n",
    "df_normalized"
   ]
  },
  {
   "cell_type": "markdown",
   "metadata": {},
   "source": [
    "# Loading Models"
   ]
  },
  {
   "cell_type": "code",
   "execution_count": 9,
   "metadata": {},
   "outputs": [
    {
     "data": {
      "text/plain": [
       "DQN(\n",
       "  (fc1): Linear(in_features=16, out_features=1440, bias=True)\n",
       "  (fc2): Linear(in_features=1440, out_features=1024, bias=True)\n",
       "  (fc3): Linear(in_features=1024, out_features=512, bias=True)\n",
       "  (fc4): Linear(in_features=512, out_features=256, bias=True)\n",
       "  (fc5): Linear(in_features=256, out_features=128, bias=True)\n",
       "  (fc6): Linear(in_features=128, out_features=64, bias=True)\n",
       "  (fc7): Linear(in_features=64, out_features=32, bias=True)\n",
       "  (fc8): Linear(in_features=32, out_features=3, bias=True)\n",
       ")"
      ]
     },
     "execution_count": 9,
     "metadata": {},
     "output_type": "execute_result"
    }
   ],
   "source": [
    "from Models.DQN import DQN,DQNAgent\n",
    "from trading_environment import StockTradingEnv\n",
    "\n",
    "policy_net = DQN(16, 3)\n",
    "target_net = DQN(16, 3)\n",
    "target_net.load_state_dict(policy_net.state_dict())\n",
    "target_net.eval()"
   ]
  },
  {
   "cell_type": "code",
   "execution_count": 10,
   "metadata": {},
   "outputs": [],
   "source": [
    "def get_state(df, current_step):\n",
    "    row = df.iloc[current_step]\n",
    "    state = np.array([\n",
    "        row['time'],\n",
    "        row['open'],\n",
    "        row['high'],\n",
    "        row['low'],\n",
    "        row['close'],\n",
    "        row['volume'],\n",
    "        row['MA50'],\n",
    "        row['RSI'],\n",
    "        row['MACD'],\n",
    "        row['BB_upper'],\n",
    "        row['BB_lower'],\n",
    "        row['ADX'],\n",
    "        row['CCI'],\n",
    "        row['ATR'],\n",
    "        row['ROC'],\n",
    "        row['OBV']\n",
    "    ], dtype=np.float32)\n",
    "    return state\n"
   ]
  },
  {
   "cell_type": "code",
   "execution_count": 14,
   "metadata": {},
   "outputs": [
    {
     "data": {
      "text/plain": [
       "DQN(\n",
       "  (fc1): Linear(in_features=16, out_features=1440, bias=True)\n",
       "  (fc2): Linear(in_features=1440, out_features=1024, bias=True)\n",
       "  (fc3): Linear(in_features=1024, out_features=512, bias=True)\n",
       "  (fc4): Linear(in_features=512, out_features=256, bias=True)\n",
       "  (fc5): Linear(in_features=256, out_features=128, bias=True)\n",
       "  (fc6): Linear(in_features=128, out_features=64, bias=True)\n",
       "  (fc7): Linear(in_features=64, out_features=32, bias=True)\n",
       "  (fc8): Linear(in_features=32, out_features=3, bias=True)\n",
       ")"
      ]
     },
     "execution_count": 14,
     "metadata": {},
     "output_type": "execute_result"
    }
   ],
   "source": [
    "save_folder = r\"C:\\Users\\srija\\Assignment\\Trading\\Models\\trained_models\\suzlon_14_june\"\n",
    "model_path = r\"C:\\Users\\srija\\Assignment\\Trading\\Models\\trained_models\\suzlon_14_june\\suzlon_14_june_1496.pth\"\n",
    "policy_net.load_state_dict(torch.load(model_path))\n",
    "policy_net.train()\n",
    "env = StockTradingEnv(df_normalized)\n",
    "agent = DQNAgent(env, policy_net, target_net)\n",
    "\n",
    "device = torch.device('cuda' if torch.cuda.is_available() else 'cpu')\n",
    "policy_net.to(device)\n",
    "target_net.to(device)"
   ]
  },
  {
   "cell_type": "markdown",
   "metadata": {},
   "source": [
    "# Defining Reward Function"
   ]
  },
  {
   "cell_type": "code",
   "execution_count": 15,
   "metadata": {},
   "outputs": [],
   "source": [
    "def calculate_optimized_scalping_reward(delay, action_type, success_base_reward=1500, \n",
    "                                     failure_base_penalty=1000, min_delay_threshold=60, \n",
    "                                     max_reward=2500, decay_rate=0.3,\n",
    "                                     opportunity_cost_factor=0.2,\n",
    "                                     missed_opp_multiplier=2.0,\n",
    "                                     consecutive_successes=0, \n",
    "                                     consecutive_success_bonus=0.15):\n",
    "    \"\"\"\n",
    "    Comprehensive reward function optimized for scalping.\n",
    "    \"\"\"\n",
    "    delay = delay/60\n",
    "    if action_type == 'success':\n",
    "        # Delay-dependent base reward scaling\n",
    "        if delay <= min_delay_threshold:\n",
    "            base_reward = max_reward - (max_reward - success_base_reward) * (delay / min_delay_threshold)\n",
    "        else:\n",
    "            base_reward = success_base_reward\n",
    "        \n",
    "        # Apply exponential decay\n",
    "        reward = base_reward * np.exp(-decay_rate * delay)\n",
    "        \n",
    "        # Apply opportunity cost\n",
    "        opportunity_cost = opportunity_cost_factor * delay * success_base_reward\n",
    "        opportunity_cost = min(opportunity_cost, reward * 0.8)\n",
    "        reward = reward - opportunity_cost\n",
    "        \n",
    "        # Apply sequential bonus\n",
    "        if consecutive_successes > 0:\n",
    "            sequential_bonus = reward * (consecutive_success_bonus * consecutive_successes)\n",
    "            reward += sequential_bonus\n",
    "        \n",
    "        return reward\n",
    "    \n",
    "    elif action_type == 'failure':\n",
    "        # Standard penalty with exponential decay\n",
    "        penalty = -failure_base_penalty * np.exp(-decay_rate * delay)\n",
    "        \n",
    "        # Add opportunity cost to penalty\n",
    "        opportunity_cost = opportunity_cost_factor * delay * failure_base_penalty\n",
    "        penalty = penalty - opportunity_cost\n",
    "        \n",
    "        return penalty\n",
    "    \n",
    "    elif action_type == 'missed_opportunity':\n",
    "        # Enhanced penalty for missed opportunities\n",
    "        missed_penalty = -failure_base_penalty * missed_opp_multiplier * np.exp(-decay_rate * delay)\n",
    "        return missed_penalty\n",
    "    \n",
    "    elif action_type == 'no_action':\n",
    "        # Reward for correctly staying out of the market\n",
    "        return 100\n"
   ]
  },
  {
   "cell_type": "markdown",
   "metadata": {},
   "source": [
    "# Training the Model "
   ]
  },
  {
   "cell_type": "code",
   "execution_count": null,
   "metadata": {},
   "outputs": [
    {
     "name": "stderr",
     "output_type": "stream",
     "text": [
      "100%|██████████| 1443/1443 [00:00<00:00, 85151.25it/s]\n"
     ]
    },
    {
     "name": "stdout",
     "output_type": "stream",
     "text": [
      "Episode 1501\n",
      "Number of transcations: 26, Wins: 15, Lose: 4, Defeat: 7 \n"
     ]
    },
    {
     "name": "stderr",
     "output_type": "stream",
     "text": [
      "100%|██████████| 1443/1443 [00:00<00:00, 90451.49it/s]\n",
      "100%|██████████| 1443/1443 [00:00<00:00, 103422.37it/s]\n",
      "100%|██████████| 1443/1443 [00:00<00:00, 89618.43it/s]\n",
      "100%|██████████| 1443/1443 [00:00<00:00, 75669.89it/s]\n",
      "100%|██████████| 1443/1443 [00:00<00:00, 110009.28it/s]\n"
     ]
    },
    {
     "name": "stdout",
     "output_type": "stream",
     "text": [
      "Episode 1506\n",
      "Number of transcations: 27, Wins: 15, Lose: 4, Defeat: 8 \n"
     ]
    },
    {
     "name": "stderr",
     "output_type": "stream",
     "text": [
      "100%|██████████| 1443/1443 [00:00<00:00, 90650.64it/s]\n",
      "100%|██████████| 1443/1443 [00:00<00:00, 109929.36it/s]\n",
      "100%|██████████| 1443/1443 [00:00<00:00, 65812.50it/s]\n",
      "100%|██████████| 1443/1443 [00:00<00:00, 84665.26it/s]\n",
      "100%|██████████| 1443/1443 [00:00<00:00, 102132.65it/s]\n"
     ]
    },
    {
     "name": "stdout",
     "output_type": "stream",
     "text": [
      "Episode 1511\n",
      "Number of transcations: 28, Wins: 13, Lose: 4, Defeat: 11 \n"
     ]
    },
    {
     "name": "stderr",
     "output_type": "stream",
     "text": [
      "100%|██████████| 1443/1443 [00:00<00:00, 95706.46it/s]\n",
      "100%|██████████| 1443/1443 [00:00<00:00, 102393.56it/s]\n",
      "100%|██████████| 1443/1443 [00:00<00:00, 103410.00it/s]\n",
      "100%|██████████| 1443/1443 [00:00<00:00, 103385.27it/s]\n",
      "100%|██████████| 1443/1443 [00:00<00:00, 106118.82it/s]\n"
     ]
    },
    {
     "name": "stdout",
     "output_type": "stream",
     "text": [
      "Episode 1516\n",
      "Number of transcations: 31, Wins: 19, Lose: 4, Defeat: 8 \n"
     ]
    },
    {
     "name": "stderr",
     "output_type": "stream",
     "text": [
      "100%|██████████| 1443/1443 [00:00<00:00, 84430.22it/s]\n",
      "100%|██████████| 1443/1443 [00:00<00:00, 79921.57it/s]\n",
      "100%|██████████| 1443/1443 [00:00<00:00, 96498.42it/s]\n",
      "100%|██████████| 1443/1443 [00:00<00:00, 96800.92it/s]\n",
      "100%|██████████| 1443/1443 [00:00<00:00, 98798.25it/s]\n"
     ]
    },
    {
     "name": "stdout",
     "output_type": "stream",
     "text": [
      "Episode 1521\n",
      "Number of transcations: 30, Wins: 19, Lose: 4, Defeat: 7 \n"
     ]
    },
    {
     "name": "stderr",
     "output_type": "stream",
     "text": [
      "100%|██████████| 1443/1443 [00:00<00:00, 109227.06it/s]\n",
      "100%|██████████| 1443/1443 [00:00<00:00, 85135.68it/s]\n",
      "100%|██████████| 1443/1443 [00:00<00:00, 89740.68it/s]\n",
      "100%|██████████| 1443/1443 [00:00<00:00, 94891.67it/s]\n",
      "100%|██████████| 1443/1443 [00:00<00:00, 79228.98it/s]\n"
     ]
    },
    {
     "name": "stdout",
     "output_type": "stream",
     "text": [
      "Episode 1526\n",
      "Number of transcations: 34, Wins: 22, Lose: 4, Defeat: 8 \n"
     ]
    },
    {
     "name": "stderr",
     "output_type": "stream",
     "text": [
      "100%|██████████| 1443/1443 [00:00<00:00, 90462.31it/s]\n",
      "100%|██████████| 1443/1443 [00:00<00:00, 90463.66it/s]\n",
      "100%|██████████| 1443/1443 [00:00<00:00, 96481.50it/s]\n",
      "100%|██████████| 1443/1443 [00:00<00:00, 103388.81it/s]\n",
      "100%|██████████| 1443/1443 [00:00<00:00, 88983.35it/s]\n"
     ]
    },
    {
     "name": "stdout",
     "output_type": "stream",
     "text": [
      "Episode 1531\n",
      "Number of transcations: 30, Wins: 20, Lose: 4, Defeat: 6 \n"
     ]
    },
    {
     "name": "stderr",
     "output_type": "stream",
     "text": [
      "100%|██████████| 1443/1443 [00:00<00:00, 128768.58it/s]\n",
      "100%|██████████| 1443/1443 [00:00<00:00, 69575.59it/s]\n",
      "100%|██████████| 1443/1443 [00:00<00:00, 94444.49it/s]\n",
      "100%|██████████| 1443/1443 [00:00<00:00, 109567.17it/s]\n",
      "100%|██████████| 1443/1443 [00:00<00:00, 127941.08it/s]\n"
     ]
    },
    {
     "name": "stdout",
     "output_type": "stream",
     "text": [
      "Episode 1536\n",
      "Number of transcations: 29, Wins: 14, Lose: 4, Defeat: 11 \n"
     ]
    },
    {
     "name": "stderr",
     "output_type": "stream",
     "text": [
      "100%|██████████| 1443/1443 [00:00<00:00, 115640.27it/s]\n",
      "100%|██████████| 1443/1443 [00:00<00:00, 79009.71it/s]\n",
      "100%|██████████| 1443/1443 [00:00<00:00, 79090.24it/s]\n",
      "100%|██████████| 1443/1443 [00:00<00:00, 100792.38it/s]\n",
      "100%|██████████| 1443/1443 [00:00<00:00, 106187.71it/s]\n"
     ]
    },
    {
     "name": "stdout",
     "output_type": "stream",
     "text": [
      "Episode 1541\n",
      "Number of transcations: 28, Wins: 13, Lose: 4, Defeat: 11 \n"
     ]
    },
    {
     "name": "stderr",
     "output_type": "stream",
     "text": [
      "100%|██████████| 1443/1443 [00:00<00:00, 94611.32it/s]\n",
      "100%|██████████| 1443/1443 [00:00<00:00, 119546.11it/s]\n",
      "100%|██████████| 1443/1443 [00:00<00:00, 94913.99it/s]\n",
      "100%|██████████| 1443/1443 [00:00<00:00, 84674.73it/s]\n",
      "100%|██████████| 1443/1443 [00:00<00:00, 86585.04it/s]\n"
     ]
    },
    {
     "name": "stdout",
     "output_type": "stream",
     "text": [
      "Episode 1546\n",
      "Number of transcations: 29, Wins: 19, Lose: 4, Defeat: 6 \n"
     ]
    },
    {
     "name": "stderr",
     "output_type": "stream",
     "text": [
      "100%|██████████| 1443/1443 [00:00<00:00, 65431.14it/s]\n",
      "100%|██████████| 1443/1443 [00:00<00:00, 95031.73it/s]\n",
      "100%|██████████| 1443/1443 [00:00<00:00, 75184.85it/s]\n",
      "100%|██████████| 1443/1443 [00:00<00:00, 143322.85it/s]\n",
      "100%|██████████| 1443/1443 [00:00<00:00, 134440.58it/s]\n"
     ]
    },
    {
     "name": "stdout",
     "output_type": "stream",
     "text": [
      "Episode 1551\n",
      "Number of transcations: 27, Wins: 10, Lose: 4, Defeat: 13 \n"
     ]
    },
    {
     "name": "stderr",
     "output_type": "stream",
     "text": [
      "100%|██████████| 1443/1443 [00:00<00:00, 83147.38it/s]\n",
      "100%|██████████| 1443/1443 [00:00<00:00, 75692.60it/s]\n",
      "100%|██████████| 1443/1443 [00:00<00:00, 95547.81it/s]\n",
      "100%|██████████| 1443/1443 [00:00<00:00, 101712.14it/s]\n",
      "100%|██████████| 1443/1443 [00:00<00:00, 99787.00it/s]\n"
     ]
    },
    {
     "name": "stdout",
     "output_type": "stream",
     "text": [
      "Episode 1556\n",
      "Number of transcations: 34, Wins: 21, Lose: 4, Defeat: 9 \n"
     ]
    },
    {
     "name": "stderr",
     "output_type": "stream",
     "text": [
      "100%|██████████| 1443/1443 [00:00<00:00, 84793.36it/s]\n",
      "100%|██████████| 1443/1443 [00:00<00:00, 77764.11it/s]\n",
      "100%|██████████| 1443/1443 [00:00<00:00, 94844.09it/s]\n",
      "100%|██████████| 1443/1443 [00:00<00:00, 123351.83it/s]\n",
      "100%|██████████| 1443/1443 [00:00<00:00, 93988.36it/s]\n"
     ]
    },
    {
     "name": "stdout",
     "output_type": "stream",
     "text": [
      "Episode 1561\n",
      "Number of transcations: 34, Wins: 23, Lose: 4, Defeat: 7 \n"
     ]
    },
    {
     "name": "stderr",
     "output_type": "stream",
     "text": [
      "100%|██████████| 1443/1443 [00:00<00:00, 82120.74it/s]\n",
      "100%|██████████| 1443/1443 [00:00<00:00, 74312.49it/s]\n",
      "100%|██████████| 1443/1443 [00:00<00:00, 142882.99it/s]\n",
      "100%|██████████| 1443/1443 [00:00<00:00, 98264.10it/s]\n",
      "100%|██████████| 1443/1443 [00:00<00:00, 123940.38it/s]\n"
     ]
    },
    {
     "name": "stdout",
     "output_type": "stream",
     "text": [
      "Episode 1566\n",
      "Number of transcations: 31, Wins: 18, Lose: 4, Defeat: 9 \n"
     ]
    },
    {
     "name": "stderr",
     "output_type": "stream",
     "text": [
      "100%|██████████| 1443/1443 [00:00<00:00, 130636.32it/s]\n",
      "100%|██████████| 1443/1443 [00:00<00:00, 90344.83it/s]\n",
      "100%|██████████| 1443/1443 [00:00<00:00, 96435.38it/s]\n",
      "100%|██████████| 1443/1443 [00:00<00:00, 111302.01it/s]\n",
      "100%|██████████| 1443/1443 [00:00<00:00, 113772.97it/s]\n"
     ]
    },
    {
     "name": "stdout",
     "output_type": "stream",
     "text": [
      "Episode 1571\n",
      "Number of transcations: 24, Wins: 11, Lose: 4, Defeat: 9 \n"
     ]
    },
    {
     "name": "stderr",
     "output_type": "stream",
     "text": [
      "100%|██████████| 1443/1443 [00:00<00:00, 95896.01it/s]\n",
      "100%|██████████| 1443/1443 [00:00<00:00, 93867.38it/s]\n",
      "100%|██████████| 1443/1443 [00:00<00:00, 87841.70it/s]\n",
      "100%|██████████| 1443/1443 [00:00<00:00, 101390.10it/s]\n",
      "100%|██████████| 1443/1443 [00:00<00:00, 86192.92it/s]\n"
     ]
    },
    {
     "name": "stdout",
     "output_type": "stream",
     "text": [
      "Episode 1576\n",
      "Number of transcations: 32, Wins: 20, Lose: 4, Defeat: 8 \n"
     ]
    },
    {
     "name": "stderr",
     "output_type": "stream",
     "text": [
      "100%|██████████| 1443/1443 [00:00<00:00, 101269.65it/s]\n",
      "100%|██████████| 1443/1443 [00:00<00:00, 106838.14it/s]\n",
      "100%|██████████| 1443/1443 [00:00<00:00, 71714.07it/s]\n",
      "100%|██████████| 1443/1443 [00:00<00:00, 61593.06it/s]\n",
      "100%|██████████| 1443/1443 [00:00<00:00, 61570.51it/s]\n"
     ]
    },
    {
     "name": "stdout",
     "output_type": "stream",
     "text": [
      "Episode 1581\n",
      "Number of transcations: 37, Wins: 23, Lose: 4, Defeat: 10 \n"
     ]
    },
    {
     "name": "stderr",
     "output_type": "stream",
     "text": [
      "100%|██████████| 1443/1443 [00:00<00:00, 94618.71it/s]\n",
      "100%|██████████| 1443/1443 [00:00<00:00, 138495.24it/s]\n",
      "100%|██████████| 1443/1443 [00:00<00:00, 103374.68it/s]\n",
      "100%|██████████| 1443/1443 [00:00<00:00, 106252.95it/s]\n",
      "100%|██████████| 1443/1443 [00:00<00:00, 131622.14it/s]\n"
     ]
    },
    {
     "name": "stdout",
     "output_type": "stream",
     "text": [
      "Episode 1586\n",
      "Number of transcations: 25, Wins: 12, Lose: 4, Defeat: 9 \n"
     ]
    },
    {
     "name": "stderr",
     "output_type": "stream",
     "text": [
      "100%|██████████| 1443/1443 [00:00<00:00, 95817.06it/s]\n",
      "100%|██████████| 1443/1443 [00:00<00:00, 119666.66it/s]\n",
      "100%|██████████| 1443/1443 [00:00<00:00, 96103.09it/s]\n",
      "100%|██████████| 1443/1443 [00:01<00:00, 809.23it/s]\n",
      "100%|██████████| 1443/1443 [00:02<00:00, 590.40it/s]\n"
     ]
    },
    {
     "name": "stdout",
     "output_type": "stream",
     "text": [
      "Episode 1591\n",
      "Number of transcations: 33, Wins: 24, Lose: 4, Defeat: 5 \n"
     ]
    },
    {
     "name": "stderr",
     "output_type": "stream",
     "text": [
      "100%|██████████| 1443/1443 [00:03<00:00, 462.00it/s]\n",
      "100%|██████████| 1443/1443 [00:02<00:00, 538.75it/s]\n",
      "100%|██████████| 1443/1443 [00:02<00:00, 569.81it/s]\n",
      "100%|██████████| 1443/1443 [00:04<00:00, 292.03it/s]\n",
      "100%|██████████| 1443/1443 [00:04<00:00, 344.05it/s]\n"
     ]
    },
    {
     "name": "stdout",
     "output_type": "stream",
     "text": [
      "Episode 1596\n",
      "Number of transcations: 40, Wins: 32, Lose: 3, Defeat: 5 \n"
     ]
    },
    {
     "name": "stderr",
     "output_type": "stream",
     "text": [
      "100%|██████████| 1443/1443 [00:06<00:00, 226.80it/s]\n",
      "100%|██████████| 1443/1443 [00:06<00:00, 208.81it/s]\n",
      "100%|██████████| 1443/1443 [00:07<00:00, 204.68it/s]\n",
      "100%|██████████| 1443/1443 [00:07<00:00, 201.63it/s]\n",
      "100%|██████████| 1443/1443 [00:08<00:00, 177.51it/s]\n"
     ]
    },
    {
     "name": "stdout",
     "output_type": "stream",
     "text": [
      "Episode 1601\n",
      "Number of transcations: 40, Wins: 35, Lose: 0, Defeat: 5 \n"
     ]
    },
    {
     "name": "stderr",
     "output_type": "stream",
     "text": [
      "100%|██████████| 1443/1443 [00:08<00:00, 172.65it/s]\n",
      "100%|██████████| 1443/1443 [00:10<00:00, 141.37it/s]\n",
      "100%|██████████| 1443/1443 [00:08<00:00, 175.74it/s]\n",
      "100%|██████████| 1443/1443 [00:12<00:00, 119.92it/s]\n",
      "100%|██████████| 1443/1443 [00:09<00:00, 149.19it/s]\n"
     ]
    },
    {
     "name": "stdout",
     "output_type": "stream",
     "text": [
      "Episode 1606\n",
      "Number of transcations: 36, Wins: 31, Lose: 0, Defeat: 5 \n"
     ]
    },
    {
     "name": "stderr",
     "output_type": "stream",
     "text": [
      "100%|██████████| 1443/1443 [00:06<00:00, 225.93it/s]\n",
      "100%|██████████| 1443/1443 [00:09<00:00, 154.19it/s]\n",
      "100%|██████████| 1443/1443 [00:09<00:00, 154.08it/s]\n",
      "100%|██████████| 1443/1443 [00:10<00:00, 143.13it/s]\n",
      "100%|██████████| 1443/1443 [00:09<00:00, 159.46it/s]\n"
     ]
    },
    {
     "name": "stdout",
     "output_type": "stream",
     "text": [
      "Episode 1611\n",
      "Number of transcations: 37, Wins: 29, Lose: 1, Defeat: 7 \n"
     ]
    },
    {
     "name": "stderr",
     "output_type": "stream",
     "text": [
      "100%|██████████| 1443/1443 [00:08<00:00, 166.29it/s]\n",
      "100%|██████████| 1443/1443 [00:08<00:00, 174.72it/s]\n",
      "100%|██████████| 1443/1443 [00:09<00:00, 156.27it/s]\n",
      "100%|██████████| 1443/1443 [00:08<00:00, 167.36it/s]\n",
      "100%|██████████| 1443/1443 [00:08<00:00, 172.15it/s]\n"
     ]
    },
    {
     "name": "stdout",
     "output_type": "stream",
     "text": [
      "Episode 1616\n",
      "Number of transcations: 41, Wins: 35, Lose: 2, Defeat: 4 \n"
     ]
    },
    {
     "name": "stderr",
     "output_type": "stream",
     "text": [
      "100%|██████████| 1443/1443 [00:09<00:00, 144.51it/s]\n",
      "100%|██████████| 1443/1443 [00:08<00:00, 172.15it/s]\n",
      "100%|██████████| 1443/1443 [00:09<00:00, 150.61it/s]\n",
      "100%|██████████| 1443/1443 [00:10<00:00, 143.49it/s]\n",
      "100%|██████████| 1443/1443 [00:06<00:00, 222.60it/s]\n"
     ]
    },
    {
     "name": "stdout",
     "output_type": "stream",
     "text": [
      "Episode 1621\n",
      "Number of transcations: 31, Wins: 23, Lose: 0, Defeat: 8 \n"
     ]
    },
    {
     "name": "stderr",
     "output_type": "stream",
     "text": [
      "100%|██████████| 1443/1443 [00:09<00:00, 151.95it/s]\n",
      "100%|██████████| 1443/1443 [00:09<00:00, 144.35it/s]\n",
      "100%|██████████| 1443/1443 [00:10<00:00, 138.31it/s]\n",
      "100%|██████████| 1443/1443 [00:08<00:00, 170.74it/s]\n",
      "100%|██████████| 1443/1443 [00:06<00:00, 211.40it/s]\n"
     ]
    },
    {
     "name": "stdout",
     "output_type": "stream",
     "text": [
      "Episode 1626\n",
      "Number of transcations: 37, Wins: 30, Lose: 3, Defeat: 4 \n"
     ]
    },
    {
     "name": "stderr",
     "output_type": "stream",
     "text": [
      "100%|██████████| 1443/1443 [00:09<00:00, 149.69it/s]\n",
      "100%|██████████| 1443/1443 [00:10<00:00, 135.21it/s]\n",
      "100%|██████████| 1443/1443 [00:10<00:00, 140.60it/s]\n",
      "100%|██████████| 1443/1443 [00:10<00:00, 138.92it/s]\n",
      "100%|██████████| 1443/1443 [00:09<00:00, 152.93it/s]\n"
     ]
    },
    {
     "name": "stdout",
     "output_type": "stream",
     "text": [
      "Episode 1631\n",
      "Number of transcations: 37, Wins: 29, Lose: 1, Defeat: 7 \n"
     ]
    },
    {
     "name": "stderr",
     "output_type": "stream",
     "text": [
      "100%|██████████| 1443/1443 [00:09<00:00, 150.05it/s]\n",
      "100%|██████████| 1443/1443 [00:10<00:00, 138.67it/s]\n",
      "100%|██████████| 1443/1443 [00:11<00:00, 127.25it/s]\n",
      "100%|██████████| 1443/1443 [00:10<00:00, 131.51it/s]\n",
      "100%|██████████| 1443/1443 [00:10<00:00, 136.07it/s]\n"
     ]
    },
    {
     "name": "stdout",
     "output_type": "stream",
     "text": [
      "Episode 1636\n",
      "Number of transcations: 37, Wins: 34, Lose: 0, Defeat: 3 \n"
     ]
    },
    {
     "name": "stderr",
     "output_type": "stream",
     "text": [
      "100%|██████████| 1443/1443 [00:10<00:00, 141.36it/s]\n",
      "100%|██████████| 1443/1443 [00:09<00:00, 158.90it/s]\n",
      "100%|██████████| 1443/1443 [00:11<00:00, 127.37it/s]\n",
      "100%|██████████| 1443/1443 [00:09<00:00, 157.43it/s]\n",
      "100%|██████████| 1443/1443 [00:10<00:00, 134.37it/s]\n"
     ]
    },
    {
     "name": "stdout",
     "output_type": "stream",
     "text": [
      "Episode 1641\n",
      "Number of transcations: 35, Wins: 29, Lose: 1, Defeat: 5 \n"
     ]
    },
    {
     "name": "stderr",
     "output_type": "stream",
     "text": [
      "100%|██████████| 1443/1443 [00:09<00:00, 154.25it/s]\n",
      "100%|██████████| 1443/1443 [00:09<00:00, 145.29it/s]\n",
      "100%|██████████| 1443/1443 [00:09<00:00, 146.94it/s]\n",
      "100%|██████████| 1443/1443 [00:09<00:00, 144.54it/s]\n",
      "100%|██████████| 1443/1443 [00:12<00:00, 112.68it/s]\n"
     ]
    },
    {
     "name": "stdout",
     "output_type": "stream",
     "text": [
      "Episode 1646\n",
      "Number of transcations: 41, Wins: 37, Lose: 1, Defeat: 3 \n"
     ]
    },
    {
     "name": "stderr",
     "output_type": "stream",
     "text": [
      "100%|██████████| 1443/1443 [00:09<00:00, 145.79it/s]\n",
      "100%|██████████| 1443/1443 [00:09<00:00, 145.01it/s]\n",
      "100%|██████████| 1443/1443 [00:10<00:00, 132.29it/s]\n",
      "100%|██████████| 1443/1443 [00:09<00:00, 147.03it/s]\n",
      "100%|██████████| 1443/1443 [00:10<00:00, 135.94it/s]\n"
     ]
    },
    {
     "name": "stdout",
     "output_type": "stream",
     "text": [
      "Episode 1651\n",
      "Number of transcations: 39, Wins: 34, Lose: 0, Defeat: 5 \n"
     ]
    },
    {
     "name": "stderr",
     "output_type": "stream",
     "text": [
      "100%|██████████| 1443/1443 [00:11<00:00, 123.39it/s]\n",
      "100%|██████████| 1443/1443 [00:13<00:00, 109.83it/s]\n",
      "100%|██████████| 1443/1443 [00:13<00:00, 107.27it/s]\n",
      "100%|██████████| 1443/1443 [00:12<00:00, 117.14it/s]\n",
      "100%|██████████| 1443/1443 [00:09<00:00, 149.57it/s]\n"
     ]
    },
    {
     "name": "stdout",
     "output_type": "stream",
     "text": [
      "Episode 1656\n",
      "Number of transcations: 40, Wins: 33, Lose: 1, Defeat: 6 \n"
     ]
    },
    {
     "name": "stderr",
     "output_type": "stream",
     "text": [
      "100%|██████████| 1443/1443 [00:06<00:00, 233.96it/s]\n",
      "100%|██████████| 1443/1443 [00:06<00:00, 209.22it/s]\n",
      "100%|██████████| 1443/1443 [00:08<00:00, 171.11it/s]\n",
      "100%|██████████| 1443/1443 [00:08<00:00, 160.75it/s]\n",
      "100%|██████████| 1443/1443 [00:09<00:00, 154.33it/s]\n"
     ]
    },
    {
     "name": "stdout",
     "output_type": "stream",
     "text": [
      "Episode 1661\n",
      "Number of transcations: 40, Wins: 33, Lose: 0, Defeat: 7 \n"
     ]
    },
    {
     "name": "stderr",
     "output_type": "stream",
     "text": [
      "100%|██████████| 1443/1443 [00:06<00:00, 236.61it/s]\n",
      "100%|██████████| 1443/1443 [00:06<00:00, 217.77it/s]\n",
      "100%|██████████| 1443/1443 [00:07<00:00, 181.65it/s]\n",
      "100%|██████████| 1443/1443 [00:09<00:00, 157.70it/s]\n",
      "100%|██████████| 1443/1443 [00:07<00:00, 195.78it/s]\n"
     ]
    },
    {
     "name": "stdout",
     "output_type": "stream",
     "text": [
      "Episode 1666\n",
      "Number of transcations: 40, Wins: 33, Lose: 1, Defeat: 6 \n"
     ]
    },
    {
     "name": "stderr",
     "output_type": "stream",
     "text": [
      "100%|██████████| 1443/1443 [00:07<00:00, 184.72it/s]\n",
      "100%|██████████| 1443/1443 [00:08<00:00, 177.90it/s]\n",
      "100%|██████████| 1443/1443 [00:05<00:00, 250.27it/s]\n",
      "100%|██████████| 1443/1443 [00:09<00:00, 153.30it/s]\n",
      "100%|██████████| 1443/1443 [00:10<00:00, 144.07it/s]\n"
     ]
    },
    {
     "name": "stdout",
     "output_type": "stream",
     "text": [
      "Episode 1671\n",
      "Number of transcations: 37, Wins: 31, Lose: 0, Defeat: 6 \n"
     ]
    },
    {
     "name": "stderr",
     "output_type": "stream",
     "text": [
      "100%|██████████| 1443/1443 [00:10<00:00, 140.48it/s]\n",
      "100%|██████████| 1443/1443 [00:07<00:00, 198.51it/s]\n",
      "100%|██████████| 1443/1443 [00:10<00:00, 137.65it/s]\n",
      "100%|██████████| 1443/1443 [00:07<00:00, 198.70it/s]\n",
      "100%|██████████| 1443/1443 [00:09<00:00, 146.63it/s]\n"
     ]
    },
    {
     "name": "stdout",
     "output_type": "stream",
     "text": [
      "Episode 1676\n",
      "Number of transcations: 37, Wins: 32, Lose: 0, Defeat: 5 \n"
     ]
    },
    {
     "name": "stderr",
     "output_type": "stream",
     "text": [
      "100%|██████████| 1443/1443 [00:09<00:00, 154.98it/s]\n",
      "100%|██████████| 1443/1443 [00:07<00:00, 186.91it/s]\n",
      "100%|██████████| 1443/1443 [00:09<00:00, 149.46it/s]\n",
      "100%|██████████| 1443/1443 [00:08<00:00, 179.06it/s]\n",
      "100%|██████████| 1443/1443 [00:09<00:00, 151.72it/s]\n"
     ]
    },
    {
     "name": "stdout",
     "output_type": "stream",
     "text": [
      "Episode 1681\n",
      "Number of transcations: 36, Wins: 29, Lose: 1, Defeat: 6 \n"
     ]
    },
    {
     "name": "stderr",
     "output_type": "stream",
     "text": [
      "100%|██████████| 1443/1443 [00:11<00:00, 127.17it/s]\n",
      "100%|██████████| 1443/1443 [00:10<00:00, 132.20it/s]\n",
      "100%|██████████| 1443/1443 [00:09<00:00, 146.48it/s]\n",
      "100%|██████████| 1443/1443 [00:07<00:00, 184.58it/s]\n",
      "100%|██████████| 1443/1443 [00:11<00:00, 126.32it/s]\n"
     ]
    },
    {
     "name": "stdout",
     "output_type": "stream",
     "text": [
      "Episode 1686\n",
      "Number of transcations: 37, Wins: 33, Lose: 0, Defeat: 4 \n"
     ]
    },
    {
     "name": "stderr",
     "output_type": "stream",
     "text": [
      "100%|██████████| 1443/1443 [00:11<00:00, 127.31it/s]\n",
      "100%|██████████| 1443/1443 [00:10<00:00, 139.87it/s]\n",
      "100%|██████████| 1443/1443 [00:11<00:00, 121.61it/s]\n",
      "100%|██████████| 1443/1443 [00:11<00:00, 130.19it/s]\n",
      "100%|██████████| 1443/1443 [00:09<00:00, 155.14it/s]\n"
     ]
    },
    {
     "name": "stdout",
     "output_type": "stream",
     "text": [
      "Episode 1691\n",
      "Number of transcations: 45, Wins: 42, Lose: 1, Defeat: 2 \n"
     ]
    },
    {
     "name": "stderr",
     "output_type": "stream",
     "text": [
      "100%|██████████| 1443/1443 [00:12<00:00, 113.70it/s]\n",
      "100%|██████████| 1443/1443 [00:10<00:00, 136.71it/s]\n",
      "100%|██████████| 1443/1443 [00:10<00:00, 132.38it/s]\n",
      "100%|██████████| 1443/1443 [00:11<00:00, 121.39it/s]\n",
      "100%|██████████| 1443/1443 [00:11<00:00, 128.87it/s]\n"
     ]
    },
    {
     "name": "stdout",
     "output_type": "stream",
     "text": [
      "Episode 1696\n",
      "Number of transcations: 41, Wins: 37, Lose: 0, Defeat: 4 \n"
     ]
    },
    {
     "name": "stderr",
     "output_type": "stream",
     "text": [
      "100%|██████████| 1443/1443 [00:08<00:00, 163.09it/s]\n",
      "100%|██████████| 1443/1443 [00:10<00:00, 133.30it/s]\n",
      "100%|██████████| 1443/1443 [00:10<00:00, 132.22it/s]\n",
      "100%|██████████| 1443/1443 [00:10<00:00, 131.36it/s]\n",
      "100%|██████████| 1443/1443 [00:10<00:00, 138.48it/s]\n"
     ]
    },
    {
     "name": "stdout",
     "output_type": "stream",
     "text": [
      "Episode 1701\n",
      "Number of transcations: 40, Wins: 33, Lose: 1, Defeat: 6 \n"
     ]
    },
    {
     "name": "stderr",
     "output_type": "stream",
     "text": [
      "100%|██████████| 1443/1443 [00:08<00:00, 163.30it/s]\n",
      "100%|██████████| 1443/1443 [00:10<00:00, 136.66it/s]\n",
      "100%|██████████| 1443/1443 [00:09<00:00, 150.76it/s]\n",
      "100%|██████████| 1443/1443 [00:09<00:00, 152.35it/s]\n",
      "100%|██████████| 1443/1443 [00:10<00:00, 136.83it/s]\n"
     ]
    },
    {
     "name": "stdout",
     "output_type": "stream",
     "text": [
      "Episode 1706\n",
      "Number of transcations: 37, Wins: 32, Lose: 1, Defeat: 4 \n"
     ]
    },
    {
     "name": "stderr",
     "output_type": "stream",
     "text": [
      "100%|██████████| 1443/1443 [00:06<00:00, 240.46it/s]\n",
      "100%|██████████| 1443/1443 [00:09<00:00, 159.92it/s]\n",
      "100%|██████████| 1443/1443 [00:09<00:00, 158.07it/s]\n",
      "100%|██████████| 1443/1443 [00:08<00:00, 160.93it/s]\n",
      "100%|██████████| 1443/1443 [00:09<00:00, 159.59it/s]\n"
     ]
    },
    {
     "name": "stdout",
     "output_type": "stream",
     "text": [
      "Episode 1711\n",
      "Number of transcations: 41, Wins: 38, Lose: 0, Defeat: 3 \n"
     ]
    },
    {
     "name": "stderr",
     "output_type": "stream",
     "text": [
      "100%|██████████| 1443/1443 [00:07<00:00, 193.38it/s]\n",
      "100%|██████████| 1443/1443 [00:08<00:00, 165.49it/s]\n",
      "100%|██████████| 1443/1443 [00:08<00:00, 176.67it/s]\n",
      "100%|██████████| 1443/1443 [00:09<00:00, 158.45it/s]\n",
      "100%|██████████| 1443/1443 [00:07<00:00, 186.36it/s]\n"
     ]
    },
    {
     "name": "stdout",
     "output_type": "stream",
     "text": [
      "Episode 1716\n",
      "Number of transcations: 45, Wins: 42, Lose: 1, Defeat: 2 \n"
     ]
    },
    {
     "name": "stderr",
     "output_type": "stream",
     "text": [
      "100%|██████████| 1443/1443 [00:08<00:00, 171.04it/s]\n",
      "100%|██████████| 1443/1443 [00:10<00:00, 137.40it/s]\n",
      "100%|██████████| 1443/1443 [00:08<00:00, 166.80it/s]\n",
      "100%|██████████| 1443/1443 [00:10<00:00, 137.28it/s]\n",
      "100%|██████████| 1443/1443 [00:08<00:00, 180.08it/s]\n"
     ]
    },
    {
     "name": "stdout",
     "output_type": "stream",
     "text": [
      "Episode 1721\n",
      "Number of transcations: 42, Wins: 37, Lose: 2, Defeat: 3 \n"
     ]
    },
    {
     "name": "stderr",
     "output_type": "stream",
     "text": [
      "100%|██████████| 1443/1443 [00:10<00:00, 136.54it/s]\n",
      "100%|██████████| 1443/1443 [00:06<00:00, 224.70it/s]\n",
      "100%|██████████| 1443/1443 [00:10<00:00, 139.93it/s]\n",
      "100%|██████████| 1443/1443 [00:10<00:00, 140.30it/s]\n",
      "100%|██████████| 1443/1443 [00:13<00:00, 110.63it/s]\n"
     ]
    },
    {
     "name": "stdout",
     "output_type": "stream",
     "text": [
      "Episode 1726\n",
      "Number of transcations: 42, Wins: 37, Lose: 0, Defeat: 5 \n"
     ]
    },
    {
     "name": "stderr",
     "output_type": "stream",
     "text": [
      "100%|██████████| 1443/1443 [00:10<00:00, 136.18it/s]\n",
      "100%|██████████| 1443/1443 [00:11<00:00, 130.99it/s]\n",
      "100%|██████████| 1443/1443 [00:11<00:00, 121.78it/s]\n",
      "100%|██████████| 1443/1443 [00:11<00:00, 130.85it/s]\n",
      "100%|██████████| 1443/1443 [00:12<00:00, 118.94it/s]\n"
     ]
    },
    {
     "name": "stdout",
     "output_type": "stream",
     "text": [
      "Episode 1731\n",
      "Number of transcations: 39, Wins: 32, Lose: 2, Defeat: 5 \n"
     ]
    },
    {
     "name": "stderr",
     "output_type": "stream",
     "text": [
      "100%|██████████| 1443/1443 [00:11<00:00, 128.13it/s]\n",
      "100%|██████████| 1443/1443 [00:13<00:00, 108.11it/s]\n",
      "100%|██████████| 1443/1443 [00:11<00:00, 122.55it/s]\n",
      "100%|██████████| 1443/1443 [00:10<00:00, 131.21it/s]\n",
      "100%|██████████| 1443/1443 [00:13<00:00, 104.63it/s]\n"
     ]
    },
    {
     "name": "stdout",
     "output_type": "stream",
     "text": [
      "Episode 1736\n",
      "Number of transcations: 40, Wins: 34, Lose: 2, Defeat: 4 \n"
     ]
    },
    {
     "name": "stderr",
     "output_type": "stream",
     "text": [
      "100%|██████████| 1443/1443 [00:09<00:00, 147.72it/s]\n",
      "100%|██████████| 1443/1443 [00:10<00:00, 138.84it/s]\n",
      "100%|██████████| 1443/1443 [00:13<00:00, 108.72it/s]\n",
      "100%|██████████| 1443/1443 [00:14<00:00, 98.75it/s] \n",
      "100%|██████████| 1443/1443 [00:13<00:00, 105.49it/s]\n"
     ]
    },
    {
     "name": "stdout",
     "output_type": "stream",
     "text": [
      "Episode 1741\n",
      "Number of transcations: 46, Wins: 40, Lose: 1, Defeat: 5 \n"
     ]
    },
    {
     "name": "stderr",
     "output_type": "stream",
     "text": [
      "100%|██████████| 1443/1443 [00:11<00:00, 125.65it/s]\n",
      "100%|██████████| 1443/1443 [00:10<00:00, 131.40it/s]\n",
      "100%|██████████| 1443/1443 [00:10<00:00, 134.41it/s]\n",
      "100%|██████████| 1443/1443 [00:10<00:00, 133.49it/s]\n",
      "100%|██████████| 1443/1443 [00:11<00:00, 122.31it/s]\n"
     ]
    },
    {
     "name": "stdout",
     "output_type": "stream",
     "text": [
      "Episode 1746\n",
      "Number of transcations: 45, Wins: 40, Lose: 1, Defeat: 4 \n"
     ]
    },
    {
     "name": "stderr",
     "output_type": "stream",
     "text": [
      "100%|██████████| 1443/1443 [00:07<00:00, 194.91it/s]\n",
      "100%|██████████| 1443/1443 [00:09<00:00, 157.27it/s]\n",
      "100%|██████████| 1443/1443 [00:09<00:00, 151.25it/s]\n",
      "100%|██████████| 1443/1443 [00:10<00:00, 134.52it/s]\n",
      "100%|██████████| 1443/1443 [00:08<00:00, 172.27it/s]\n"
     ]
    },
    {
     "name": "stdout",
     "output_type": "stream",
     "text": [
      "Episode 1751\n",
      "Number of transcations: 43, Wins: 39, Lose: 1, Defeat: 3 \n"
     ]
    },
    {
     "name": "stderr",
     "output_type": "stream",
     "text": [
      "100%|██████████| 1443/1443 [00:07<00:00, 180.48it/s]\n",
      "100%|██████████| 1443/1443 [00:09<00:00, 151.51it/s]\n",
      "100%|██████████| 1443/1443 [00:08<00:00, 171.73it/s]\n",
      "100%|██████████| 1443/1443 [00:07<00:00, 191.17it/s]\n",
      "100%|██████████| 1443/1443 [00:08<00:00, 161.10it/s]\n"
     ]
    },
    {
     "name": "stdout",
     "output_type": "stream",
     "text": [
      "Episode 1756\n",
      "Number of transcations: 40, Wins: 33, Lose: 2, Defeat: 5 \n"
     ]
    },
    {
     "name": "stderr",
     "output_type": "stream",
     "text": [
      "100%|██████████| 1443/1443 [00:07<00:00, 185.08it/s]\n",
      "100%|██████████| 1443/1443 [00:07<00:00, 190.54it/s]\n",
      "100%|██████████| 1443/1443 [00:05<00:00, 276.89it/s]\n",
      "100%|██████████| 1443/1443 [00:06<00:00, 212.11it/s]\n",
      "100%|██████████| 1443/1443 [00:07<00:00, 199.07it/s]\n"
     ]
    },
    {
     "name": "stdout",
     "output_type": "stream",
     "text": [
      "Episode 1761\n",
      "Number of transcations: 40, Wins: 32, Lose: 3, Defeat: 5 \n"
     ]
    },
    {
     "name": "stderr",
     "output_type": "stream",
     "text": [
      "100%|██████████| 1443/1443 [00:06<00:00, 239.88it/s]\n",
      "100%|██████████| 1443/1443 [00:05<00:00, 242.22it/s]\n",
      "100%|██████████| 1443/1443 [00:06<00:00, 233.52it/s]\n",
      "100%|██████████| 1443/1443 [00:06<00:00, 226.67it/s]\n",
      "100%|██████████| 1443/1443 [00:06<00:00, 211.51it/s]\n"
     ]
    },
    {
     "name": "stdout",
     "output_type": "stream",
     "text": [
      "Episode 1766\n",
      "Number of transcations: 40, Wins: 34, Lose: 1, Defeat: 5 \n"
     ]
    },
    {
     "name": "stderr",
     "output_type": "stream",
     "text": [
      "100%|██████████| 1443/1443 [00:04<00:00, 312.44it/s]\n",
      "100%|██████████| 1443/1443 [00:06<00:00, 212.31it/s]\n",
      "100%|██████████| 1443/1443 [00:05<00:00, 241.33it/s]\n",
      "100%|██████████| 1443/1443 [00:05<00:00, 242.67it/s]\n",
      "100%|██████████| 1443/1443 [00:05<00:00, 241.09it/s]\n"
     ]
    },
    {
     "name": "stdout",
     "output_type": "stream",
     "text": [
      "Episode 1771\n",
      "Number of transcations: 42, Wins: 36, Lose: 1, Defeat: 5 \n"
     ]
    },
    {
     "name": "stderr",
     "output_type": "stream",
     "text": [
      "100%|██████████| 1443/1443 [00:06<00:00, 238.78it/s]\n",
      "100%|██████████| 1443/1443 [00:05<00:00, 280.76it/s]\n",
      "100%|██████████| 1443/1443 [00:05<00:00, 245.20it/s]\n",
      "100%|██████████| 1443/1443 [00:06<00:00, 233.91it/s]\n",
      "100%|██████████| 1443/1443 [00:06<00:00, 229.10it/s]\n"
     ]
    },
    {
     "name": "stdout",
     "output_type": "stream",
     "text": [
      "Episode 1776\n",
      "Number of transcations: 39, Wins: 34, Lose: 0, Defeat: 5 \n"
     ]
    },
    {
     "name": "stderr",
     "output_type": "stream",
     "text": [
      "100%|██████████| 1443/1443 [00:06<00:00, 240.35it/s]\n",
      "100%|██████████| 1443/1443 [00:06<00:00, 235.71it/s]\n",
      "100%|██████████| 1443/1443 [00:06<00:00, 214.20it/s]\n",
      "100%|██████████| 1443/1443 [00:06<00:00, 225.33it/s]\n",
      "100%|██████████| 1443/1443 [00:07<00:00, 205.29it/s]\n"
     ]
    },
    {
     "name": "stdout",
     "output_type": "stream",
     "text": [
      "Episode 1781\n",
      "Number of transcations: 38, Wins: 32, Lose: 0, Defeat: 6 \n"
     ]
    },
    {
     "name": "stderr",
     "output_type": "stream",
     "text": [
      "100%|██████████| 1443/1443 [00:08<00:00, 168.38it/s]\n",
      "100%|██████████| 1443/1443 [00:08<00:00, 164.31it/s]\n",
      "100%|██████████| 1443/1443 [00:07<00:00, 185.01it/s]\n",
      "100%|██████████| 1443/1443 [00:09<00:00, 159.24it/s]\n",
      "100%|██████████| 1443/1443 [00:08<00:00, 163.56it/s]\n"
     ]
    },
    {
     "name": "stdout",
     "output_type": "stream",
     "text": [
      "Episode 1786\n",
      "Number of transcations: 41, Wins: 35, Lose: 0, Defeat: 6 \n"
     ]
    },
    {
     "name": "stderr",
     "output_type": "stream",
     "text": [
      "100%|██████████| 1443/1443 [00:05<00:00, 257.13it/s]\n",
      "100%|██████████| 1443/1443 [00:05<00:00, 259.77it/s]\n",
      "100%|██████████| 1443/1443 [00:06<00:00, 227.68it/s]\n",
      "100%|██████████| 1443/1443 [00:07<00:00, 197.70it/s]\n",
      "100%|██████████| 1443/1443 [00:08<00:00, 178.32it/s]\n"
     ]
    },
    {
     "name": "stdout",
     "output_type": "stream",
     "text": [
      "Episode 1791\n",
      "Number of transcations: 43, Wins: 35, Lose: 1, Defeat: 7 \n"
     ]
    },
    {
     "name": "stderr",
     "output_type": "stream",
     "text": [
      "100%|██████████| 1443/1443 [00:08<00:00, 171.69it/s]\n",
      "100%|██████████| 1443/1443 [00:07<00:00, 196.72it/s]\n",
      "100%|██████████| 1443/1443 [00:07<00:00, 187.82it/s]\n",
      "100%|██████████| 1443/1443 [00:07<00:00, 189.57it/s]\n",
      "100%|██████████| 1443/1443 [00:09<00:00, 155.83it/s]\n"
     ]
    },
    {
     "name": "stdout",
     "output_type": "stream",
     "text": [
      "Episode 1796\n",
      "Number of transcations: 42, Wins: 38, Lose: 0, Defeat: 4 \n"
     ]
    },
    {
     "name": "stderr",
     "output_type": "stream",
     "text": [
      "100%|██████████| 1443/1443 [00:08<00:00, 169.44it/s]\n",
      "100%|██████████| 1443/1443 [00:07<00:00, 201.49it/s]\n",
      "100%|██████████| 1443/1443 [00:08<00:00, 164.55it/s]\n",
      "100%|██████████| 1443/1443 [00:09<00:00, 155.57it/s]\n",
      "100%|██████████| 1443/1443 [00:06<00:00, 206.43it/s]\n"
     ]
    },
    {
     "name": "stdout",
     "output_type": "stream",
     "text": [
      "Episode 1801\n",
      "Number of transcations: 39, Wins: 35, Lose: 1, Defeat: 3 \n"
     ]
    },
    {
     "name": "stderr",
     "output_type": "stream",
     "text": [
      "100%|██████████| 1443/1443 [00:07<00:00, 189.31it/s]\n",
      "100%|██████████| 1443/1443 [00:08<00:00, 161.22it/s]\n",
      "100%|██████████| 1443/1443 [00:07<00:00, 200.69it/s]\n",
      "100%|██████████| 1443/1443 [00:09<00:00, 155.87it/s]\n",
      "100%|██████████| 1443/1443 [00:09<00:00, 159.60it/s]\n"
     ]
    },
    {
     "name": "stdout",
     "output_type": "stream",
     "text": [
      "Episode 1806\n",
      "Number of transcations: 42, Wins: 38, Lose: 1, Defeat: 3 \n"
     ]
    },
    {
     "name": "stderr",
     "output_type": "stream",
     "text": [
      "100%|██████████| 1443/1443 [00:07<00:00, 184.35it/s]\n",
      "100%|██████████| 1443/1443 [00:07<00:00, 182.61it/s]\n",
      "100%|██████████| 1443/1443 [00:08<00:00, 178.07it/s]\n",
      "100%|██████████| 1443/1443 [00:07<00:00, 183.56it/s]\n",
      "100%|██████████| 1443/1443 [00:07<00:00, 191.03it/s]\n"
     ]
    },
    {
     "name": "stdout",
     "output_type": "stream",
     "text": [
      "Episode 1811\n",
      "Number of transcations: 36, Wins: 31, Lose: 1, Defeat: 4 \n"
     ]
    },
    {
     "name": "stderr",
     "output_type": "stream",
     "text": [
      "100%|██████████| 1443/1443 [00:08<00:00, 174.37it/s]\n",
      "100%|██████████| 1443/1443 [00:08<00:00, 170.45it/s]\n",
      "100%|██████████| 1443/1443 [00:07<00:00, 185.10it/s]\n",
      "100%|██████████| 1443/1443 [00:07<00:00, 182.60it/s]\n",
      "100%|██████████| 1443/1443 [00:07<00:00, 192.50it/s]\n"
     ]
    },
    {
     "name": "stdout",
     "output_type": "stream",
     "text": [
      "Episode 1816\n",
      "Number of transcations: 44, Wins: 38, Lose: 2, Defeat: 4 \n"
     ]
    },
    {
     "name": "stderr",
     "output_type": "stream",
     "text": [
      "100%|██████████| 1443/1443 [00:05<00:00, 254.29it/s]\n",
      "100%|██████████| 1443/1443 [00:07<00:00, 194.65it/s]\n",
      "100%|██████████| 1443/1443 [00:06<00:00, 206.45it/s]\n",
      "100%|██████████| 1443/1443 [00:06<00:00, 214.91it/s]\n",
      "100%|██████████| 1443/1443 [00:07<00:00, 188.76it/s]\n"
     ]
    },
    {
     "name": "stdout",
     "output_type": "stream",
     "text": [
      "Episode 1821\n",
      "Number of transcations: 45, Wins: 41, Lose: 1, Defeat: 3 \n"
     ]
    },
    {
     "name": "stderr",
     "output_type": "stream",
     "text": [
      "100%|██████████| 1443/1443 [00:06<00:00, 237.81it/s]\n",
      "100%|██████████| 1443/1443 [00:06<00:00, 229.86it/s]\n",
      "100%|██████████| 1443/1443 [00:05<00:00, 276.85it/s]\n",
      "100%|██████████| 1443/1443 [00:06<00:00, 238.03it/s]\n",
      "100%|██████████| 1443/1443 [00:06<00:00, 218.91it/s]\n"
     ]
    },
    {
     "name": "stdout",
     "output_type": "stream",
     "text": [
      "Episode 1826\n",
      "Number of transcations: 46, Wins: 41, Lose: 1, Defeat: 4 \n"
     ]
    },
    {
     "name": "stderr",
     "output_type": "stream",
     "text": [
      "100%|██████████| 1443/1443 [00:06<00:00, 226.50it/s]\n",
      "100%|██████████| 1443/1443 [00:08<00:00, 179.59it/s]\n",
      "100%|██████████| 1443/1443 [00:08<00:00, 171.18it/s]\n",
      "100%|██████████| 1443/1443 [00:09<00:00, 152.73it/s]\n",
      "100%|██████████| 1443/1443 [00:09<00:00, 157.88it/s]\n"
     ]
    },
    {
     "name": "stdout",
     "output_type": "stream",
     "text": [
      "Episode 1831\n",
      "Number of transcations: 37, Wins: 32, Lose: 1, Defeat: 4 \n"
     ]
    },
    {
     "name": "stderr",
     "output_type": "stream",
     "text": [
      "100%|██████████| 1443/1443 [00:08<00:00, 168.57it/s]\n",
      "100%|██████████| 1443/1443 [00:10<00:00, 134.60it/s]\n",
      "100%|██████████| 1443/1443 [00:09<00:00, 147.17it/s]\n",
      "100%|██████████| 1443/1443 [00:10<00:00, 134.15it/s]\n",
      "100%|██████████| 1443/1443 [00:08<00:00, 169.44it/s]\n"
     ]
    },
    {
     "name": "stdout",
     "output_type": "stream",
     "text": [
      "Episode 1836\n",
      "Number of transcations: 39, Wins: 32, Lose: 1, Defeat: 6 \n"
     ]
    },
    {
     "name": "stderr",
     "output_type": "stream",
     "text": [
      "100%|██████████| 1443/1443 [00:09<00:00, 158.51it/s]\n",
      "100%|██████████| 1443/1443 [00:10<00:00, 134.09it/s]\n",
      "100%|██████████| 1443/1443 [00:09<00:00, 147.74it/s]\n",
      "100%|██████████| 1443/1443 [00:10<00:00, 137.92it/s]\n",
      "100%|██████████| 1443/1443 [00:07<00:00, 185.71it/s]\n"
     ]
    },
    {
     "name": "stdout",
     "output_type": "stream",
     "text": [
      "Episode 1841\n",
      "Number of transcations: 40, Wins: 34, Lose: 2, Defeat: 4 \n"
     ]
    },
    {
     "name": "stderr",
     "output_type": "stream",
     "text": [
      "100%|██████████| 1443/1443 [00:08<00:00, 175.61it/s]\n",
      "100%|██████████| 1443/1443 [00:08<00:00, 168.00it/s]\n",
      "100%|██████████| 1443/1443 [00:08<00:00, 164.45it/s]\n",
      "100%|██████████| 1443/1443 [00:08<00:00, 174.95it/s]\n",
      "100%|██████████| 1443/1443 [00:08<00:00, 167.36it/s]\n"
     ]
    },
    {
     "name": "stdout",
     "output_type": "stream",
     "text": [
      "Episode 1846\n",
      "Number of transcations: 40, Wins: 34, Lose: 1, Defeat: 5 \n"
     ]
    },
    {
     "name": "stderr",
     "output_type": "stream",
     "text": [
      "100%|██████████| 1443/1443 [00:07<00:00, 193.53it/s]\n",
      "100%|██████████| 1443/1443 [00:06<00:00, 214.64it/s]\n",
      "100%|██████████| 1443/1443 [00:07<00:00, 195.84it/s]\n",
      "100%|██████████| 1443/1443 [00:07<00:00, 196.87it/s]\n",
      "100%|██████████| 1443/1443 [00:07<00:00, 191.70it/s]\n"
     ]
    },
    {
     "name": "stdout",
     "output_type": "stream",
     "text": [
      "Episode 1851\n",
      "Number of transcations: 43, Wins: 38, Lose: 1, Defeat: 4 \n"
     ]
    },
    {
     "name": "stderr",
     "output_type": "stream",
     "text": [
      "100%|██████████| 1443/1443 [00:06<00:00, 206.26it/s]\n",
      "100%|██████████| 1443/1443 [00:07<00:00, 181.67it/s]\n",
      "100%|██████████| 1443/1443 [00:07<00:00, 185.04it/s]\n",
      "100%|██████████| 1443/1443 [00:07<00:00, 197.41it/s]\n",
      "100%|██████████| 1443/1443 [00:08<00:00, 179.49it/s]\n"
     ]
    },
    {
     "name": "stdout",
     "output_type": "stream",
     "text": [
      "Episode 1856\n",
      "Number of transcations: 42, Wins: 37, Lose: 1, Defeat: 4 \n"
     ]
    },
    {
     "name": "stderr",
     "output_type": "stream",
     "text": [
      "100%|██████████| 1443/1443 [00:05<00:00, 246.76it/s]\n",
      "100%|██████████| 1443/1443 [00:06<00:00, 235.13it/s]\n",
      "100%|██████████| 1443/1443 [00:06<00:00, 218.83it/s]\n",
      "100%|██████████| 1443/1443 [00:05<00:00, 243.71it/s]\n",
      "100%|██████████| 1443/1443 [00:07<00:00, 206.04it/s]\n"
     ]
    },
    {
     "name": "stdout",
     "output_type": "stream",
     "text": [
      "Episode 1861\n",
      "Number of transcations: 43, Wins: 34, Lose: 2, Defeat: 7 \n"
     ]
    },
    {
     "name": "stderr",
     "output_type": "stream",
     "text": [
      "100%|██████████| 1443/1443 [00:05<00:00, 283.93it/s]\n",
      "100%|██████████| 1443/1443 [00:07<00:00, 191.88it/s]\n",
      "100%|██████████| 1443/1443 [00:06<00:00, 218.42it/s]\n",
      "100%|██████████| 1443/1443 [00:07<00:00, 198.53it/s]\n",
      "100%|██████████| 1443/1443 [00:06<00:00, 237.57it/s]\n"
     ]
    },
    {
     "name": "stdout",
     "output_type": "stream",
     "text": [
      "Episode 1866\n",
      "Number of transcations: 41, Wins: 37, Lose: 1, Defeat: 3 \n"
     ]
    },
    {
     "name": "stderr",
     "output_type": "stream",
     "text": [
      "100%|██████████| 1443/1443 [00:07<00:00, 198.30it/s]\n",
      "100%|██████████| 1443/1443 [00:07<00:00, 202.97it/s]\n",
      "100%|██████████| 1443/1443 [00:06<00:00, 221.99it/s]\n",
      "100%|██████████| 1443/1443 [00:07<00:00, 187.86it/s]\n",
      "100%|██████████| 1443/1443 [00:07<00:00, 196.11it/s]\n"
     ]
    },
    {
     "name": "stdout",
     "output_type": "stream",
     "text": [
      "Episode 1871\n",
      "Number of transcations: 40, Wins: 36, Lose: 1, Defeat: 3 \n"
     ]
    },
    {
     "name": "stderr",
     "output_type": "stream",
     "text": [
      "100%|██████████| 1443/1443 [00:05<00:00, 244.82it/s]\n",
      "100%|██████████| 1443/1443 [00:05<00:00, 241.97it/s]\n",
      "100%|██████████| 1443/1443 [00:06<00:00, 221.02it/s]\n",
      "100%|██████████| 1443/1443 [00:06<00:00, 232.07it/s]\n",
      "100%|██████████| 1443/1443 [00:05<00:00, 287.27it/s]\n"
     ]
    },
    {
     "name": "stdout",
     "output_type": "stream",
     "text": [
      "Episode 1876\n",
      "Number of transcations: 43, Wins: 35, Lose: 3, Defeat: 5 \n"
     ]
    },
    {
     "name": "stderr",
     "output_type": "stream",
     "text": [
      "100%|██████████| 1443/1443 [00:06<00:00, 223.32it/s]\n",
      "100%|██████████| 1443/1443 [00:06<00:00, 219.44it/s]\n",
      "100%|██████████| 1443/1443 [00:06<00:00, 239.19it/s]\n",
      "100%|██████████| 1443/1443 [00:06<00:00, 226.34it/s]\n",
      "100%|██████████| 1443/1443 [00:07<00:00, 201.56it/s]\n"
     ]
    },
    {
     "name": "stdout",
     "output_type": "stream",
     "text": [
      "Episode 1881\n",
      "Number of transcations: 42, Wins: 39, Lose: 0, Defeat: 3 \n"
     ]
    },
    {
     "name": "stderr",
     "output_type": "stream",
     "text": [
      "100%|██████████| 1443/1443 [00:05<00:00, 259.12it/s]\n",
      "100%|██████████| 1443/1443 [00:06<00:00, 215.00it/s]\n",
      "100%|██████████| 1443/1443 [00:07<00:00, 194.93it/s]\n",
      "100%|██████████| 1443/1443 [00:05<00:00, 278.09it/s]\n",
      "100%|██████████| 1443/1443 [00:05<00:00, 251.14it/s]\n"
     ]
    },
    {
     "name": "stdout",
     "output_type": "stream",
     "text": [
      "Episode 1886\n",
      "Number of transcations: 41, Wins: 36, Lose: 1, Defeat: 4 \n"
     ]
    },
    {
     "name": "stderr",
     "output_type": "stream",
     "text": [
      "100%|██████████| 1443/1443 [00:07<00:00, 199.84it/s]\n",
      "100%|██████████| 1443/1443 [00:05<00:00, 249.07it/s]\n",
      "100%|██████████| 1443/1443 [00:07<00:00, 202.08it/s]\n",
      "100%|██████████| 1443/1443 [00:06<00:00, 218.16it/s]\n",
      "100%|██████████| 1443/1443 [00:06<00:00, 209.72it/s]\n"
     ]
    },
    {
     "name": "stdout",
     "output_type": "stream",
     "text": [
      "Episode 1891\n",
      "Number of transcations: 43, Wins: 38, Lose: 0, Defeat: 5 \n"
     ]
    },
    {
     "name": "stderr",
     "output_type": "stream",
     "text": [
      "100%|██████████| 1443/1443 [00:05<00:00, 250.81it/s]\n",
      "100%|██████████| 1443/1443 [00:07<00:00, 203.51it/s]\n",
      "100%|██████████| 1443/1443 [00:06<00:00, 215.16it/s]\n",
      "100%|██████████| 1443/1443 [00:06<00:00, 217.82it/s]\n",
      "100%|██████████| 1443/1443 [00:07<00:00, 205.35it/s]\n"
     ]
    },
    {
     "name": "stdout",
     "output_type": "stream",
     "text": [
      "Episode 1896\n",
      "Number of transcations: 40, Wins: 35, Lose: 0, Defeat: 5 \n"
     ]
    },
    {
     "name": "stderr",
     "output_type": "stream",
     "text": [
      "100%|██████████| 1443/1443 [00:06<00:00, 214.03it/s]\n",
      "100%|██████████| 1443/1443 [00:07<00:00, 191.28it/s]\n",
      "100%|██████████| 1443/1443 [00:06<00:00, 218.62it/s]\n",
      "100%|██████████| 1443/1443 [00:07<00:00, 183.66it/s]\n",
      "100%|██████████| 1443/1443 [00:07<00:00, 205.88it/s]\n"
     ]
    },
    {
     "name": "stdout",
     "output_type": "stream",
     "text": [
      "Episode 1901\n",
      "Number of transcations: 45, Wins: 39, Lose: 1, Defeat: 5 \n"
     ]
    },
    {
     "name": "stderr",
     "output_type": "stream",
     "text": [
      "100%|██████████| 1443/1443 [00:07<00:00, 200.02it/s]\n",
      "100%|██████████| 1443/1443 [00:06<00:00, 210.10it/s]\n",
      "100%|██████████| 1443/1443 [00:06<00:00, 224.69it/s]\n",
      "100%|██████████| 1443/1443 [00:06<00:00, 234.61it/s]\n",
      "100%|██████████| 1443/1443 [00:06<00:00, 217.50it/s]\n"
     ]
    },
    {
     "name": "stdout",
     "output_type": "stream",
     "text": [
      "Episode 1906\n",
      "Number of transcations: 43, Wins: 38, Lose: 0, Defeat: 5 \n"
     ]
    },
    {
     "name": "stderr",
     "output_type": "stream",
     "text": [
      "100%|██████████| 1443/1443 [00:07<00:00, 202.27it/s]\n",
      "100%|██████████| 1443/1443 [00:05<00:00, 257.52it/s]\n",
      "100%|██████████| 1443/1443 [00:06<00:00, 222.61it/s]\n",
      "100%|██████████| 1443/1443 [00:06<00:00, 218.10it/s]\n",
      "100%|██████████| 1443/1443 [00:06<00:00, 225.60it/s]\n"
     ]
    },
    {
     "name": "stdout",
     "output_type": "stream",
     "text": [
      "Episode 1911\n",
      "Number of transcations: 43, Wins: 38, Lose: 1, Defeat: 4 \n"
     ]
    },
    {
     "name": "stderr",
     "output_type": "stream",
     "text": [
      "100%|██████████| 1443/1443 [00:06<00:00, 231.42it/s]\n",
      "100%|██████████| 1443/1443 [00:07<00:00, 205.70it/s]\n",
      "100%|██████████| 1443/1443 [00:05<00:00, 255.57it/s]\n",
      "100%|██████████| 1443/1443 [00:07<00:00, 203.50it/s]\n",
      "100%|██████████| 1443/1443 [00:07<00:00, 201.65it/s]\n"
     ]
    },
    {
     "name": "stdout",
     "output_type": "stream",
     "text": [
      "Episode 1916\n",
      "Number of transcations: 45, Wins: 42, Lose: 0, Defeat: 3 \n"
     ]
    },
    {
     "name": "stderr",
     "output_type": "stream",
     "text": [
      "100%|██████████| 1443/1443 [00:07<00:00, 202.10it/s]\n",
      "100%|██████████| 1443/1443 [00:08<00:00, 170.24it/s]\n",
      "100%|██████████| 1443/1443 [00:08<00:00, 165.34it/s]\n",
      "100%|██████████| 1443/1443 [00:08<00:00, 174.54it/s]\n",
      "100%|██████████| 1443/1443 [00:07<00:00, 191.91it/s]\n"
     ]
    },
    {
     "name": "stdout",
     "output_type": "stream",
     "text": [
      "Episode 1921\n",
      "Number of transcations: 47, Wins: 42, Lose: 0, Defeat: 5 \n"
     ]
    },
    {
     "name": "stderr",
     "output_type": "stream",
     "text": [
      "100%|██████████| 1443/1443 [00:07<00:00, 199.27it/s]\n",
      "100%|██████████| 1443/1443 [00:07<00:00, 182.21it/s]\n",
      "100%|██████████| 1443/1443 [00:07<00:00, 193.78it/s]\n",
      "100%|██████████| 1443/1443 [00:07<00:00, 205.26it/s]\n",
      "100%|██████████| 1443/1443 [00:07<00:00, 199.95it/s]\n"
     ]
    },
    {
     "name": "stdout",
     "output_type": "stream",
     "text": [
      "Episode 1926\n",
      "Number of transcations: 42, Wins: 37, Lose: 0, Defeat: 5 \n"
     ]
    },
    {
     "name": "stderr",
     "output_type": "stream",
     "text": [
      "100%|██████████| 1443/1443 [00:07<00:00, 194.43it/s]\n",
      "100%|██████████| 1443/1443 [00:06<00:00, 207.69it/s]\n",
      "100%|██████████| 1443/1443 [00:07<00:00, 201.33it/s]\n",
      "100%|██████████| 1443/1443 [00:07<00:00, 201.68it/s]\n",
      "100%|██████████| 1443/1443 [00:06<00:00, 220.24it/s]\n"
     ]
    },
    {
     "name": "stdout",
     "output_type": "stream",
     "text": [
      "Episode 1931\n",
      "Number of transcations: 39, Wins: 32, Lose: 1, Defeat: 6 \n"
     ]
    },
    {
     "name": "stderr",
     "output_type": "stream",
     "text": [
      "100%|██████████| 1443/1443 [00:07<00:00, 190.68it/s]\n",
      "100%|██████████| 1443/1443 [00:06<00:00, 215.85it/s]\n",
      "100%|██████████| 1443/1443 [00:06<00:00, 217.07it/s]\n",
      "100%|██████████| 1443/1443 [00:06<00:00, 206.85it/s]\n",
      "100%|██████████| 1443/1443 [00:06<00:00, 208.98it/s]\n"
     ]
    },
    {
     "name": "stdout",
     "output_type": "stream",
     "text": [
      "Episode 1936\n",
      "Number of transcations: 40, Wins: 33, Lose: 1, Defeat: 6 \n"
     ]
    },
    {
     "name": "stderr",
     "output_type": "stream",
     "text": [
      "100%|██████████| 1443/1443 [00:06<00:00, 225.05it/s]\n",
      "100%|██████████| 1443/1443 [00:06<00:00, 218.53it/s]\n",
      "100%|██████████| 1443/1443 [00:07<00:00, 188.66it/s]\n",
      "100%|██████████| 1443/1443 [00:06<00:00, 218.84it/s]\n",
      "100%|██████████| 1443/1443 [00:07<00:00, 205.57it/s]\n"
     ]
    },
    {
     "name": "stdout",
     "output_type": "stream",
     "text": [
      "Episode 1941\n",
      "Number of transcations: 41, Wins: 33, Lose: 1, Defeat: 7 \n"
     ]
    },
    {
     "name": "stderr",
     "output_type": "stream",
     "text": [
      "100%|██████████| 1443/1443 [00:07<00:00, 198.21it/s]\n",
      "100%|██████████| 1443/1443 [00:07<00:00, 203.71it/s]\n",
      "100%|██████████| 1443/1443 [00:06<00:00, 208.63it/s]\n",
      "100%|██████████| 1443/1443 [00:07<00:00, 204.05it/s]\n",
      "100%|██████████| 1443/1443 [00:06<00:00, 214.77it/s]\n"
     ]
    },
    {
     "name": "stdout",
     "output_type": "stream",
     "text": [
      "Episode 1946\n",
      "Number of transcations: 40, Wins: 35, Lose: 0, Defeat: 5 \n"
     ]
    },
    {
     "name": "stderr",
     "output_type": "stream",
     "text": [
      "100%|██████████| 1443/1443 [00:07<00:00, 205.67it/s]\n",
      "100%|██████████| 1443/1443 [00:07<00:00, 196.80it/s]\n",
      "100%|██████████| 1443/1443 [00:07<00:00, 191.88it/s]\n",
      "100%|██████████| 1443/1443 [00:07<00:00, 189.64it/s]\n",
      "100%|██████████| 1443/1443 [00:07<00:00, 185.96it/s]\n"
     ]
    },
    {
     "name": "stdout",
     "output_type": "stream",
     "text": [
      "Episode 1951\n",
      "Number of transcations: 38, Wins: 33, Lose: 0, Defeat: 5 \n"
     ]
    },
    {
     "name": "stderr",
     "output_type": "stream",
     "text": [
      "100%|██████████| 1443/1443 [00:08<00:00, 178.63it/s]\n",
      "100%|██████████| 1443/1443 [00:06<00:00, 225.51it/s]\n",
      "100%|██████████| 1443/1443 [00:07<00:00, 182.26it/s]\n",
      "100%|██████████| 1443/1443 [00:07<00:00, 195.18it/s]\n",
      "100%|██████████| 1443/1443 [00:07<00:00, 180.62it/s]\n"
     ]
    },
    {
     "name": "stdout",
     "output_type": "stream",
     "text": [
      "Episode 1956\n",
      "Number of transcations: 39, Wins: 33, Lose: 0, Defeat: 6 \n"
     ]
    },
    {
     "name": "stderr",
     "output_type": "stream",
     "text": [
      "100%|██████████| 1443/1443 [00:07<00:00, 186.18it/s]\n",
      "100%|██████████| 1443/1443 [00:07<00:00, 197.48it/s]\n",
      "100%|██████████| 1443/1443 [00:06<00:00, 234.58it/s]\n",
      "100%|██████████| 1443/1443 [00:08<00:00, 173.67it/s]\n",
      "100%|██████████| 1443/1443 [00:09<00:00, 155.52it/s]\n"
     ]
    },
    {
     "name": "stdout",
     "output_type": "stream",
     "text": [
      "Episode 1961\n",
      "Number of transcations: 36, Wins: 28, Lose: 1, Defeat: 7 \n"
     ]
    },
    {
     "name": "stderr",
     "output_type": "stream",
     "text": [
      "100%|██████████| 1443/1443 [00:07<00:00, 187.02it/s]\n",
      "100%|██████████| 1443/1443 [00:08<00:00, 177.10it/s]\n",
      "100%|██████████| 1443/1443 [00:06<00:00, 220.85it/s]\n",
      "100%|██████████| 1443/1443 [00:08<00:00, 178.43it/s]\n",
      "100%|██████████| 1443/1443 [00:07<00:00, 184.54it/s]\n"
     ]
    },
    {
     "name": "stdout",
     "output_type": "stream",
     "text": [
      "Episode 1966\n",
      "Number of transcations: 41, Wins: 37, Lose: 0, Defeat: 4 \n"
     ]
    },
    {
     "name": "stderr",
     "output_type": "stream",
     "text": [
      "100%|██████████| 1443/1443 [00:09<00:00, 158.40it/s]\n",
      "100%|██████████| 1443/1443 [00:09<00:00, 159.52it/s]\n",
      "100%|██████████| 1443/1443 [00:08<00:00, 161.14it/s]\n",
      "100%|██████████| 1443/1443 [00:09<00:00, 148.42it/s]\n",
      "100%|██████████| 1443/1443 [00:08<00:00, 166.98it/s]\n"
     ]
    },
    {
     "name": "stdout",
     "output_type": "stream",
     "text": [
      "Episode 1971\n",
      "Number of transcations: 42, Wins: 38, Lose: 1, Defeat: 3 \n"
     ]
    },
    {
     "name": "stderr",
     "output_type": "stream",
     "text": [
      "100%|██████████| 1443/1443 [00:06<00:00, 213.97it/s]\n",
      "100%|██████████| 1443/1443 [00:06<00:00, 229.74it/s]\n",
      "100%|██████████| 1443/1443 [00:07<00:00, 181.85it/s]\n",
      "100%|██████████| 1443/1443 [00:06<00:00, 208.13it/s]\n",
      "100%|██████████| 1443/1443 [00:07<00:00, 191.62it/s]\n"
     ]
    },
    {
     "name": "stdout",
     "output_type": "stream",
     "text": [
      "Episode 1976\n",
      "Number of transcations: 46, Wins: 43, Lose: 0, Defeat: 3 \n"
     ]
    },
    {
     "name": "stderr",
     "output_type": "stream",
     "text": [
      "100%|██████████| 1443/1443 [00:07<00:00, 190.58it/s]\n",
      "100%|██████████| 1443/1443 [00:07<00:00, 186.14it/s]\n",
      "100%|██████████| 1443/1443 [00:07<00:00, 201.64it/s]\n",
      "100%|██████████| 1443/1443 [00:07<00:00, 198.53it/s]\n",
      "100%|██████████| 1443/1443 [00:07<00:00, 184.14it/s]\n"
     ]
    },
    {
     "name": "stdout",
     "output_type": "stream",
     "text": [
      "Episode 1981\n",
      "Number of transcations: 41, Wins: 38, Lose: 0, Defeat: 3 \n"
     ]
    },
    {
     "name": "stderr",
     "output_type": "stream",
     "text": [
      "100%|██████████| 1443/1443 [00:06<00:00, 232.66it/s]\n",
      "100%|██████████| 1443/1443 [00:07<00:00, 184.32it/s]\n",
      "100%|██████████| 1443/1443 [00:06<00:00, 211.85it/s]\n",
      "100%|██████████| 1443/1443 [00:08<00:00, 170.52it/s]\n",
      "100%|██████████| 1443/1443 [00:08<00:00, 170.75it/s]\n"
     ]
    },
    {
     "name": "stdout",
     "output_type": "stream",
     "text": [
      "Episode 1986\n",
      "Number of transcations: 44, Wins: 39, Lose: 2, Defeat: 3 \n"
     ]
    },
    {
     "name": "stderr",
     "output_type": "stream",
     "text": [
      "100%|██████████| 1443/1443 [00:09<00:00, 157.77it/s]\n",
      "100%|██████████| 1443/1443 [00:07<00:00, 200.21it/s]\n",
      "100%|██████████| 1443/1443 [00:09<00:00, 157.23it/s]\n",
      "100%|██████████| 1443/1443 [00:07<00:00, 194.47it/s]\n",
      "100%|██████████| 1443/1443 [00:05<00:00, 246.43it/s]\n"
     ]
    },
    {
     "name": "stdout",
     "output_type": "stream",
     "text": [
      "Episode 1991\n",
      "Number of transcations: 42, Wins: 35, Lose: 1, Defeat: 6 \n"
     ]
    },
    {
     "name": "stderr",
     "output_type": "stream",
     "text": [
      "100%|██████████| 1443/1443 [00:06<00:00, 233.71it/s]\n",
      "100%|██████████| 1443/1443 [00:06<00:00, 238.82it/s]\n",
      "100%|██████████| 1443/1443 [00:05<00:00, 250.69it/s]\n",
      "100%|██████████| 1443/1443 [00:05<00:00, 246.57it/s]\n",
      "100%|██████████| 1443/1443 [00:06<00:00, 229.89it/s]\n"
     ]
    },
    {
     "name": "stdout",
     "output_type": "stream",
     "text": [
      "Episode 1996\n",
      "Number of transcations: 39, Wins: 32, Lose: 0, Defeat: 7 \n"
     ]
    },
    {
     "name": "stderr",
     "output_type": "stream",
     "text": [
      "100%|██████████| 1443/1443 [00:06<00:00, 229.88it/s]\n",
      "100%|██████████| 1443/1443 [00:04<00:00, 300.73it/s]\n",
      "100%|██████████| 1443/1443 [00:05<00:00, 268.17it/s]\n",
      "100%|██████████| 1443/1443 [00:05<00:00, 278.74it/s]\n",
      "100%|██████████| 1443/1443 [00:06<00:00, 228.83it/s]\n"
     ]
    },
    {
     "name": "stdout",
     "output_type": "stream",
     "text": [
      "Episode 2001\n",
      "Number of transcations: 38, Wins: 33, Lose: 0, Defeat: 5 \n"
     ]
    },
    {
     "name": "stderr",
     "output_type": "stream",
     "text": [
      "100%|██████████| 1443/1443 [00:07<00:00, 199.33it/s]\n",
      "100%|██████████| 1443/1443 [00:05<00:00, 263.39it/s]\n",
      "100%|██████████| 1443/1443 [00:06<00:00, 206.37it/s]\n",
      "100%|██████████| 1443/1443 [00:06<00:00, 216.71it/s]\n",
      "100%|██████████| 1443/1443 [00:07<00:00, 203.49it/s]\n"
     ]
    },
    {
     "name": "stdout",
     "output_type": "stream",
     "text": [
      "Episode 2006\n",
      "Number of transcations: 41, Wins: 36, Lose: 0, Defeat: 5 \n"
     ]
    },
    {
     "name": "stderr",
     "output_type": "stream",
     "text": [
      "100%|██████████| 1443/1443 [00:05<00:00, 284.12it/s]\n",
      "100%|██████████| 1443/1443 [00:06<00:00, 211.05it/s]\n",
      "100%|██████████| 1443/1443 [00:07<00:00, 201.75it/s]\n",
      "100%|██████████| 1443/1443 [00:07<00:00, 204.01it/s]\n",
      "100%|██████████| 1443/1443 [00:05<00:00, 244.27it/s]\n"
     ]
    },
    {
     "name": "stdout",
     "output_type": "stream",
     "text": [
      "Episode 2011\n",
      "Number of transcations: 37, Wins: 29, Lose: 1, Defeat: 7 \n"
     ]
    },
    {
     "name": "stderr",
     "output_type": "stream",
     "text": [
      "100%|██████████| 1443/1443 [00:10<00:00, 144.09it/s]\n",
      "100%|██████████| 1443/1443 [00:06<00:00, 214.30it/s]\n",
      "100%|██████████| 1443/1443 [00:07<00:00, 188.26it/s]\n",
      "100%|██████████| 1443/1443 [00:07<00:00, 191.93it/s]\n",
      "100%|██████████| 1443/1443 [00:07<00:00, 198.29it/s]\n"
     ]
    },
    {
     "name": "stdout",
     "output_type": "stream",
     "text": [
      "Episode 2016\n",
      "Number of transcations: 42, Wins: 35, Lose: 1, Defeat: 6 \n"
     ]
    },
    {
     "name": "stderr",
     "output_type": "stream",
     "text": [
      "100%|██████████| 1443/1443 [00:08<00:00, 175.06it/s]\n",
      "100%|██████████| 1443/1443 [00:08<00:00, 165.52it/s]\n",
      "100%|██████████| 1443/1443 [00:08<00:00, 168.44it/s]\n",
      "100%|██████████| 1443/1443 [00:08<00:00, 174.87it/s]\n",
      "100%|██████████| 1443/1443 [00:08<00:00, 162.02it/s]\n"
     ]
    },
    {
     "name": "stdout",
     "output_type": "stream",
     "text": [
      "Episode 2021\n",
      "Number of transcations: 37, Wins: 31, Lose: 0, Defeat: 6 \n"
     ]
    },
    {
     "name": "stderr",
     "output_type": "stream",
     "text": [
      "100%|██████████| 1443/1443 [00:08<00:00, 169.93it/s]\n",
      "100%|██████████| 1443/1443 [00:07<00:00, 186.47it/s]\n",
      "100%|██████████| 1443/1443 [00:09<00:00, 158.46it/s]\n",
      "100%|██████████| 1443/1443 [00:09<00:00, 145.67it/s]\n",
      "100%|██████████| 1443/1443 [22:31<00:00,  1.07it/s] \n"
     ]
    },
    {
     "name": "stdout",
     "output_type": "stream",
     "text": [
      "Episode 2026\n",
      "Number of transcations: 37, Wins: 32, Lose: 1, Defeat: 4 \n"
     ]
    },
    {
     "name": "stderr",
     "output_type": "stream",
     "text": [
      "100%|██████████| 1443/1443 [00:05<00:00, 245.47it/s]\n",
      "100%|██████████| 1443/1443 [00:05<00:00, 250.94it/s]\n",
      "100%|██████████| 1443/1443 [00:09<00:00, 149.47it/s]\n",
      "100%|██████████| 1443/1443 [00:08<00:00, 175.14it/s]\n",
      "100%|██████████| 1443/1443 [00:08<00:00, 163.32it/s]\n"
     ]
    },
    {
     "name": "stdout",
     "output_type": "stream",
     "text": [
      "Episode 2031\n",
      "Number of transcations: 36, Wins: 28, Lose: 0, Defeat: 8 \n"
     ]
    },
    {
     "name": "stderr",
     "output_type": "stream",
     "text": [
      "100%|██████████| 1443/1443 [00:10<00:00, 140.92it/s]\n",
      "100%|██████████| 1443/1443 [00:09<00:00, 155.23it/s]\n",
      "100%|██████████| 1443/1443 [00:11<00:00, 124.48it/s]\n",
      "100%|██████████| 1443/1443 [00:12<00:00, 113.44it/s]\n",
      "100%|██████████| 1443/1443 [00:05<00:00, 286.59it/s]\n"
     ]
    },
    {
     "name": "stdout",
     "output_type": "stream",
     "text": [
      "Episode 2036\n",
      "Number of transcations: 39, Wins: 31, Lose: 2, Defeat: 6 \n"
     ]
    },
    {
     "name": "stderr",
     "output_type": "stream",
     "text": [
      "100%|██████████| 1443/1443 [00:05<00:00, 282.57it/s]\n",
      "100%|██████████| 1443/1443 [00:06<00:00, 236.44it/s]\n",
      "100%|██████████| 1443/1443 [00:10<00:00, 133.19it/s]\n",
      "100%|██████████| 1443/1443 [00:10<00:00, 133.13it/s]\n",
      "100%|██████████| 1443/1443 [00:12<00:00, 119.74it/s]\n"
     ]
    },
    {
     "name": "stdout",
     "output_type": "stream",
     "text": [
      "Episode 2041\n",
      "Number of transcations: 42, Wins: 37, Lose: 0, Defeat: 5 \n"
     ]
    },
    {
     "name": "stderr",
     "output_type": "stream",
     "text": [
      "100%|██████████| 1443/1443 [00:07<00:00, 185.10it/s]\n",
      "100%|██████████| 1443/1443 [00:07<00:00, 181.17it/s]\n",
      "100%|██████████| 1443/1443 [00:10<00:00, 143.92it/s]\n",
      "100%|██████████| 1443/1443 [00:07<00:00, 194.15it/s]\n",
      "100%|██████████| 1443/1443 [00:10<00:00, 134.95it/s]\n"
     ]
    },
    {
     "name": "stdout",
     "output_type": "stream",
     "text": [
      "Episode 2046\n",
      "Number of transcations: 40, Wins: 36, Lose: 0, Defeat: 4 \n"
     ]
    },
    {
     "name": "stderr",
     "output_type": "stream",
     "text": [
      "100%|██████████| 1443/1443 [00:07<00:00, 187.96it/s]\n",
      "100%|██████████| 1443/1443 [00:11<00:00, 121.15it/s]\n",
      "100%|██████████| 1443/1443 [00:11<00:00, 122.86it/s]\n",
      "100%|██████████| 1443/1443 [00:08<00:00, 171.31it/s]\n",
      "100%|██████████| 1443/1443 [00:08<00:00, 169.46it/s]\n"
     ]
    },
    {
     "name": "stdout",
     "output_type": "stream",
     "text": [
      "Episode 2051\n",
      "Number of transcations: 41, Wins: 36, Lose: 0, Defeat: 5 \n"
     ]
    },
    {
     "name": "stderr",
     "output_type": "stream",
     "text": [
      "100%|██████████| 1443/1443 [00:11<00:00, 127.05it/s]\n",
      "100%|██████████| 1443/1443 [00:11<00:00, 124.55it/s]\n",
      "100%|██████████| 1443/1443 [00:09<00:00, 156.85it/s]\n",
      "100%|██████████| 1443/1443 [00:07<00:00, 186.98it/s]\n",
      "100%|██████████| 1443/1443 [00:11<00:00, 130.85it/s]\n"
     ]
    },
    {
     "name": "stdout",
     "output_type": "stream",
     "text": [
      "Episode 2056\n",
      "Number of transcations: 42, Wins: 39, Lose: 0, Defeat: 3 \n"
     ]
    },
    {
     "name": "stderr",
     "output_type": "stream",
     "text": [
      "100%|██████████| 1443/1443 [00:10<00:00, 133.27it/s]\n",
      "100%|██████████| 1443/1443 [00:07<00:00, 204.66it/s]\n",
      "100%|██████████| 1443/1443 [00:11<00:00, 126.44it/s]\n",
      "100%|██████████| 1443/1443 [00:09<00:00, 155.08it/s]\n",
      "100%|██████████| 1443/1443 [00:06<00:00, 219.15it/s]\n"
     ]
    },
    {
     "name": "stdout",
     "output_type": "stream",
     "text": [
      "Episode 2061\n",
      "Number of transcations: 41, Wins: 34, Lose: 2, Defeat: 5 \n"
     ]
    },
    {
     "name": "stderr",
     "output_type": "stream",
     "text": [
      "100%|██████████| 1443/1443 [00:10<00:00, 135.62it/s]\n",
      "100%|██████████| 1443/1443 [00:11<00:00, 128.41it/s]\n",
      "100%|██████████| 1443/1443 [00:09<00:00, 150.68it/s]\n",
      "100%|██████████| 1443/1443 [00:10<00:00, 138.12it/s]\n",
      "100%|██████████| 1443/1443 [00:11<00:00, 131.17it/s]\n"
     ]
    },
    {
     "name": "stdout",
     "output_type": "stream",
     "text": [
      "Episode 2066\n",
      "Number of transcations: 39, Wins: 35, Lose: 0, Defeat: 4 \n"
     ]
    },
    {
     "name": "stderr",
     "output_type": "stream",
     "text": [
      "100%|██████████| 1443/1443 [00:11<00:00, 121.61it/s]\n",
      "100%|██████████| 1443/1443 [00:10<00:00, 136.75it/s]\n",
      "100%|██████████| 1443/1443 [00:07<00:00, 194.40it/s]\n",
      "100%|██████████| 1443/1443 [00:12<00:00, 113.85it/s]\n",
      "100%|██████████| 1443/1443 [00:13<00:00, 109.24it/s]\n"
     ]
    },
    {
     "name": "stdout",
     "output_type": "stream",
     "text": [
      "Episode 2071\n",
      "Number of transcations: 36, Wins: 29, Lose: 0, Defeat: 7 \n"
     ]
    },
    {
     "name": "stderr",
     "output_type": "stream",
     "text": [
      "100%|██████████| 1443/1443 [00:10<00:00, 134.30it/s]\n",
      "100%|██████████| 1443/1443 [00:13<00:00, 104.39it/s]\n",
      "100%|██████████| 1443/1443 [00:09<00:00, 145.04it/s]\n",
      "100%|██████████| 1443/1443 [00:12<00:00, 111.54it/s]\n",
      "100%|██████████| 1443/1443 [00:07<00:00, 190.64it/s]\n"
     ]
    },
    {
     "name": "stdout",
     "output_type": "stream",
     "text": [
      "Episode 2076\n",
      "Number of transcations: 40, Wins: 36, Lose: 1, Defeat: 3 \n"
     ]
    },
    {
     "name": "stderr",
     "output_type": "stream",
     "text": [
      "100%|██████████| 1443/1443 [00:08<00:00, 175.16it/s]\n",
      "100%|██████████| 1443/1443 [00:15<00:00, 91.24it/s] \n",
      "100%|██████████| 1443/1443 [00:12<00:00, 115.78it/s]\n",
      "100%|██████████| 1443/1443 [00:14<00:00, 101.97it/s]\n",
      "100%|██████████| 1443/1443 [00:15<00:00, 92.35it/s] \n"
     ]
    },
    {
     "name": "stdout",
     "output_type": "stream",
     "text": [
      "Episode 2081\n",
      "Number of transcations: 40, Wins: 34, Lose: 2, Defeat: 4 \n"
     ]
    },
    {
     "name": "stderr",
     "output_type": "stream",
     "text": [
      "100%|██████████| 1443/1443 [00:11<00:00, 130.70it/s]\n",
      "100%|██████████| 1443/1443 [00:11<00:00, 122.11it/s]\n",
      "100%|██████████| 1443/1443 [00:15<00:00, 94.17it/s] \n",
      "100%|██████████| 1443/1443 [00:15<00:00, 95.22it/s] \n",
      "100%|██████████| 1443/1443 [00:16<00:00, 90.16it/s] \n"
     ]
    },
    {
     "name": "stdout",
     "output_type": "stream",
     "text": [
      "Episode 2086\n",
      "Number of transcations: 42, Wins: 36, Lose: 1, Defeat: 5 \n"
     ]
    },
    {
     "name": "stderr",
     "output_type": "stream",
     "text": [
      "100%|██████████| 1443/1443 [00:07<00:00, 182.86it/s]\n",
      "100%|██████████| 1443/1443 [00:08<00:00, 162.67it/s]\n",
      "100%|██████████| 1443/1443 [00:06<00:00, 211.06it/s]\n",
      "100%|██████████| 1443/1443 [00:11<00:00, 121.46it/s]\n",
      "100%|██████████| 1443/1443 [00:07<00:00, 190.73it/s]\n"
     ]
    },
    {
     "name": "stdout",
     "output_type": "stream",
     "text": [
      "Episode 2091\n",
      "Number of transcations: 40, Wins: 33, Lose: 1, Defeat: 6 \n"
     ]
    },
    {
     "name": "stderr",
     "output_type": "stream",
     "text": [
      "100%|██████████| 1443/1443 [00:08<00:00, 164.36it/s]\n",
      "100%|██████████| 1443/1443 [00:07<00:00, 204.25it/s]\n",
      "100%|██████████| 1443/1443 [00:07<00:00, 180.71it/s]\n",
      "100%|██████████| 1443/1443 [00:06<00:00, 206.89it/s]\n",
      "100%|██████████| 1443/1443 [00:08<00:00, 168.92it/s]\n"
     ]
    },
    {
     "name": "stdout",
     "output_type": "stream",
     "text": [
      "Episode 2096\n",
      "Number of transcations: 35, Wins: 28, Lose: 0, Defeat: 7 \n"
     ]
    },
    {
     "name": "stderr",
     "output_type": "stream",
     "text": [
      "100%|██████████| 1443/1443 [00:08<00:00, 176.40it/s]\n",
      "100%|██████████| 1443/1443 [00:08<00:00, 173.07it/s]\n",
      "100%|██████████| 1443/1443 [00:08<00:00, 165.47it/s]\n",
      "100%|██████████| 1443/1443 [00:08<00:00, 178.95it/s]\n",
      "100%|██████████| 1443/1443 [00:08<00:00, 178.67it/s]\n"
     ]
    },
    {
     "name": "stdout",
     "output_type": "stream",
     "text": [
      "Episode 2101\n",
      "Number of transcations: 37, Wins: 33, Lose: 0, Defeat: 4 \n"
     ]
    },
    {
     "name": "stderr",
     "output_type": "stream",
     "text": [
      "100%|██████████| 1443/1443 [00:08<00:00, 167.48it/s]\n",
      "100%|██████████| 1443/1443 [00:07<00:00, 195.78it/s]\n",
      "100%|██████████| 1443/1443 [00:07<00:00, 204.82it/s]\n",
      "100%|██████████| 1443/1443 [00:07<00:00, 191.40it/s]\n",
      "100%|██████████| 1443/1443 [00:07<00:00, 188.34it/s]\n"
     ]
    },
    {
     "name": "stdout",
     "output_type": "stream",
     "text": [
      "Episode 2106\n",
      "Number of transcations: 39, Wins: 31, Lose: 1, Defeat: 7 \n"
     ]
    },
    {
     "name": "stderr",
     "output_type": "stream",
     "text": [
      "100%|██████████| 1443/1443 [00:07<00:00, 188.93it/s]\n",
      "100%|██████████| 1443/1443 [00:07<00:00, 192.95it/s]\n",
      "100%|██████████| 1443/1443 [00:08<00:00, 167.51it/s]\n",
      "100%|██████████| 1443/1443 [00:11<00:00, 127.37it/s]\n",
      "100%|██████████| 1443/1443 [00:08<00:00, 174.11it/s]\n"
     ]
    },
    {
     "name": "stdout",
     "output_type": "stream",
     "text": [
      "Episode 2111\n",
      "Number of transcations: 43, Wins: 36, Lose: 1, Defeat: 6 \n"
     ]
    },
    {
     "name": "stderr",
     "output_type": "stream",
     "text": [
      "100%|██████████| 1443/1443 [00:11<00:00, 126.10it/s]\n",
      "100%|██████████| 1443/1443 [00:11<00:00, 122.37it/s]\n",
      "100%|██████████| 1443/1443 [00:09<00:00, 145.47it/s]\n",
      "100%|██████████| 1443/1443 [00:10<00:00, 133.70it/s]\n",
      "100%|██████████| 1443/1443 [00:11<00:00, 128.62it/s]\n"
     ]
    },
    {
     "name": "stdout",
     "output_type": "stream",
     "text": [
      "Episode 2116\n",
      "Number of transcations: 44, Wins: 40, Lose: 0, Defeat: 4 \n"
     ]
    },
    {
     "name": "stderr",
     "output_type": "stream",
     "text": [
      "100%|██████████| 1443/1443 [00:06<00:00, 211.50it/s]\n",
      "100%|██████████| 1443/1443 [00:06<00:00, 229.98it/s]\n",
      "100%|██████████| 1443/1443 [00:06<00:00, 214.86it/s]\n",
      "100%|██████████| 1443/1443 [00:07<00:00, 194.29it/s]\n",
      "100%|██████████| 1443/1443 [00:07<00:00, 195.00it/s]\n"
     ]
    },
    {
     "name": "stdout",
     "output_type": "stream",
     "text": [
      "Episode 2121\n",
      "Number of transcations: 42, Wins: 38, Lose: 1, Defeat: 3 \n"
     ]
    },
    {
     "name": "stderr",
     "output_type": "stream",
     "text": [
      "100%|██████████| 1443/1443 [00:08<00:00, 173.96it/s]\n",
      "100%|██████████| 1443/1443 [00:06<00:00, 231.73it/s]\n",
      "100%|██████████| 1443/1443 [00:07<00:00, 192.92it/s]\n",
      "100%|██████████| 1443/1443 [00:07<00:00, 189.61it/s]\n",
      "100%|██████████| 1443/1443 [00:07<00:00, 193.67it/s]\n"
     ]
    },
    {
     "name": "stdout",
     "output_type": "stream",
     "text": [
      "Episode 2126\n",
      "Number of transcations: 39, Wins: 32, Lose: 1, Defeat: 6 \n"
     ]
    },
    {
     "name": "stderr",
     "output_type": "stream",
     "text": [
      "100%|██████████| 1443/1443 [00:06<00:00, 206.18it/s]\n",
      "100%|██████████| 1443/1443 [00:06<00:00, 218.14it/s]\n",
      "100%|██████████| 1443/1443 [00:06<00:00, 215.36it/s]\n",
      "100%|██████████| 1443/1443 [00:06<00:00, 228.88it/s]\n",
      "100%|██████████| 1443/1443 [00:06<00:00, 233.13it/s]\n"
     ]
    },
    {
     "name": "stdout",
     "output_type": "stream",
     "text": [
      "Episode 2131\n",
      "Number of transcations: 45, Wins: 40, Lose: 1, Defeat: 4 \n"
     ]
    },
    {
     "name": "stderr",
     "output_type": "stream",
     "text": [
      "100%|██████████| 1443/1443 [00:05<00:00, 254.97it/s]\n",
      "100%|██████████| 1443/1443 [00:06<00:00, 239.70it/s]\n",
      "100%|██████████| 1443/1443 [00:07<00:00, 205.98it/s]\n",
      "100%|██████████| 1443/1443 [00:06<00:00, 209.38it/s]\n",
      "100%|██████████| 1443/1443 [00:07<00:00, 196.33it/s]\n"
     ]
    },
    {
     "name": "stdout",
     "output_type": "stream",
     "text": [
      "Episode 2136\n",
      "Number of transcations: 43, Wins: 39, Lose: 0, Defeat: 4 \n"
     ]
    },
    {
     "name": "stderr",
     "output_type": "stream",
     "text": [
      "100%|██████████| 1443/1443 [00:09<00:00, 145.05it/s]\n",
      "100%|██████████| 1443/1443 [00:07<00:00, 185.83it/s]\n",
      "100%|██████████| 1443/1443 [00:10<00:00, 137.23it/s]\n",
      "100%|██████████| 1443/1443 [00:11<00:00, 122.23it/s]\n",
      "100%|██████████| 1443/1443 [00:09<00:00, 159.34it/s]\n"
     ]
    },
    {
     "name": "stdout",
     "output_type": "stream",
     "text": [
      "Episode 2141\n",
      "Number of transcations: 42, Wins: 37, Lose: 1, Defeat: 4 \n"
     ]
    },
    {
     "name": "stderr",
     "output_type": "stream",
     "text": [
      "100%|██████████| 1443/1443 [00:08<00:00, 173.43it/s]\n",
      "100%|██████████| 1443/1443 [00:07<00:00, 193.73it/s]\n",
      "100%|██████████| 1443/1443 [00:08<00:00, 171.49it/s]\n",
      "100%|██████████| 1443/1443 [00:07<00:00, 182.86it/s]\n",
      "100%|██████████| 1443/1443 [00:08<00:00, 169.69it/s]\n"
     ]
    },
    {
     "name": "stdout",
     "output_type": "stream",
     "text": [
      "Episode 2146\n",
      "Number of transcations: 42, Wins: 39, Lose: 0, Defeat: 3 \n"
     ]
    },
    {
     "name": "stderr",
     "output_type": "stream",
     "text": [
      "100%|██████████| 1443/1443 [00:07<00:00, 204.90it/s]\n",
      "100%|██████████| 1443/1443 [00:09<00:00, 157.08it/s]\n",
      "100%|██████████| 1443/1443 [00:08<00:00, 175.36it/s]\n",
      "100%|██████████| 1443/1443 [00:09<00:00, 154.28it/s]\n",
      "100%|██████████| 1443/1443 [00:08<00:00, 169.84it/s]\n"
     ]
    },
    {
     "name": "stdout",
     "output_type": "stream",
     "text": [
      "Episode 2151\n",
      "Number of transcations: 40, Wins: 34, Lose: 1, Defeat: 5 \n"
     ]
    },
    {
     "name": "stderr",
     "output_type": "stream",
     "text": [
      "100%|██████████| 1443/1443 [00:06<00:00, 237.80it/s]\n",
      "100%|██████████| 1443/1443 [00:05<00:00, 246.83it/s]\n",
      "100%|██████████| 1443/1443 [00:05<00:00, 264.57it/s]\n",
      "100%|██████████| 1443/1443 [00:05<00:00, 246.77it/s]\n",
      "100%|██████████| 1443/1443 [00:05<00:00, 258.16it/s]\n"
     ]
    },
    {
     "name": "stdout",
     "output_type": "stream",
     "text": [
      "Episode 2156\n",
      "Number of transcations: 45, Wins: 40, Lose: 0, Defeat: 5 \n"
     ]
    },
    {
     "name": "stderr",
     "output_type": "stream",
     "text": [
      "100%|██████████| 1443/1443 [00:06<00:00, 224.15it/s]\n",
      "100%|██████████| 1443/1443 [00:07<00:00, 188.78it/s]\n",
      "100%|██████████| 1443/1443 [00:06<00:00, 226.70it/s]\n",
      "100%|██████████| 1443/1443 [00:07<00:00, 184.90it/s]\n",
      "100%|██████████| 1443/1443 [00:07<00:00, 195.68it/s]\n"
     ]
    },
    {
     "name": "stdout",
     "output_type": "stream",
     "text": [
      "Episode 2161\n",
      "Number of transcations: 41, Wins: 36, Lose: 1, Defeat: 4 \n"
     ]
    },
    {
     "name": "stderr",
     "output_type": "stream",
     "text": [
      "100%|██████████| 1443/1443 [00:05<00:00, 253.78it/s]\n",
      "100%|██████████| 1443/1443 [00:05<00:00, 262.46it/s]\n",
      "100%|██████████| 1443/1443 [00:05<00:00, 258.86it/s]\n",
      "100%|██████████| 1443/1443 [00:05<00:00, 247.37it/s]\n",
      "100%|██████████| 1443/1443 [00:05<00:00, 241.59it/s]\n"
     ]
    },
    {
     "name": "stdout",
     "output_type": "stream",
     "text": [
      "Episode 2166\n",
      "Number of transcations: 42, Wins: 33, Lose: 1, Defeat: 8 \n"
     ]
    },
    {
     "name": "stderr",
     "output_type": "stream",
     "text": [
      "100%|██████████| 1443/1443 [00:05<00:00, 277.35it/s]\n",
      "100%|██████████| 1443/1443 [00:05<00:00, 272.60it/s]\n",
      "100%|██████████| 1443/1443 [00:05<00:00, 288.36it/s]\n",
      "100%|██████████| 1443/1443 [00:05<00:00, 270.77it/s]\n",
      "100%|██████████| 1443/1443 [00:05<00:00, 267.75it/s]\n"
     ]
    },
    {
     "name": "stdout",
     "output_type": "stream",
     "text": [
      "Episode 2171\n",
      "Number of transcations: 43, Wins: 34, Lose: 1, Defeat: 8 \n"
     ]
    },
    {
     "name": "stderr",
     "output_type": "stream",
     "text": [
      "100%|██████████| 1443/1443 [00:04<00:00, 290.21it/s]\n",
      "100%|██████████| 1443/1443 [00:07<00:00, 193.66it/s]\n",
      "100%|██████████| 1443/1443 [00:07<00:00, 194.67it/s]\n",
      "100%|██████████| 1443/1443 [00:05<00:00, 240.80it/s]\n",
      "100%|██████████| 1443/1443 [00:06<00:00, 221.26it/s]\n"
     ]
    },
    {
     "name": "stdout",
     "output_type": "stream",
     "text": [
      "Episode 2176\n",
      "Number of transcations: 41, Wins: 37, Lose: 0, Defeat: 4 \n"
     ]
    },
    {
     "name": "stderr",
     "output_type": "stream",
     "text": [
      "100%|██████████| 1443/1443 [00:05<00:00, 279.61it/s]\n",
      "100%|██████████| 1443/1443 [00:05<00:00, 263.83it/s]\n",
      "100%|██████████| 1443/1443 [00:05<00:00, 263.53it/s]\n",
      "100%|██████████| 1443/1443 [00:05<00:00, 250.63it/s]\n",
      "100%|██████████| 1443/1443 [00:06<00:00, 233.10it/s]\n"
     ]
    },
    {
     "name": "stdout",
     "output_type": "stream",
     "text": [
      "Episode 2181\n",
      "Number of transcations: 43, Wins: 38, Lose: 1, Defeat: 4 \n"
     ]
    },
    {
     "name": "stderr",
     "output_type": "stream",
     "text": [
      "100%|██████████| 1443/1443 [00:05<00:00, 255.62it/s]\n",
      "100%|██████████| 1443/1443 [00:05<00:00, 261.31it/s]\n",
      "100%|██████████| 1443/1443 [00:05<00:00, 244.20it/s]\n",
      "100%|██████████| 1443/1443 [00:05<00:00, 284.87it/s]\n",
      "100%|██████████| 1443/1443 [00:05<00:00, 254.90it/s]\n"
     ]
    },
    {
     "name": "stdout",
     "output_type": "stream",
     "text": [
      "Episode 2186\n",
      "Number of transcations: 45, Wins: 38, Lose: 1, Defeat: 6 \n"
     ]
    },
    {
     "name": "stderr",
     "output_type": "stream",
     "text": [
      "100%|██████████| 1443/1443 [00:05<00:00, 265.22it/s]\n",
      "100%|██████████| 1443/1443 [00:05<00:00, 263.90it/s]\n",
      "100%|██████████| 1443/1443 [00:05<00:00, 259.11it/s]\n",
      "100%|██████████| 1443/1443 [00:05<00:00, 275.58it/s]\n",
      "100%|██████████| 1443/1443 [00:05<00:00, 255.19it/s]\n"
     ]
    },
    {
     "name": "stdout",
     "output_type": "stream",
     "text": [
      "Episode 2191\n",
      "Number of transcations: 43, Wins: 34, Lose: 1, Defeat: 8 \n"
     ]
    },
    {
     "name": "stderr",
     "output_type": "stream",
     "text": [
      "100%|██████████| 1443/1443 [00:05<00:00, 274.06it/s]\n",
      "100%|██████████| 1443/1443 [00:05<00:00, 256.14it/s]\n",
      "100%|██████████| 1443/1443 [00:05<00:00, 241.74it/s]\n",
      "100%|██████████| 1443/1443 [00:04<00:00, 335.18it/s]\n",
      "100%|██████████| 1443/1443 [00:05<00:00, 252.20it/s]\n"
     ]
    },
    {
     "name": "stdout",
     "output_type": "stream",
     "text": [
      "Episode 2196\n",
      "Number of transcations: 43, Wins: 35, Lose: 2, Defeat: 6 \n"
     ]
    },
    {
     "name": "stderr",
     "output_type": "stream",
     "text": [
      "100%|██████████| 1443/1443 [00:05<00:00, 252.27it/s]\n",
      "100%|██████████| 1443/1443 [00:05<00:00, 283.15it/s]\n",
      "100%|██████████| 1443/1443 [00:06<00:00, 236.08it/s]\n",
      "100%|██████████| 1443/1443 [00:05<00:00, 246.16it/s]\n",
      "100%|██████████| 1443/1443 [00:05<00:00, 242.32it/s]\n"
     ]
    },
    {
     "name": "stdout",
     "output_type": "stream",
     "text": [
      "Episode 2201\n",
      "Number of transcations: 41, Wins: 35, Lose: 0, Defeat: 6 \n"
     ]
    },
    {
     "name": "stderr",
     "output_type": "stream",
     "text": [
      "100%|██████████| 1443/1443 [00:07<00:00, 193.53it/s]\n",
      "100%|██████████| 1443/1443 [00:07<00:00, 201.37it/s]\n",
      "100%|██████████| 1443/1443 [00:07<00:00, 204.57it/s]\n",
      "100%|██████████| 1443/1443 [00:06<00:00, 239.89it/s]\n",
      "100%|██████████| 1443/1443 [00:06<00:00, 206.89it/s]\n"
     ]
    },
    {
     "name": "stdout",
     "output_type": "stream",
     "text": [
      "Episode 2206\n",
      "Number of transcations: 42, Wins: 34, Lose: 0, Defeat: 8 \n"
     ]
    },
    {
     "name": "stderr",
     "output_type": "stream",
     "text": [
      "100%|██████████| 1443/1443 [00:07<00:00, 185.32it/s]\n",
      "100%|██████████| 1443/1443 [00:06<00:00, 209.55it/s]\n",
      "100%|██████████| 1443/1443 [00:07<00:00, 192.53it/s]\n",
      "100%|██████████| 1443/1443 [00:07<00:00, 202.59it/s]\n",
      "100%|██████████| 1443/1443 [00:07<00:00, 187.33it/s]\n"
     ]
    },
    {
     "name": "stdout",
     "output_type": "stream",
     "text": [
      "Episode 2211\n",
      "Number of transcations: 38, Wins: 32, Lose: 0, Defeat: 6 \n"
     ]
    },
    {
     "name": "stderr",
     "output_type": "stream",
     "text": [
      "100%|██████████| 1443/1443 [00:08<00:00, 169.77it/s]\n",
      "100%|██████████| 1443/1443 [00:08<00:00, 165.74it/s]\n",
      "100%|██████████| 1443/1443 [00:06<00:00, 234.62it/s]\n",
      "100%|██████████| 1443/1443 [00:07<00:00, 182.51it/s]\n",
      "100%|██████████| 1443/1443 [00:07<00:00, 201.18it/s]\n"
     ]
    },
    {
     "name": "stdout",
     "output_type": "stream",
     "text": [
      "Episode 2216\n",
      "Number of transcations: 41, Wins: 37, Lose: 0, Defeat: 4 \n"
     ]
    },
    {
     "name": "stderr",
     "output_type": "stream",
     "text": [
      "100%|██████████| 1443/1443 [00:06<00:00, 239.68it/s]\n",
      "100%|██████████| 1443/1443 [00:06<00:00, 235.32it/s]\n",
      "100%|██████████| 1443/1443 [00:05<00:00, 249.46it/s]\n",
      "100%|██████████| 1443/1443 [00:07<00:00, 203.85it/s]\n",
      "100%|██████████| 1443/1443 [00:06<00:00, 216.46it/s]\n"
     ]
    },
    {
     "name": "stdout",
     "output_type": "stream",
     "text": [
      "Episode 2221\n",
      "Number of transcations: 38, Wins: 29, Lose: 0, Defeat: 9 \n"
     ]
    },
    {
     "name": "stderr",
     "output_type": "stream",
     "text": [
      "100%|██████████| 1443/1443 [00:06<00:00, 237.14it/s]\n",
      "100%|██████████| 1443/1443 [00:08<00:00, 171.90it/s]\n",
      "100%|██████████| 1443/1443 [00:06<00:00, 207.77it/s]\n",
      "100%|██████████| 1443/1443 [00:07<00:00, 205.64it/s]\n",
      "100%|██████████| 1443/1443 [00:06<00:00, 208.39it/s]\n"
     ]
    },
    {
     "name": "stdout",
     "output_type": "stream",
     "text": [
      "Episode 2226\n",
      "Number of transcations: 41, Wins: 36, Lose: 0, Defeat: 5 \n"
     ]
    },
    {
     "name": "stderr",
     "output_type": "stream",
     "text": [
      "100%|██████████| 1443/1443 [00:07<00:00, 182.33it/s]\n",
      "100%|██████████| 1443/1443 [00:09<00:00, 158.43it/s]\n",
      "100%|██████████| 1443/1443 [00:05<00:00, 243.82it/s]\n",
      "100%|██████████| 1443/1443 [00:06<00:00, 221.08it/s]\n",
      "100%|██████████| 1443/1443 [00:07<00:00, 196.05it/s]\n"
     ]
    },
    {
     "name": "stdout",
     "output_type": "stream",
     "text": [
      "Episode 2231\n",
      "Number of transcations: 38, Wins: 31, Lose: 1, Defeat: 6 \n"
     ]
    },
    {
     "name": "stderr",
     "output_type": "stream",
     "text": [
      "100%|██████████| 1443/1443 [00:06<00:00, 229.81it/s]\n",
      "100%|██████████| 1443/1443 [00:08<00:00, 161.42it/s]\n",
      "100%|██████████| 1443/1443 [00:08<00:00, 170.52it/s]\n",
      "100%|██████████| 1443/1443 [00:07<00:00, 203.65it/s]\n",
      "100%|██████████| 1443/1443 [00:07<00:00, 181.58it/s]\n"
     ]
    },
    {
     "name": "stdout",
     "output_type": "stream",
     "text": [
      "Episode 2236\n",
      "Number of transcations: 40, Wins: 36, Lose: 0, Defeat: 4 \n"
     ]
    },
    {
     "name": "stderr",
     "output_type": "stream",
     "text": [
      "100%|██████████| 1443/1443 [00:06<00:00, 239.10it/s]\n",
      "100%|██████████| 1443/1443 [00:06<00:00, 230.40it/s]\n",
      "100%|██████████| 1443/1443 [00:06<00:00, 218.00it/s]\n",
      "100%|██████████| 1443/1443 [00:06<00:00, 232.71it/s]\n",
      "100%|██████████| 1443/1443 [00:06<00:00, 212.84it/s]\n"
     ]
    },
    {
     "name": "stdout",
     "output_type": "stream",
     "text": [
      "Episode 2241\n",
      "Number of transcations: 45, Wins: 39, Lose: 0, Defeat: 6 \n"
     ]
    },
    {
     "name": "stderr",
     "output_type": "stream",
     "text": [
      "100%|██████████| 1443/1443 [00:06<00:00, 227.21it/s]\n",
      "100%|██████████| 1443/1443 [00:06<00:00, 215.01it/s]\n",
      "100%|██████████| 1443/1443 [00:06<00:00, 220.24it/s]\n",
      "100%|██████████| 1443/1443 [00:06<00:00, 208.93it/s]\n",
      "100%|██████████| 1443/1443 [00:06<00:00, 216.56it/s]\n"
     ]
    },
    {
     "name": "stdout",
     "output_type": "stream",
     "text": [
      "Episode 2246\n",
      "Number of transcations: 37, Wins: 30, Lose: 0, Defeat: 7 \n"
     ]
    },
    {
     "name": "stderr",
     "output_type": "stream",
     "text": [
      "100%|██████████| 1443/1443 [00:07<00:00, 204.00it/s]\n",
      "100%|██████████| 1443/1443 [00:07<00:00, 204.67it/s]\n",
      "100%|██████████| 1443/1443 [00:06<00:00, 207.49it/s]\n",
      "100%|██████████| 1443/1443 [00:06<00:00, 209.34it/s]\n",
      "100%|██████████| 1443/1443 [00:06<00:00, 225.05it/s]\n"
     ]
    },
    {
     "name": "stdout",
     "output_type": "stream",
     "text": [
      "Episode 2251\n",
      "Number of transcations: 40, Wins: 35, Lose: 0, Defeat: 5 \n"
     ]
    },
    {
     "name": "stderr",
     "output_type": "stream",
     "text": [
      "100%|██████████| 1443/1443 [00:06<00:00, 232.05it/s]\n",
      "100%|██████████| 1443/1443 [00:07<00:00, 197.96it/s]\n",
      "100%|██████████| 1443/1443 [00:07<00:00, 192.67it/s]\n",
      "100%|██████████| 1443/1443 [00:06<00:00, 224.92it/s]\n",
      "100%|██████████| 1443/1443 [00:07<00:00, 202.50it/s]\n"
     ]
    },
    {
     "name": "stdout",
     "output_type": "stream",
     "text": [
      "Episode 2256\n",
      "Number of transcations: 43, Wins: 39, Lose: 0, Defeat: 4 \n"
     ]
    },
    {
     "name": "stderr",
     "output_type": "stream",
     "text": [
      "100%|██████████| 1443/1443 [00:05<00:00, 276.84it/s]\n",
      "100%|██████████| 1443/1443 [00:05<00:00, 243.40it/s]\n",
      "100%|██████████| 1443/1443 [00:05<00:00, 250.16it/s]\n",
      "100%|██████████| 1443/1443 [00:05<00:00, 245.00it/s]\n",
      "100%|██████████| 1443/1443 [00:06<00:00, 236.12it/s]\n"
     ]
    },
    {
     "name": "stdout",
     "output_type": "stream",
     "text": [
      "Episode 2261\n",
      "Number of transcations: 45, Wins: 40, Lose: 1, Defeat: 4 \n"
     ]
    },
    {
     "name": "stderr",
     "output_type": "stream",
     "text": [
      "100%|██████████| 1443/1443 [00:08<00:00, 170.92it/s]\n",
      "100%|██████████| 1443/1443 [00:10<00:00, 141.07it/s]\n",
      "100%|██████████| 1443/1443 [00:11<00:00, 130.87it/s]\n",
      "100%|██████████| 1443/1443 [00:10<00:00, 138.91it/s]\n",
      "100%|██████████| 1443/1443 [00:12<00:00, 113.95it/s]\n"
     ]
    },
    {
     "name": "stdout",
     "output_type": "stream",
     "text": [
      "Episode 2266\n",
      "Number of transcations: 40, Wins: 35, Lose: 1, Defeat: 4 \n"
     ]
    },
    {
     "name": "stderr",
     "output_type": "stream",
     "text": [
      "100%|██████████| 1443/1443 [00:07<00:00, 204.91it/s]\n",
      "100%|██████████| 1443/1443 [00:05<00:00, 244.46it/s]\n",
      "100%|██████████| 1443/1443 [00:11<00:00, 127.18it/s]\n",
      "100%|██████████| 1443/1443 [00:08<00:00, 173.28it/s]\n",
      "100%|██████████| 1443/1443 [00:11<00:00, 122.15it/s]\n"
     ]
    },
    {
     "name": "stdout",
     "output_type": "stream",
     "text": [
      "Episode 2271\n",
      "Number of transcations: 42, Wins: 39, Lose: 0, Defeat: 3 \n"
     ]
    },
    {
     "name": "stderr",
     "output_type": "stream",
     "text": [
      "100%|██████████| 1443/1443 [00:10<00:00, 136.49it/s]\n",
      "100%|██████████| 1443/1443 [00:10<00:00, 132.26it/s]\n",
      "100%|██████████| 1443/1443 [00:10<00:00, 134.48it/s]\n",
      "100%|██████████| 1443/1443 [00:08<00:00, 166.23it/s]\n",
      "100%|██████████| 1443/1443 [00:08<00:00, 167.56it/s]\n"
     ]
    },
    {
     "name": "stdout",
     "output_type": "stream",
     "text": [
      "Episode 2276\n",
      "Number of transcations: 45, Wins: 42, Lose: 0, Defeat: 3 \n"
     ]
    },
    {
     "name": "stderr",
     "output_type": "stream",
     "text": [
      "100%|██████████| 1443/1443 [00:06<00:00, 217.61it/s]\n",
      "100%|██████████| 1443/1443 [00:06<00:00, 232.92it/s]\n",
      "100%|██████████| 1443/1443 [00:05<00:00, 275.35it/s]\n",
      "100%|██████████| 1443/1443 [00:06<00:00, 234.29it/s]\n",
      "100%|██████████| 1443/1443 [00:06<00:00, 237.48it/s]\n"
     ]
    },
    {
     "name": "stdout",
     "output_type": "stream",
     "text": [
      "Episode 2281\n",
      "Number of transcations: 42, Wins: 37, Lose: 1, Defeat: 4 \n"
     ]
    },
    {
     "name": "stderr",
     "output_type": "stream",
     "text": [
      "100%|██████████| 1443/1443 [00:08<00:00, 164.92it/s]\n",
      "100%|██████████| 1443/1443 [00:11<00:00, 128.50it/s]\n",
      "100%|██████████| 1443/1443 [00:06<00:00, 225.23it/s]\n",
      "100%|██████████| 1443/1443 [00:09<00:00, 148.00it/s]\n",
      "100%|██████████| 1443/1443 [00:08<00:00, 160.83it/s]\n"
     ]
    },
    {
     "name": "stdout",
     "output_type": "stream",
     "text": [
      "Episode 2286\n",
      "Number of transcations: 40, Wins: 35, Lose: 0, Defeat: 5 \n"
     ]
    },
    {
     "name": "stderr",
     "output_type": "stream",
     "text": [
      "100%|██████████| 1443/1443 [00:10<00:00, 133.51it/s]\n",
      "100%|██████████| 1443/1443 [00:12<00:00, 112.89it/s]\n",
      "100%|██████████| 1443/1443 [00:12<00:00, 111.78it/s]\n",
      "100%|██████████| 1443/1443 [00:13<00:00, 103.49it/s]\n",
      "100%|██████████| 1443/1443 [00:13<00:00, 105.99it/s]\n"
     ]
    },
    {
     "name": "stdout",
     "output_type": "stream",
     "text": [
      "Episode 2291\n",
      "Number of transcations: 40, Wins: 35, Lose: 0, Defeat: 5 \n"
     ]
    },
    {
     "name": "stderr",
     "output_type": "stream",
     "text": [
      "100%|██████████| 1443/1443 [00:09<00:00, 153.35it/s]\n",
      "100%|██████████| 1443/1443 [00:12<00:00, 112.86it/s]\n",
      "100%|██████████| 1443/1443 [00:09<00:00, 157.29it/s]\n",
      "100%|██████████| 1443/1443 [00:09<00:00, 154.14it/s]\n",
      "100%|██████████| 1443/1443 [00:08<00:00, 176.68it/s]\n"
     ]
    },
    {
     "name": "stdout",
     "output_type": "stream",
     "text": [
      "Episode 2296\n",
      "Number of transcations: 40, Wins: 35, Lose: 0, Defeat: 5 \n"
     ]
    },
    {
     "name": "stderr",
     "output_type": "stream",
     "text": [
      "100%|██████████| 1443/1443 [00:10<00:00, 140.00it/s]\n",
      "100%|██████████| 1443/1443 [00:12<00:00, 116.35it/s]\n",
      "100%|██████████| 1443/1443 [00:10<00:00, 132.16it/s]\n",
      "100%|██████████| 1443/1443 [00:11<00:00, 122.10it/s]\n",
      "100%|██████████| 1443/1443 [00:10<00:00, 138.59it/s]\n"
     ]
    },
    {
     "name": "stdout",
     "output_type": "stream",
     "text": [
      "Episode 2301\n",
      "Number of transcations: 42, Wins: 38, Lose: 2, Defeat: 2 \n"
     ]
    },
    {
     "name": "stderr",
     "output_type": "stream",
     "text": [
      "100%|██████████| 1443/1443 [00:08<00:00, 169.10it/s]\n",
      "100%|██████████| 1443/1443 [00:08<00:00, 170.91it/s]\n",
      "100%|██████████| 1443/1443 [00:08<00:00, 178.85it/s]\n",
      "100%|██████████| 1443/1443 [00:08<00:00, 175.42it/s]\n",
      "100%|██████████| 1443/1443 [00:08<00:00, 169.25it/s]\n"
     ]
    },
    {
     "name": "stdout",
     "output_type": "stream",
     "text": [
      "Episode 2306\n",
      "Number of transcations: 42, Wins: 36, Lose: 1, Defeat: 5 \n"
     ]
    },
    {
     "name": "stderr",
     "output_type": "stream",
     "text": [
      "100%|██████████| 1443/1443 [00:09<00:00, 159.84it/s]\n",
      "100%|██████████| 1443/1443 [00:08<00:00, 162.77it/s]\n",
      "100%|██████████| 1443/1443 [00:07<00:00, 201.66it/s]\n",
      "100%|██████████| 1443/1443 [00:08<00:00, 167.88it/s]\n",
      "100%|██████████| 1443/1443 [00:07<00:00, 203.75it/s]\n"
     ]
    },
    {
     "name": "stdout",
     "output_type": "stream",
     "text": [
      "Episode 2311\n",
      "Number of transcations: 48, Wins: 44, Lose: 2, Defeat: 2 \n"
     ]
    },
    {
     "name": "stderr",
     "output_type": "stream",
     "text": [
      "100%|██████████| 1443/1443 [00:08<00:00, 167.95it/s]\n",
      "100%|██████████| 1443/1443 [00:07<00:00, 193.05it/s]\n",
      "100%|██████████| 1443/1443 [00:08<00:00, 175.72it/s]\n",
      "100%|██████████| 1443/1443 [00:07<00:00, 193.15it/s]\n",
      "100%|██████████| 1443/1443 [00:08<00:00, 165.45it/s]\n"
     ]
    },
    {
     "name": "stdout",
     "output_type": "stream",
     "text": [
      "Episode 2316\n",
      "Number of transcations: 41, Wins: 34, Lose: 1, Defeat: 6 \n"
     ]
    },
    {
     "name": "stderr",
     "output_type": "stream",
     "text": [
      "100%|██████████| 1443/1443 [00:08<00:00, 176.63it/s]\n",
      "100%|██████████| 1443/1443 [00:09<00:00, 158.36it/s]\n",
      "100%|██████████| 1443/1443 [00:07<00:00, 184.76it/s]\n",
      "100%|██████████| 1443/1443 [00:07<00:00, 182.76it/s]\n",
      "100%|██████████| 1443/1443 [00:08<00:00, 161.87it/s]\n"
     ]
    },
    {
     "name": "stdout",
     "output_type": "stream",
     "text": [
      "Episode 2321\n",
      "Number of transcations: 36, Wins: 29, Lose: 0, Defeat: 7 \n"
     ]
    },
    {
     "name": "stderr",
     "output_type": "stream",
     "text": [
      "100%|██████████| 1443/1443 [00:07<00:00, 184.25it/s]\n",
      "100%|██████████| 1443/1443 [00:07<00:00, 181.21it/s]\n",
      "100%|██████████| 1443/1443 [00:07<00:00, 202.47it/s]\n",
      "100%|██████████| 1443/1443 [00:07<00:00, 201.66it/s]\n",
      "100%|██████████| 1443/1443 [00:06<00:00, 207.83it/s]\n"
     ]
    },
    {
     "name": "stdout",
     "output_type": "stream",
     "text": [
      "Episode 2326\n",
      "Number of transcations: 34, Wins: 27, Lose: 0, Defeat: 7 \n"
     ]
    },
    {
     "name": "stderr",
     "output_type": "stream",
     "text": [
      "100%|██████████| 1443/1443 [00:08<00:00, 179.53it/s]\n",
      "100%|██████████| 1443/1443 [00:07<00:00, 183.57it/s]\n",
      "100%|██████████| 1443/1443 [00:10<00:00, 137.75it/s]\n",
      "100%|██████████| 1443/1443 [00:10<00:00, 143.80it/s]\n",
      "100%|██████████| 1443/1443 [00:09<00:00, 145.00it/s]\n"
     ]
    },
    {
     "name": "stdout",
     "output_type": "stream",
     "text": [
      "Episode 2331\n",
      "Number of transcations: 37, Wins: 33, Lose: 1, Defeat: 3 \n"
     ]
    },
    {
     "name": "stderr",
     "output_type": "stream",
     "text": [
      "100%|██████████| 1443/1443 [00:08<00:00, 170.80it/s]\n",
      "100%|██████████| 1443/1443 [00:08<00:00, 169.04it/s]\n",
      "100%|██████████| 1443/1443 [00:09<00:00, 154.35it/s]\n",
      "100%|██████████| 1443/1443 [00:08<00:00, 162.77it/s]\n",
      "100%|██████████| 1443/1443 [00:09<00:00, 155.62it/s]\n"
     ]
    },
    {
     "name": "stdout",
     "output_type": "stream",
     "text": [
      "Episode 2336\n",
      "Number of transcations: 39, Wins: 36, Lose: 1, Defeat: 2 \n"
     ]
    },
    {
     "name": "stderr",
     "output_type": "stream",
     "text": [
      "100%|██████████| 1443/1443 [00:09<00:00, 152.44it/s]\n",
      "100%|██████████| 1443/1443 [00:08<00:00, 165.43it/s]\n",
      "100%|██████████| 1443/1443 [00:09<00:00, 148.94it/s]\n",
      "100%|██████████| 1443/1443 [00:09<00:00, 155.98it/s]\n",
      "100%|██████████| 1443/1443 [00:08<00:00, 173.64it/s]\n"
     ]
    },
    {
     "name": "stdout",
     "output_type": "stream",
     "text": [
      "Episode 2341\n",
      "Number of transcations: 38, Wins: 36, Lose: 0, Defeat: 2 \n"
     ]
    },
    {
     "name": "stderr",
     "output_type": "stream",
     "text": [
      "100%|██████████| 1443/1443 [00:07<00:00, 181.53it/s]\n",
      "100%|██████████| 1443/1443 [00:07<00:00, 204.18it/s]\n",
      "100%|██████████| 1443/1443 [00:07<00:00, 198.26it/s]\n",
      "100%|██████████| 1443/1443 [00:07<00:00, 188.67it/s]\n",
      "100%|██████████| 1443/1443 [00:07<00:00, 195.17it/s]\n"
     ]
    },
    {
     "name": "stdout",
     "output_type": "stream",
     "text": [
      "Episode 2346\n",
      "Number of transcations: 37, Wins: 33, Lose: 0, Defeat: 4 \n"
     ]
    },
    {
     "name": "stderr",
     "output_type": "stream",
     "text": [
      "100%|██████████| 1443/1443 [00:06<00:00, 210.42it/s]\n",
      "100%|██████████| 1443/1443 [00:06<00:00, 214.26it/s]\n",
      "100%|██████████| 1443/1443 [00:07<00:00, 182.11it/s]\n",
      "100%|██████████| 1443/1443 [00:08<00:00, 175.62it/s]\n",
      "100%|██████████| 1443/1443 [00:07<00:00, 195.86it/s]\n"
     ]
    },
    {
     "name": "stdout",
     "output_type": "stream",
     "text": [
      "Episode 2351\n",
      "Number of transcations: 46, Wins: 43, Lose: 1, Defeat: 2 \n"
     ]
    },
    {
     "name": "stderr",
     "output_type": "stream",
     "text": [
      "100%|██████████| 1443/1443 [00:09<00:00, 147.58it/s]\n",
      "100%|██████████| 1443/1443 [00:07<00:00, 199.33it/s]\n",
      "100%|██████████| 1443/1443 [00:07<00:00, 182.00it/s]\n",
      "100%|██████████| 1443/1443 [00:09<00:00, 157.91it/s]\n",
      "100%|██████████| 1443/1443 [00:09<00:00, 149.77it/s]\n"
     ]
    },
    {
     "name": "stdout",
     "output_type": "stream",
     "text": [
      "Episode 2356\n",
      "Number of transcations: 41, Wins: 37, Lose: 0, Defeat: 4 \n"
     ]
    },
    {
     "name": "stderr",
     "output_type": "stream",
     "text": [
      "100%|██████████| 1443/1443 [00:09<00:00, 155.38it/s]\n",
      "100%|██████████| 1443/1443 [00:09<00:00, 151.63it/s]\n",
      "100%|██████████| 1443/1443 [00:08<00:00, 172.86it/s]\n",
      "100%|██████████| 1443/1443 [00:07<00:00, 199.77it/s]\n",
      "100%|██████████| 1443/1443 [00:09<00:00, 148.19it/s]\n"
     ]
    },
    {
     "name": "stdout",
     "output_type": "stream",
     "text": [
      "Episode 2361\n",
      "Number of transcations: 49, Wins: 44, Lose: 1, Defeat: 4 \n"
     ]
    },
    {
     "name": "stderr",
     "output_type": "stream",
     "text": [
      "100%|██████████| 1443/1443 [00:07<00:00, 198.14it/s]\n",
      "100%|██████████| 1443/1443 [00:08<00:00, 166.00it/s]\n",
      "100%|██████████| 1443/1443 [00:10<00:00, 134.72it/s]\n",
      "100%|██████████| 1443/1443 [00:10<00:00, 143.96it/s]\n",
      "100%|██████████| 1443/1443 [00:08<00:00, 178.64it/s]\n"
     ]
    },
    {
     "name": "stdout",
     "output_type": "stream",
     "text": [
      "Episode 2366\n",
      "Number of transcations: 44, Wins: 38, Lose: 1, Defeat: 5 \n"
     ]
    },
    {
     "name": "stderr",
     "output_type": "stream",
     "text": [
      "100%|██████████| 1443/1443 [00:10<00:00, 134.59it/s]\n",
      "100%|██████████| 1443/1443 [00:10<00:00, 143.90it/s]\n",
      "100%|██████████| 1443/1443 [00:09<00:00, 151.11it/s]\n",
      "100%|██████████| 1443/1443 [00:11<00:00, 130.17it/s]\n",
      "100%|██████████| 1443/1443 [00:11<00:00, 123.06it/s]\n"
     ]
    },
    {
     "name": "stdout",
     "output_type": "stream",
     "text": [
      "Episode 2371\n",
      "Number of transcations: 46, Wins: 39, Lose: 0, Defeat: 7 \n"
     ]
    },
    {
     "name": "stderr",
     "output_type": "stream",
     "text": [
      "100%|██████████| 1443/1443 [00:10<00:00, 143.93it/s]\n",
      "100%|██████████| 1443/1443 [00:08<00:00, 178.19it/s]\n",
      "100%|██████████| 1443/1443 [00:09<00:00, 145.22it/s]\n",
      "100%|██████████| 1443/1443 [00:08<00:00, 173.71it/s]\n",
      "100%|██████████| 1443/1443 [00:08<00:00, 178.53it/s]\n"
     ]
    },
    {
     "name": "stdout",
     "output_type": "stream",
     "text": [
      "Episode 2376\n",
      "Number of transcations: 43, Wins: 35, Lose: 1, Defeat: 7 \n"
     ]
    },
    {
     "name": "stderr",
     "output_type": "stream",
     "text": [
      "100%|██████████| 1443/1443 [00:08<00:00, 171.20it/s]\n",
      "100%|██████████| 1443/1443 [00:08<00:00, 169.66it/s]\n",
      "100%|██████████| 1443/1443 [00:08<00:00, 175.68it/s]\n",
      "100%|██████████| 1443/1443 [00:08<00:00, 174.88it/s]\n",
      "100%|██████████| 1443/1443 [00:08<00:00, 169.42it/s]\n"
     ]
    },
    {
     "name": "stdout",
     "output_type": "stream",
     "text": [
      "Episode 2381\n",
      "Number of transcations: 44, Wins: 40, Lose: 0, Defeat: 4 \n"
     ]
    },
    {
     "name": "stderr",
     "output_type": "stream",
     "text": [
      "100%|██████████| 1443/1443 [00:07<00:00, 191.71it/s]\n",
      "100%|██████████| 1443/1443 [00:06<00:00, 211.62it/s]\n",
      "100%|██████████| 1443/1443 [00:06<00:00, 221.45it/s]\n",
      "100%|██████████| 1443/1443 [00:07<00:00, 204.41it/s]\n",
      "100%|██████████| 1443/1443 [00:07<00:00, 184.56it/s]\n"
     ]
    },
    {
     "name": "stdout",
     "output_type": "stream",
     "text": [
      "Episode 2386\n",
      "Number of transcations: 46, Wins: 40, Lose: 1, Defeat: 5 \n"
     ]
    },
    {
     "name": "stderr",
     "output_type": "stream",
     "text": [
      "100%|██████████| 1443/1443 [00:06<00:00, 227.44it/s]\n",
      "100%|██████████| 1443/1443 [00:06<00:00, 219.10it/s]\n",
      "100%|██████████| 1443/1443 [00:07<00:00, 192.91it/s]\n",
      "100%|██████████| 1443/1443 [00:07<00:00, 181.15it/s]\n",
      "100%|██████████| 1443/1443 [00:07<00:00, 182.49it/s]\n"
     ]
    },
    {
     "name": "stdout",
     "output_type": "stream",
     "text": [
      "Episode 2391\n",
      "Number of transcations: 40, Wins: 35, Lose: 0, Defeat: 5 \n"
     ]
    },
    {
     "name": "stderr",
     "output_type": "stream",
     "text": [
      "100%|██████████| 1443/1443 [00:08<00:00, 164.86it/s]\n",
      "100%|██████████| 1443/1443 [00:07<00:00, 187.89it/s]\n",
      "100%|██████████| 1443/1443 [00:08<00:00, 169.14it/s]\n",
      "100%|██████████| 1443/1443 [00:07<00:00, 195.38it/s]\n",
      "100%|██████████| 1443/1443 [00:08<00:00, 172.38it/s]\n"
     ]
    },
    {
     "name": "stdout",
     "output_type": "stream",
     "text": [
      "Episode 2396\n",
      "Number of transcations: 40, Wins: 33, Lose: 1, Defeat: 6 \n"
     ]
    },
    {
     "name": "stderr",
     "output_type": "stream",
     "text": [
      "100%|██████████| 1443/1443 [00:06<00:00, 217.14it/s]\n",
      "100%|██████████| 1443/1443 [00:08<00:00, 169.21it/s]\n",
      "100%|██████████| 1443/1443 [00:07<00:00, 183.72it/s]\n",
      "100%|██████████| 1443/1443 [00:08<00:00, 177.02it/s]\n",
      "100%|██████████| 1443/1443 [00:08<00:00, 178.53it/s]\n"
     ]
    },
    {
     "name": "stdout",
     "output_type": "stream",
     "text": [
      "Episode 2401\n",
      "Number of transcations: 41, Wins: 37, Lose: 1, Defeat: 3 \n"
     ]
    },
    {
     "name": "stderr",
     "output_type": "stream",
     "text": [
      "100%|██████████| 1443/1443 [00:09<00:00, 157.84it/s]\n",
      "100%|██████████| 1443/1443 [00:08<00:00, 161.25it/s]\n",
      "100%|██████████| 1443/1443 [00:08<00:00, 168.78it/s]\n",
      "100%|██████████| 1443/1443 [00:09<00:00, 155.50it/s]\n",
      "100%|██████████| 1443/1443 [00:08<00:00, 172.82it/s]\n"
     ]
    },
    {
     "name": "stdout",
     "output_type": "stream",
     "text": [
      "Episode 2406\n",
      "Number of transcations: 42, Wins: 34, Lose: 2, Defeat: 6 \n"
     ]
    },
    {
     "name": "stderr",
     "output_type": "stream",
     "text": [
      "100%|██████████| 1443/1443 [00:13<00:00, 108.92it/s]\n",
      "100%|██████████| 1443/1443 [00:11<00:00, 128.49it/s]\n",
      "100%|██████████| 1443/1443 [00:12<00:00, 111.21it/s]\n",
      "100%|██████████| 1443/1443 [00:11<00:00, 129.03it/s]\n",
      "100%|██████████| 1443/1443 [00:10<00:00, 135.87it/s]\n"
     ]
    },
    {
     "name": "stdout",
     "output_type": "stream",
     "text": [
      "Episode 2411\n",
      "Number of transcations: 41, Wins: 37, Lose: 0, Defeat: 4 \n"
     ]
    },
    {
     "name": "stderr",
     "output_type": "stream",
     "text": [
      "100%|██████████| 1443/1443 [00:08<00:00, 173.26it/s]\n",
      "100%|██████████| 1443/1443 [00:11<00:00, 128.91it/s]\n",
      "100%|██████████| 1443/1443 [00:11<00:00, 121.14it/s]\n",
      "100%|██████████| 1443/1443 [00:12<00:00, 118.64it/s]\n",
      "100%|██████████| 1443/1443 [00:11<00:00, 120.89it/s]\n"
     ]
    },
    {
     "name": "stdout",
     "output_type": "stream",
     "text": [
      "Episode 2416\n",
      "Number of transcations: 46, Wins: 42, Lose: 0, Defeat: 4 \n"
     ]
    },
    {
     "name": "stderr",
     "output_type": "stream",
     "text": [
      "100%|██████████| 1443/1443 [00:11<00:00, 121.86it/s]\n",
      "100%|██████████| 1443/1443 [00:09<00:00, 154.71it/s]\n",
      "100%|██████████| 1443/1443 [00:11<00:00, 122.22it/s]\n",
      "100%|██████████| 1443/1443 [00:11<00:00, 127.28it/s]\n",
      "100%|██████████| 1443/1443 [00:11<00:00, 124.22it/s]\n"
     ]
    },
    {
     "name": "stdout",
     "output_type": "stream",
     "text": [
      "Episode 2421\n",
      "Number of transcations: 46, Wins: 42, Lose: 0, Defeat: 4 \n"
     ]
    },
    {
     "name": "stderr",
     "output_type": "stream",
     "text": [
      "100%|██████████| 1443/1443 [00:09<00:00, 145.57it/s]\n",
      "100%|██████████| 1443/1443 [00:08<00:00, 170.34it/s]\n",
      "100%|██████████| 1443/1443 [00:07<00:00, 191.67it/s]\n",
      "100%|██████████| 1443/1443 [00:08<00:00, 165.30it/s]\n",
      "100%|██████████| 1443/1443 [00:08<00:00, 171.34it/s]\n"
     ]
    },
    {
     "name": "stdout",
     "output_type": "stream",
     "text": [
      "Episode 2426\n",
      "Number of transcations: 40, Wins: 35, Lose: 0, Defeat: 5 \n"
     ]
    },
    {
     "name": "stderr",
     "output_type": "stream",
     "text": [
      "100%|██████████| 1443/1443 [00:08<00:00, 163.75it/s]\n",
      "100%|██████████| 1443/1443 [00:07<00:00, 185.14it/s]\n",
      "100%|██████████| 1443/1443 [00:08<00:00, 175.40it/s]\n",
      "100%|██████████| 1443/1443 [00:07<00:00, 185.89it/s]\n",
      "100%|██████████| 1443/1443 [00:09<00:00, 157.34it/s]\n"
     ]
    },
    {
     "name": "stdout",
     "output_type": "stream",
     "text": [
      "Episode 2431\n",
      "Number of transcations: 42, Wins: 35, Lose: 0, Defeat: 7 \n"
     ]
    },
    {
     "name": "stderr",
     "output_type": "stream",
     "text": [
      "100%|██████████| 1443/1443 [00:08<00:00, 163.69it/s]\n",
      "100%|██████████| 1443/1443 [00:09<00:00, 155.54it/s]\n",
      "100%|██████████| 1443/1443 [00:08<00:00, 179.27it/s]\n",
      "100%|██████████| 1443/1443 [00:10<00:00, 135.80it/s]\n",
      "100%|██████████| 1443/1443 [00:07<00:00, 202.91it/s]\n"
     ]
    },
    {
     "name": "stdout",
     "output_type": "stream",
     "text": [
      "Episode 2436\n",
      "Number of transcations: 43, Wins: 37, Lose: 0, Defeat: 6 \n"
     ]
    },
    {
     "name": "stderr",
     "output_type": "stream",
     "text": [
      "100%|██████████| 1443/1443 [00:08<00:00, 173.41it/s]\n",
      "100%|██████████| 1443/1443 [00:08<00:00, 175.97it/s]\n",
      "100%|██████████| 1443/1443 [00:10<00:00, 143.87it/s]\n",
      "100%|██████████| 1443/1443 [00:11<00:00, 127.75it/s]\n",
      "100%|██████████| 1443/1443 [00:10<00:00, 142.20it/s]\n"
     ]
    },
    {
     "name": "stdout",
     "output_type": "stream",
     "text": [
      "Episode 2441\n",
      "Number of transcations: 43, Wins: 34, Lose: 1, Defeat: 8 \n"
     ]
    },
    {
     "name": "stderr",
     "output_type": "stream",
     "text": [
      "100%|██████████| 1443/1443 [00:07<00:00, 185.70it/s]\n",
      "100%|██████████| 1443/1443 [00:08<00:00, 169.16it/s]\n",
      "100%|██████████| 1443/1443 [00:08<00:00, 171.62it/s]\n",
      "100%|██████████| 1443/1443 [00:08<00:00, 179.21it/s]\n",
      "100%|██████████| 1443/1443 [00:07<00:00, 199.66it/s]\n"
     ]
    },
    {
     "name": "stdout",
     "output_type": "stream",
     "text": [
      "Episode 2446\n",
      "Number of transcations: 43, Wins: 35, Lose: 1, Defeat: 7 \n"
     ]
    },
    {
     "name": "stderr",
     "output_type": "stream",
     "text": [
      "100%|██████████| 1443/1443 [00:09<00:00, 157.71it/s]\n",
      "100%|██████████| 1443/1443 [00:08<00:00, 165.05it/s]\n",
      "100%|██████████| 1443/1443 [00:09<00:00, 160.14it/s]\n",
      "100%|██████████| 1443/1443 [00:06<00:00, 212.37it/s]\n",
      "100%|██████████| 1443/1443 [00:08<00:00, 162.51it/s]\n"
     ]
    },
    {
     "name": "stdout",
     "output_type": "stream",
     "text": [
      "Episode 2451\n",
      "Number of transcations: 43, Wins: 37, Lose: 0, Defeat: 6 \n"
     ]
    },
    {
     "name": "stderr",
     "output_type": "stream",
     "text": [
      "100%|██████████| 1443/1443 [00:08<00:00, 173.97it/s]\n",
      "100%|██████████| 1443/1443 [00:07<00:00, 194.35it/s]\n",
      "100%|██████████| 1443/1443 [23:40<00:00,  1.02it/s] \n",
      "100%|██████████| 1443/1443 [00:07<00:00, 192.64it/s]\n",
      "100%|██████████| 1443/1443 [00:07<00:00, 203.87it/s]\n"
     ]
    },
    {
     "name": "stdout",
     "output_type": "stream",
     "text": [
      "Episode 2456\n",
      "Number of transcations: 42, Wins: 37, Lose: 0, Defeat: 5 \n"
     ]
    },
    {
     "name": "stderr",
     "output_type": "stream",
     "text": [
      "100%|██████████| 1443/1443 [00:07<00:00, 196.15it/s]\n",
      "100%|██████████| 1443/1443 [00:07<00:00, 182.09it/s]\n",
      "100%|██████████| 1443/1443 [00:07<00:00, 195.44it/s]\n",
      "100%|██████████| 1443/1443 [00:07<00:00, 204.60it/s]\n",
      "100%|██████████| 1443/1443 [00:07<00:00, 187.94it/s]\n"
     ]
    },
    {
     "name": "stdout",
     "output_type": "stream",
     "text": [
      "Episode 2461\n",
      "Number of transcations: 38, Wins: 32, Lose: 1, Defeat: 5 \n"
     ]
    },
    {
     "name": "stderr",
     "output_type": "stream",
     "text": [
      "100%|██████████| 1443/1443 [00:07<00:00, 205.43it/s]\n",
      "100%|██████████| 1443/1443 [00:06<00:00, 213.92it/s]\n",
      "100%|██████████| 1443/1443 [00:07<00:00, 199.35it/s]\n",
      "100%|██████████| 1443/1443 [00:07<00:00, 197.25it/s]\n",
      "100%|██████████| 1443/1443 [00:05<00:00, 269.11it/s]\n"
     ]
    },
    {
     "name": "stdout",
     "output_type": "stream",
     "text": [
      "Episode 2466\n",
      "Number of transcations: 36, Wins: 29, Lose: 1, Defeat: 6 \n"
     ]
    },
    {
     "name": "stderr",
     "output_type": "stream",
     "text": [
      "100%|██████████| 1443/1443 [00:06<00:00, 225.72it/s]\n",
      "100%|██████████| 1443/1443 [00:06<00:00, 228.44it/s]\n",
      "100%|██████████| 1443/1443 [00:05<00:00, 241.89it/s]\n",
      "100%|██████████| 1443/1443 [00:06<00:00, 235.88it/s]\n",
      "100%|██████████| 1443/1443 [00:06<00:00, 236.56it/s]\n"
     ]
    },
    {
     "name": "stdout",
     "output_type": "stream",
     "text": [
      "Episode 2471\n",
      "Number of transcations: 41, Wins: 33, Lose: 1, Defeat: 7 \n"
     ]
    },
    {
     "name": "stderr",
     "output_type": "stream",
     "text": [
      "100%|██████████| 1443/1443 [00:09<00:00, 153.09it/s]\n",
      "100%|██████████| 1443/1443 [00:08<00:00, 172.65it/s]\n",
      "100%|██████████| 1443/1443 [00:08<00:00, 172.31it/s]\n",
      "100%|██████████| 1443/1443 [00:08<00:00, 167.53it/s]\n",
      "100%|██████████| 1443/1443 [00:09<00:00, 148.74it/s]\n"
     ]
    },
    {
     "name": "stdout",
     "output_type": "stream",
     "text": [
      "Episode 2476\n",
      "Number of transcations: 44, Wins: 38, Lose: 1, Defeat: 5 \n"
     ]
    },
    {
     "name": "stderr",
     "output_type": "stream",
     "text": [
      "100%|██████████| 1443/1443 [00:09<00:00, 149.87it/s]\n",
      "100%|██████████| 1443/1443 [00:06<00:00, 216.15it/s]\n",
      "100%|██████████| 1443/1443 [00:09<00:00, 148.83it/s]\n",
      "100%|██████████| 1443/1443 [00:10<00:00, 140.28it/s]\n",
      "100%|██████████| 1443/1443 [00:09<00:00, 144.64it/s]\n"
     ]
    },
    {
     "name": "stdout",
     "output_type": "stream",
     "text": [
      "Episode 2481\n",
      "Number of transcations: 42, Wins: 38, Lose: 0, Defeat: 4 \n"
     ]
    },
    {
     "name": "stderr",
     "output_type": "stream",
     "text": [
      "100%|██████████| 1443/1443 [00:08<00:00, 173.42it/s]\n",
      "100%|██████████| 1443/1443 [00:09<00:00, 154.50it/s]\n",
      "100%|██████████| 1443/1443 [00:07<00:00, 180.64it/s]\n",
      "100%|██████████| 1443/1443 [00:06<00:00, 210.19it/s]\n",
      "100%|██████████| 1443/1443 [00:11<00:00, 129.83it/s]\n"
     ]
    },
    {
     "name": "stdout",
     "output_type": "stream",
     "text": [
      "Episode 2486\n",
      "Number of transcations: 42, Wins: 37, Lose: 0, Defeat: 5 \n"
     ]
    },
    {
     "name": "stderr",
     "output_type": "stream",
     "text": [
      "100%|██████████| 1443/1443 [00:05<00:00, 264.26it/s]\n",
      "100%|██████████| 1443/1443 [00:07<00:00, 199.72it/s]\n",
      "100%|██████████| 1443/1443 [00:07<00:00, 203.28it/s]\n",
      "100%|██████████| 1443/1443 [00:09<00:00, 155.45it/s]\n",
      "100%|██████████| 1443/1443 [00:06<00:00, 223.42it/s]\n"
     ]
    },
    {
     "name": "stdout",
     "output_type": "stream",
     "text": [
      "Episode 2491\n",
      "Number of transcations: 43, Wins: 38, Lose: 1, Defeat: 4 \n"
     ]
    },
    {
     "name": "stderr",
     "output_type": "stream",
     "text": [
      "100%|██████████| 1443/1443 [00:07<00:00, 190.47it/s]\n",
      "100%|██████████| 1443/1443 [00:07<00:00, 181.62it/s]\n",
      "100%|██████████| 1443/1443 [00:06<00:00, 223.82it/s]\n",
      "100%|██████████| 1443/1443 [00:07<00:00, 205.68it/s]\n",
      "100%|██████████| 1443/1443 [00:07<00:00, 186.88it/s]\n"
     ]
    },
    {
     "name": "stdout",
     "output_type": "stream",
     "text": [
      "Episode 2496\n",
      "Number of transcations: 38, Wins: 33, Lose: 0, Defeat: 5 \n"
     ]
    },
    {
     "name": "stderr",
     "output_type": "stream",
     "text": [
      "100%|██████████| 1443/1443 [00:07<00:00, 188.36it/s]\n",
      "100%|██████████| 1443/1443 [00:07<00:00, 186.35it/s]\n",
      "100%|██████████| 1443/1443 [00:10<00:00, 144.01it/s]\n",
      "100%|██████████| 1443/1443 [00:08<00:00, 169.83it/s]\n",
      "100%|██████████| 1443/1443 [00:11<00:00, 128.03it/s]\n"
     ]
    },
    {
     "name": "stdout",
     "output_type": "stream",
     "text": [
      "Episode 2501\n",
      "Number of transcations: 47, Wins: 43, Lose: 0, Defeat: 4 \n"
     ]
    },
    {
     "name": "stderr",
     "output_type": "stream",
     "text": [
      "100%|██████████| 1443/1443 [00:07<00:00, 197.10it/s]\n",
      "100%|██████████| 1443/1443 [00:09<00:00, 147.10it/s]\n",
      "100%|██████████| 1443/1443 [00:09<00:00, 158.17it/s]\n",
      "100%|██████████| 1443/1443 [00:07<00:00, 200.38it/s]\n",
      "100%|██████████| 1443/1443 [00:09<00:00, 144.34it/s]\n"
     ]
    },
    {
     "name": "stdout",
     "output_type": "stream",
     "text": [
      "Episode 2506\n",
      "Number of transcations: 44, Wins: 40, Lose: 0, Defeat: 4 \n"
     ]
    },
    {
     "name": "stderr",
     "output_type": "stream",
     "text": [
      "100%|██████████| 1443/1443 [00:10<00:00, 138.29it/s]\n",
      "100%|██████████| 1443/1443 [00:10<00:00, 143.33it/s]\n",
      "100%|██████████| 1443/1443 [00:08<00:00, 161.12it/s]\n",
      "100%|██████████| 1443/1443 [00:09<00:00, 151.86it/s]\n",
      "100%|██████████| 1443/1443 [00:09<00:00, 154.85it/s]\n"
     ]
    },
    {
     "name": "stdout",
     "output_type": "stream",
     "text": [
      "Episode 2511\n",
      "Number of transcations: 43, Wins: 36, Lose: 0, Defeat: 7 \n"
     ]
    },
    {
     "name": "stderr",
     "output_type": "stream",
     "text": [
      "100%|██████████| 1443/1443 [00:08<00:00, 180.36it/s]\n",
      "100%|██████████| 1443/1443 [00:07<00:00, 181.58it/s]\n",
      "100%|██████████| 1443/1443 [00:09<00:00, 159.64it/s]\n",
      "100%|██████████| 1443/1443 [00:07<00:00, 192.54it/s]\n",
      "100%|██████████| 1443/1443 [00:08<00:00, 165.96it/s]\n"
     ]
    },
    {
     "name": "stdout",
     "output_type": "stream",
     "text": [
      "Episode 2516\n",
      "Number of transcations: 45, Wins: 38, Lose: 0, Defeat: 7 \n"
     ]
    },
    {
     "name": "stderr",
     "output_type": "stream",
     "text": [
      "100%|██████████| 1443/1443 [00:07<00:00, 202.57it/s]\n",
      "100%|██████████| 1443/1443 [00:07<00:00, 189.11it/s]\n",
      "100%|██████████| 1443/1443 [00:06<00:00, 220.15it/s]\n",
      "100%|██████████| 1443/1443 [00:07<00:00, 200.14it/s]\n",
      "100%|██████████| 1443/1443 [00:07<00:00, 187.87it/s]\n"
     ]
    },
    {
     "name": "stdout",
     "output_type": "stream",
     "text": [
      "Episode 2521\n",
      "Number of transcations: 41, Wins: 32, Lose: 0, Defeat: 9 \n"
     ]
    },
    {
     "name": "stderr",
     "output_type": "stream",
     "text": [
      "100%|██████████| 1443/1443 [00:07<00:00, 190.05it/s]\n",
      "100%|██████████| 1443/1443 [00:06<00:00, 228.56it/s]\n",
      "100%|██████████| 1443/1443 [00:06<00:00, 213.91it/s]\n",
      "100%|██████████| 1443/1443 [00:08<00:00, 170.03it/s]\n",
      "100%|██████████| 1443/1443 [00:08<00:00, 163.38it/s]\n"
     ]
    },
    {
     "name": "stdout",
     "output_type": "stream",
     "text": [
      "Episode 2526\n",
      "Number of transcations: 46, Wins: 38, Lose: 1, Defeat: 7 \n"
     ]
    },
    {
     "name": "stderr",
     "output_type": "stream",
     "text": [
      "100%|██████████| 1443/1443 [00:06<00:00, 235.20it/s]\n",
      "100%|██████████| 1443/1443 [00:06<00:00, 206.90it/s]\n",
      "100%|██████████| 1443/1443 [00:08<00:00, 162.05it/s]\n",
      "100%|██████████| 1443/1443 [00:09<00:00, 157.96it/s]\n",
      "100%|██████████| 1443/1443 [00:08<00:00, 170.15it/s]\n"
     ]
    },
    {
     "name": "stdout",
     "output_type": "stream",
     "text": [
      "Episode 2531\n",
      "Number of transcations: 44, Wins: 36, Lose: 0, Defeat: 8 \n"
     ]
    },
    {
     "name": "stderr",
     "output_type": "stream",
     "text": [
      "100%|██████████| 1443/1443 [00:06<00:00, 212.74it/s]\n",
      "100%|██████████| 1443/1443 [00:06<00:00, 228.68it/s]\n",
      "100%|██████████| 1443/1443 [00:06<00:00, 234.35it/s]\n",
      "100%|██████████| 1443/1443 [00:06<00:00, 220.83it/s]\n",
      "100%|██████████| 1443/1443 [00:05<00:00, 243.72it/s]\n"
     ]
    },
    {
     "name": "stdout",
     "output_type": "stream",
     "text": [
      "Episode 2536\n",
      "Number of transcations: 40, Wins: 31, Lose: 1, Defeat: 8 \n"
     ]
    },
    {
     "name": "stderr",
     "output_type": "stream",
     "text": [
      "100%|██████████| 1443/1443 [00:05<00:00, 248.11it/s]\n",
      "100%|██████████| 1443/1443 [00:06<00:00, 220.86it/s]\n",
      "100%|██████████| 1443/1443 [00:07<00:00, 196.60it/s]\n",
      "100%|██████████| 1443/1443 [00:07<00:00, 202.03it/s]\n",
      "100%|██████████| 1443/1443 [00:07<00:00, 191.11it/s]\n"
     ]
    },
    {
     "name": "stdout",
     "output_type": "stream",
     "text": [
      "Episode 2541\n",
      "Number of transcations: 43, Wins: 35, Lose: 0, Defeat: 8 \n"
     ]
    },
    {
     "name": "stderr",
     "output_type": "stream",
     "text": [
      "100%|██████████| 1443/1443 [00:06<00:00, 232.25it/s]\n",
      "100%|██████████| 1443/1443 [00:05<00:00, 265.33it/s]\n",
      "100%|██████████| 1443/1443 [00:06<00:00, 217.93it/s]\n",
      "100%|██████████| 1443/1443 [00:06<00:00, 233.31it/s]\n",
      "100%|██████████| 1443/1443 [00:07<00:00, 193.75it/s]\n"
     ]
    },
    {
     "name": "stdout",
     "output_type": "stream",
     "text": [
      "Episode 2546\n",
      "Number of transcations: 41, Wins: 34, Lose: 0, Defeat: 7 \n"
     ]
    },
    {
     "name": "stderr",
     "output_type": "stream",
     "text": [
      "100%|██████████| 1443/1443 [00:06<00:00, 227.78it/s]\n",
      "100%|██████████| 1443/1443 [00:05<00:00, 245.66it/s]\n",
      "100%|██████████| 1443/1443 [00:06<00:00, 213.12it/s]\n",
      "100%|██████████| 1443/1443 [00:06<00:00, 234.81it/s]\n",
      "100%|██████████| 1443/1443 [00:06<00:00, 212.40it/s]\n"
     ]
    },
    {
     "name": "stdout",
     "output_type": "stream",
     "text": [
      "Episode 2551\n",
      "Number of transcations: 39, Wins: 30, Lose: 1, Defeat: 8 \n"
     ]
    },
    {
     "name": "stderr",
     "output_type": "stream",
     "text": [
      "100%|██████████| 1443/1443 [00:05<00:00, 251.16it/s]\n",
      "100%|██████████| 1443/1443 [00:08<00:00, 167.34it/s]\n",
      "100%|██████████| 1443/1443 [00:09<00:00, 152.07it/s]\n",
      "100%|██████████| 1443/1443 [00:08<00:00, 166.04it/s]\n",
      "100%|██████████| 1443/1443 [00:10<00:00, 135.61it/s]\n"
     ]
    },
    {
     "name": "stdout",
     "output_type": "stream",
     "text": [
      "Episode 2556\n",
      "Number of transcations: 39, Wins: 30, Lose: 0, Defeat: 9 \n"
     ]
    },
    {
     "name": "stderr",
     "output_type": "stream",
     "text": [
      "100%|██████████| 1443/1443 [00:07<00:00, 190.03it/s]\n",
      "100%|██████████| 1443/1443 [00:08<00:00, 168.64it/s]\n",
      "100%|██████████| 1443/1443 [00:07<00:00, 186.28it/s]\n",
      "100%|██████████| 1443/1443 [00:08<00:00, 165.44it/s]\n",
      "100%|██████████| 1443/1443 [00:07<00:00, 190.04it/s]\n"
     ]
    },
    {
     "name": "stdout",
     "output_type": "stream",
     "text": [
      "Episode 2561\n",
      "Number of transcations: 37, Wins: 30, Lose: 1, Defeat: 6 \n"
     ]
    },
    {
     "name": "stderr",
     "output_type": "stream",
     "text": [
      "100%|██████████| 1443/1443 [00:07<00:00, 181.04it/s]\n",
      "100%|██████████| 1443/1443 [00:08<00:00, 161.77it/s]\n",
      "100%|██████████| 1443/1443 [00:09<00:00, 158.29it/s]\n",
      "100%|██████████| 1443/1443 [00:10<00:00, 142.54it/s]\n",
      "100%|██████████| 1443/1443 [00:09<00:00, 152.12it/s]\n"
     ]
    },
    {
     "name": "stdout",
     "output_type": "stream",
     "text": [
      "Episode 2566\n",
      "Number of transcations: 39, Wins: 30, Lose: 1, Defeat: 8 \n"
     ]
    },
    {
     "name": "stderr",
     "output_type": "stream",
     "text": [
      "100%|██████████| 1443/1443 [00:07<00:00, 188.50it/s]\n",
      "100%|██████████| 1443/1443 [00:08<00:00, 167.99it/s]\n",
      "100%|██████████| 1443/1443 [00:08<00:00, 161.16it/s]\n",
      "100%|██████████| 1443/1443 [00:09<00:00, 151.38it/s]\n",
      "100%|██████████| 1443/1443 [00:09<00:00, 150.35it/s]\n"
     ]
    },
    {
     "name": "stdout",
     "output_type": "stream",
     "text": [
      "Episode 2571\n",
      "Number of transcations: 38, Wins: 31, Lose: 0, Defeat: 7 \n"
     ]
    },
    {
     "name": "stderr",
     "output_type": "stream",
     "text": [
      "100%|██████████| 1443/1443 [00:08<00:00, 180.10it/s]\n",
      "100%|██████████| 1443/1443 [00:07<00:00, 180.63it/s]\n",
      "100%|██████████| 1443/1443 [00:10<00:00, 141.51it/s]\n",
      "100%|██████████| 1443/1443 [00:09<00:00, 148.68it/s]\n",
      "100%|██████████| 1443/1443 [00:09<00:00, 158.40it/s]\n"
     ]
    },
    {
     "name": "stdout",
     "output_type": "stream",
     "text": [
      "Episode 2576\n",
      "Number of transcations: 42, Wins: 37, Lose: 0, Defeat: 5 \n"
     ]
    },
    {
     "name": "stderr",
     "output_type": "stream",
     "text": [
      "100%|██████████| 1443/1443 [00:08<00:00, 177.95it/s]\n",
      "100%|██████████| 1443/1443 [00:08<00:00, 170.70it/s]\n",
      "100%|██████████| 1443/1443 [00:06<00:00, 210.84it/s]\n",
      "100%|██████████| 1443/1443 [00:06<00:00, 219.66it/s]\n",
      "100%|██████████| 1443/1443 [00:06<00:00, 208.02it/s]\n"
     ]
    },
    {
     "name": "stdout",
     "output_type": "stream",
     "text": [
      "Episode 2581\n",
      "Number of transcations: 43, Wins: 37, Lose: 2, Defeat: 4 \n"
     ]
    },
    {
     "name": "stderr",
     "output_type": "stream",
     "text": [
      "100%|██████████| 1443/1443 [00:08<00:00, 168.00it/s]\n",
      "100%|██████████| 1443/1443 [00:08<00:00, 168.25it/s]\n",
      "100%|██████████| 1443/1443 [00:08<00:00, 167.49it/s]\n",
      "100%|██████████| 1443/1443 [00:09<00:00, 145.08it/s]\n",
      "100%|██████████| 1443/1443 [00:10<00:00, 136.51it/s]\n"
     ]
    },
    {
     "name": "stdout",
     "output_type": "stream",
     "text": [
      "Episode 2586\n",
      "Number of transcations: 43, Wins: 36, Lose: 0, Defeat: 7 \n"
     ]
    },
    {
     "name": "stderr",
     "output_type": "stream",
     "text": [
      "100%|██████████| 1443/1443 [00:04<00:00, 308.32it/s]\n",
      "100%|██████████| 1443/1443 [00:06<00:00, 224.58it/s]\n",
      "100%|██████████| 1443/1443 [00:07<00:00, 203.40it/s]\n",
      "100%|██████████| 1443/1443 [00:05<00:00, 242.15it/s]\n",
      "100%|██████████| 1443/1443 [00:06<00:00, 237.93it/s]\n"
     ]
    },
    {
     "name": "stdout",
     "output_type": "stream",
     "text": [
      "Episode 2591\n",
      "Number of transcations: 41, Wins: 34, Lose: 2, Defeat: 5 \n"
     ]
    },
    {
     "name": "stderr",
     "output_type": "stream",
     "text": [
      "100%|██████████| 1443/1443 [00:09<00:00, 158.37it/s]\n",
      "100%|██████████| 1443/1443 [00:10<00:00, 144.13it/s]\n",
      "100%|██████████| 1443/1443 [00:09<00:00, 155.22it/s]\n",
      "100%|██████████| 1443/1443 [00:08<00:00, 162.45it/s]\n",
      "100%|██████████| 1443/1443 [00:08<00:00, 170.73it/s]\n"
     ]
    },
    {
     "name": "stdout",
     "output_type": "stream",
     "text": [
      "Episode 2596\n",
      "Number of transcations: 37, Wins: 28, Lose: 0, Defeat: 9 \n"
     ]
    },
    {
     "name": "stderr",
     "output_type": "stream",
     "text": [
      "100%|██████████| 1443/1443 [00:07<00:00, 203.22it/s]\n",
      "100%|██████████| 1443/1443 [00:08<00:00, 166.90it/s]\n",
      "100%|██████████| 1443/1443 [00:09<00:00, 154.19it/s]\n",
      "100%|██████████| 1443/1443 [00:10<00:00, 144.12it/s]\n",
      "100%|██████████| 1443/1443 [00:10<00:00, 137.73it/s]\n"
     ]
    },
    {
     "name": "stdout",
     "output_type": "stream",
     "text": [
      "Episode 2601\n",
      "Number of transcations: 41, Wins: 35, Lose: 0, Defeat: 6 \n"
     ]
    },
    {
     "name": "stderr",
     "output_type": "stream",
     "text": [
      "100%|██████████| 1443/1443 [00:10<00:00, 132.82it/s]\n",
      "100%|██████████| 1443/1443 [00:10<00:00, 139.22it/s]\n",
      "100%|██████████| 1443/1443 [00:11<00:00, 122.85it/s]\n",
      "100%|██████████| 1443/1443 [00:11<00:00, 127.06it/s]\n",
      "100%|██████████| 1443/1443 [00:09<00:00, 156.40it/s]\n"
     ]
    },
    {
     "name": "stdout",
     "output_type": "stream",
     "text": [
      "Episode 2606\n",
      "Number of transcations: 37, Wins: 28, Lose: 1, Defeat: 8 \n"
     ]
    },
    {
     "name": "stderr",
     "output_type": "stream",
     "text": [
      "100%|██████████| 1443/1443 [00:12<00:00, 112.31it/s]\n",
      "100%|██████████| 1443/1443 [00:10<00:00, 133.43it/s]\n",
      "100%|██████████| 1443/1443 [00:12<00:00, 112.45it/s]\n",
      "100%|██████████| 1443/1443 [00:10<00:00, 143.94it/s]\n",
      "100%|██████████| 1443/1443 [00:12<00:00, 115.85it/s]\n"
     ]
    },
    {
     "name": "stdout",
     "output_type": "stream",
     "text": [
      "Episode 2611\n",
      "Number of transcations: 42, Wins: 35, Lose: 0, Defeat: 7 \n"
     ]
    },
    {
     "name": "stderr",
     "output_type": "stream",
     "text": [
      "100%|██████████| 1443/1443 [00:11<00:00, 128.09it/s]\n",
      "100%|██████████| 1443/1443 [00:11<00:00, 125.13it/s]\n",
      "100%|██████████| 1443/1443 [00:11<00:00, 125.84it/s]\n",
      "100%|██████████| 1443/1443 [00:12<00:00, 113.82it/s]\n",
      "100%|██████████| 1443/1443 [00:12<00:00, 111.37it/s]\n"
     ]
    },
    {
     "name": "stdout",
     "output_type": "stream",
     "text": [
      "Episode 2616\n",
      "Number of transcations: 47, Wins: 39, Lose: 1, Defeat: 7 \n"
     ]
    },
    {
     "name": "stderr",
     "output_type": "stream",
     "text": [
      "100%|██████████| 1443/1443 [00:12<00:00, 115.92it/s]\n",
      "100%|██████████| 1443/1443 [00:10<00:00, 136.24it/s]\n",
      "100%|██████████| 1443/1443 [00:11<00:00, 125.58it/s]\n",
      "100%|██████████| 1443/1443 [00:12<00:00, 115.35it/s]\n",
      "100%|██████████| 1443/1443 [00:10<00:00, 133.06it/s]\n"
     ]
    },
    {
     "name": "stdout",
     "output_type": "stream",
     "text": [
      "Episode 2621\n",
      "Number of transcations: 47, Wins: 41, Lose: 0, Defeat: 6 \n"
     ]
    },
    {
     "name": "stderr",
     "output_type": "stream",
     "text": [
      "100%|██████████| 1443/1443 [00:11<00:00, 128.68it/s]\n",
      "100%|██████████| 1443/1443 [00:10<00:00, 136.63it/s]\n",
      "100%|██████████| 1443/1443 [00:08<00:00, 164.59it/s]\n",
      "100%|██████████| 1443/1443 [00:13<00:00, 109.84it/s]\n",
      "100%|██████████| 1443/1443 [00:13<00:00, 110.14it/s]\n"
     ]
    },
    {
     "name": "stdout",
     "output_type": "stream",
     "text": [
      "Episode 2626\n",
      "Number of transcations: 46, Wins: 41, Lose: 0, Defeat: 5 \n"
     ]
    },
    {
     "name": "stderr",
     "output_type": "stream",
     "text": [
      "100%|██████████| 1443/1443 [00:10<00:00, 140.29it/s]\n",
      "100%|██████████| 1443/1443 [00:09<00:00, 147.06it/s]\n",
      "100%|██████████| 1443/1443 [00:08<00:00, 169.25it/s]\n",
      "100%|██████████| 1443/1443 [00:08<00:00, 173.06it/s]\n",
      "100%|██████████| 1443/1443 [00:11<00:00, 130.64it/s]\n"
     ]
    },
    {
     "name": "stdout",
     "output_type": "stream",
     "text": [
      "Episode 2631\n",
      "Number of transcations: 42, Wins: 35, Lose: 0, Defeat: 7 \n"
     ]
    },
    {
     "name": "stderr",
     "output_type": "stream",
     "text": [
      "100%|██████████| 1443/1443 [00:10<00:00, 133.66it/s]\n",
      "100%|██████████| 1443/1443 [00:09<00:00, 144.56it/s]\n",
      "100%|██████████| 1443/1443 [00:08<00:00, 170.61it/s]\n",
      "100%|██████████| 1443/1443 [00:10<00:00, 136.10it/s]\n",
      "100%|██████████| 1443/1443 [00:10<00:00, 135.50it/s]\n"
     ]
    },
    {
     "name": "stdout",
     "output_type": "stream",
     "text": [
      "Episode 2636\n",
      "Number of transcations: 44, Wins: 38, Lose: 0, Defeat: 6 \n"
     ]
    },
    {
     "name": "stderr",
     "output_type": "stream",
     "text": [
      "100%|██████████| 1443/1443 [00:09<00:00, 151.95it/s]\n",
      "100%|██████████| 1443/1443 [00:08<00:00, 165.00it/s]\n",
      "100%|██████████| 1443/1443 [00:10<00:00, 142.74it/s]\n",
      "100%|██████████| 1443/1443 [00:11<00:00, 123.05it/s]\n",
      "100%|██████████| 1443/1443 [00:11<00:00, 122.83it/s]\n"
     ]
    },
    {
     "name": "stdout",
     "output_type": "stream",
     "text": [
      "Episode 2641\n",
      "Number of transcations: 45, Wins: 40, Lose: 0, Defeat: 5 \n"
     ]
    },
    {
     "name": "stderr",
     "output_type": "stream",
     "text": [
      "100%|██████████| 1443/1443 [00:07<00:00, 183.43it/s]\n",
      "100%|██████████| 1443/1443 [00:09<00:00, 151.48it/s]\n",
      "100%|██████████| 1443/1443 [00:09<00:00, 155.57it/s]\n",
      "100%|██████████| 1443/1443 [00:09<00:00, 147.93it/s]\n",
      "100%|██████████| 1443/1443 [00:09<00:00, 155.42it/s]\n"
     ]
    },
    {
     "name": "stdout",
     "output_type": "stream",
     "text": [
      "Episode 2646\n",
      "Number of transcations: 46, Wins: 38, Lose: 1, Defeat: 7 \n"
     ]
    },
    {
     "name": "stderr",
     "output_type": "stream",
     "text": [
      "100%|██████████| 1443/1443 [00:08<00:00, 160.48it/s]\n",
      "100%|██████████| 1443/1443 [00:09<00:00, 150.62it/s]\n",
      "100%|██████████| 1443/1443 [00:10<00:00, 133.51it/s]\n",
      "100%|██████████| 1443/1443 [00:11<00:00, 129.17it/s]\n",
      "100%|██████████| 1443/1443 [00:11<00:00, 127.98it/s]\n"
     ]
    },
    {
     "name": "stdout",
     "output_type": "stream",
     "text": [
      "Episode 2651\n",
      "Number of transcations: 44, Wins: 38, Lose: 1, Defeat: 5 \n"
     ]
    },
    {
     "name": "stderr",
     "output_type": "stream",
     "text": [
      "100%|██████████| 1443/1443 [00:07<00:00, 190.68it/s]\n",
      "100%|██████████| 1443/1443 [00:09<00:00, 145.92it/s]\n",
      "100%|██████████| 1443/1443 [00:08<00:00, 173.76it/s]\n",
      "100%|██████████| 1443/1443 [00:10<00:00, 135.27it/s]\n",
      "100%|██████████| 1443/1443 [00:11<00:00, 123.50it/s]\n"
     ]
    },
    {
     "name": "stdout",
     "output_type": "stream",
     "text": [
      "Episode 2656\n",
      "Number of transcations: 43, Wins: 36, Lose: 1, Defeat: 6 \n"
     ]
    },
    {
     "name": "stderr",
     "output_type": "stream",
     "text": [
      "100%|██████████| 1443/1443 [00:10<00:00, 138.32it/s]\n",
      "100%|██████████| 1443/1443 [00:09<00:00, 147.78it/s]\n",
      "100%|██████████| 1443/1443 [00:10<00:00, 138.32it/s]\n",
      "100%|██████████| 1443/1443 [00:08<00:00, 169.77it/s]\n",
      "100%|██████████| 1443/1443 [00:07<00:00, 193.12it/s]\n"
     ]
    },
    {
     "name": "stdout",
     "output_type": "stream",
     "text": [
      "Episode 2661\n",
      "Number of transcations: 46, Wins: 41, Lose: 1, Defeat: 4 \n"
     ]
    },
    {
     "name": "stderr",
     "output_type": "stream",
     "text": [
      "100%|██████████| 1443/1443 [00:07<00:00, 193.37it/s]\n",
      "100%|██████████| 1443/1443 [00:10<00:00, 132.22it/s]\n",
      "100%|██████████| 1443/1443 [00:09<00:00, 148.59it/s]\n",
      "100%|██████████| 1443/1443 [00:11<00:00, 122.52it/s]\n",
      "100%|██████████| 1443/1443 [00:09<00:00, 157.48it/s]\n"
     ]
    },
    {
     "name": "stdout",
     "output_type": "stream",
     "text": [
      "Episode 2666\n",
      "Number of transcations: 46, Wins: 38, Lose: 1, Defeat: 7 \n"
     ]
    },
    {
     "name": "stderr",
     "output_type": "stream",
     "text": [
      "100%|██████████| 1443/1443 [00:09<00:00, 153.60it/s]\n",
      "100%|██████████| 1443/1443 [00:08<00:00, 167.65it/s]\n",
      "100%|██████████| 1443/1443 [00:08<00:00, 172.30it/s]\n",
      "100%|██████████| 1443/1443 [00:09<00:00, 152.38it/s]\n",
      "100%|██████████| 1443/1443 [00:07<00:00, 201.14it/s]\n"
     ]
    },
    {
     "name": "stdout",
     "output_type": "stream",
     "text": [
      "Episode 2671\n",
      "Number of transcations: 45, Wins: 34, Lose: 1, Defeat: 10 \n"
     ]
    },
    {
     "name": "stderr",
     "output_type": "stream",
     "text": [
      "100%|██████████| 1443/1443 [00:07<00:00, 180.83it/s]\n",
      "100%|██████████| 1443/1443 [00:08<00:00, 165.84it/s]\n",
      "100%|██████████| 1443/1443 [00:07<00:00, 202.78it/s]\n",
      "100%|██████████| 1443/1443 [00:07<00:00, 191.81it/s]\n",
      "100%|██████████| 1443/1443 [00:10<00:00, 133.40it/s]\n"
     ]
    },
    {
     "name": "stdout",
     "output_type": "stream",
     "text": [
      "Episode 2676\n",
      "Number of transcations: 48, Wins: 43, Lose: 0, Defeat: 5 \n"
     ]
    },
    {
     "name": "stderr",
     "output_type": "stream",
     "text": [
      "100%|██████████| 1443/1443 [00:08<00:00, 169.34it/s]\n",
      "100%|██████████| 1443/1443 [00:11<00:00, 121.08it/s]\n",
      "100%|██████████| 1443/1443 [00:11<00:00, 127.49it/s]\n",
      "100%|██████████| 1443/1443 [00:13<00:00, 110.97it/s]\n",
      "100%|██████████| 1443/1443 [00:12<00:00, 116.04it/s]\n"
     ]
    },
    {
     "name": "stdout",
     "output_type": "stream",
     "text": [
      "Episode 2681\n",
      "Number of transcations: 44, Wins: 40, Lose: 0, Defeat: 4 \n"
     ]
    },
    {
     "name": "stderr",
     "output_type": "stream",
     "text": [
      "100%|██████████| 1443/1443 [00:09<00:00, 148.84it/s]\n",
      "100%|██████████| 1443/1443 [00:10<00:00, 138.59it/s]\n",
      "100%|██████████| 1443/1443 [00:12<00:00, 118.46it/s]\n",
      "100%|██████████| 1443/1443 [00:12<00:00, 118.23it/s]\n",
      "100%|██████████| 1443/1443 [00:12<00:00, 112.40it/s]\n"
     ]
    },
    {
     "name": "stdout",
     "output_type": "stream",
     "text": [
      "Episode 2686\n",
      "Number of transcations: 41, Wins: 37, Lose: 0, Defeat: 4 \n"
     ]
    },
    {
     "name": "stderr",
     "output_type": "stream",
     "text": [
      "100%|██████████| 1443/1443 [00:09<00:00, 146.97it/s]\n",
      "100%|██████████| 1443/1443 [00:11<00:00, 128.14it/s]\n",
      "100%|██████████| 1443/1443 [00:12<00:00, 111.68it/s]\n",
      "100%|██████████| 1443/1443 [00:12<00:00, 113.43it/s]\n",
      "100%|██████████| 1443/1443 [00:13<00:00, 110.67it/s]\n"
     ]
    },
    {
     "name": "stdout",
     "output_type": "stream",
     "text": [
      "Episode 2691\n",
      "Number of transcations: 45, Wins: 40, Lose: 1, Defeat: 4 \n"
     ]
    },
    {
     "name": "stderr",
     "output_type": "stream",
     "text": [
      "100%|██████████| 1443/1443 [00:13<00:00, 103.90it/s]\n",
      "100%|██████████| 1443/1443 [00:16<00:00, 86.93it/s] \n",
      "100%|██████████| 1443/1443 [00:14<00:00, 98.44it/s] \n",
      "100%|██████████| 1443/1443 [00:14<00:00, 101.37it/s]\n",
      "100%|██████████| 1443/1443 [00:16<00:00, 86.21it/s] \n"
     ]
    },
    {
     "name": "stdout",
     "output_type": "stream",
     "text": [
      "Episode 2696\n",
      "Number of transcations: 44, Wins: 39, Lose: 2, Defeat: 3 \n"
     ]
    },
    {
     "name": "stderr",
     "output_type": "stream",
     "text": [
      "100%|██████████| 1443/1443 [00:13<00:00, 107.91it/s]\n",
      "100%|██████████| 1443/1443 [00:10<00:00, 139.54it/s]\n",
      "100%|██████████| 1443/1443 [00:09<00:00, 156.27it/s]\n",
      "100%|██████████| 1443/1443 [00:13<00:00, 103.33it/s]\n",
      "100%|██████████| 1443/1443 [00:14<00:00, 100.20it/s]\n"
     ]
    },
    {
     "name": "stdout",
     "output_type": "stream",
     "text": [
      "Episode 2701\n",
      "Number of transcations: 45, Wins: 41, Lose: 1, Defeat: 3 \n"
     ]
    },
    {
     "name": "stderr",
     "output_type": "stream",
     "text": [
      "100%|██████████| 1443/1443 [00:16<00:00, 88.90it/s] \n",
      "100%|██████████| 1443/1443 [00:13<00:00, 106.84it/s]\n",
      "100%|██████████| 1443/1443 [00:11<00:00, 128.34it/s]\n",
      "100%|██████████| 1443/1443 [00:14<00:00, 100.19it/s]\n",
      "100%|██████████| 1443/1443 [00:10<00:00, 138.42it/s]\n"
     ]
    },
    {
     "name": "stdout",
     "output_type": "stream",
     "text": [
      "Episode 2706\n",
      "Number of transcations: 40, Wins: 31, Lose: 1, Defeat: 8 \n"
     ]
    },
    {
     "name": "stderr",
     "output_type": "stream",
     "text": [
      "100%|██████████| 1443/1443 [00:14<00:00, 102.78it/s]\n",
      "100%|██████████| 1443/1443 [00:13<00:00, 110.97it/s]\n",
      "100%|██████████| 1443/1443 [00:11<00:00, 127.48it/s]\n",
      "100%|██████████| 1443/1443 [00:10<00:00, 137.28it/s]\n",
      "100%|██████████| 1443/1443 [00:15<00:00, 91.42it/s] \n"
     ]
    },
    {
     "name": "stdout",
     "output_type": "stream",
     "text": [
      "Episode 2711\n",
      "Number of transcations: 50, Wins: 45, Lose: 2, Defeat: 3 \n"
     ]
    },
    {
     "name": "stderr",
     "output_type": "stream",
     "text": [
      "100%|██████████| 1443/1443 [00:11<00:00, 127.62it/s]\n",
      "100%|██████████| 1443/1443 [00:10<00:00, 135.05it/s]\n",
      "100%|██████████| 1443/1443 [00:09<00:00, 150.27it/s]\n",
      "100%|██████████| 1443/1443 [00:09<00:00, 146.16it/s]\n",
      "100%|██████████| 1443/1443 [00:10<00:00, 137.97it/s]\n"
     ]
    },
    {
     "name": "stdout",
     "output_type": "stream",
     "text": [
      "Episode 2716\n",
      "Number of transcations: 50, Wins: 43, Lose: 2, Defeat: 5 \n"
     ]
    },
    {
     "name": "stderr",
     "output_type": "stream",
     "text": [
      "100%|██████████| 1443/1443 [00:09<00:00, 154.34it/s]\n",
      "100%|██████████| 1443/1443 [00:09<00:00, 155.29it/s]\n",
      "100%|██████████| 1443/1443 [00:09<00:00, 151.07it/s]\n",
      "100%|██████████| 1443/1443 [00:09<00:00, 156.18it/s]\n",
      "100%|██████████| 1443/1443 [00:09<00:00, 147.49it/s]\n"
     ]
    },
    {
     "name": "stdout",
     "output_type": "stream",
     "text": [
      "Episode 2721\n",
      "Number of transcations: 49, Wins: 44, Lose: 1, Defeat: 4 \n"
     ]
    },
    {
     "name": "stderr",
     "output_type": "stream",
     "text": [
      "100%|██████████| 1443/1443 [00:08<00:00, 167.20it/s]\n",
      "100%|██████████| 1443/1443 [00:09<00:00, 150.91it/s]\n",
      "100%|██████████| 1443/1443 [00:10<00:00, 143.35it/s]\n",
      "100%|██████████| 1443/1443 [00:09<00:00, 151.73it/s]\n",
      "100%|██████████| 1443/1443 [00:08<00:00, 163.38it/s]\n"
     ]
    },
    {
     "name": "stdout",
     "output_type": "stream",
     "text": [
      "Episode 2726\n",
      "Number of transcations: 46, Wins: 39, Lose: 2, Defeat: 5 \n"
     ]
    },
    {
     "name": "stderr",
     "output_type": "stream",
     "text": [
      "100%|██████████| 1443/1443 [00:07<00:00, 184.85it/s]\n",
      "100%|██████████| 1443/1443 [00:09<00:00, 146.14it/s]\n",
      "100%|██████████| 1443/1443 [00:11<00:00, 130.70it/s]\n",
      "100%|██████████| 1443/1443 [00:10<00:00, 142.21it/s]\n",
      "100%|██████████| 1443/1443 [00:09<00:00, 159.41it/s]\n"
     ]
    },
    {
     "name": "stdout",
     "output_type": "stream",
     "text": [
      "Episode 2731\n",
      "Number of transcations: 41, Wins: 34, Lose: 1, Defeat: 6 \n"
     ]
    },
    {
     "name": "stderr",
     "output_type": "stream",
     "text": [
      "100%|██████████| 1443/1443 [00:08<00:00, 167.61it/s]\n",
      "100%|██████████| 1443/1443 [00:08<00:00, 167.17it/s]\n",
      "100%|██████████| 1443/1443 [00:08<00:00, 171.41it/s]\n",
      "100%|██████████| 1443/1443 [00:09<00:00, 158.85it/s]\n",
      "100%|██████████| 1443/1443 [00:08<00:00, 175.81it/s]\n"
     ]
    },
    {
     "name": "stdout",
     "output_type": "stream",
     "text": [
      "Episode 2736\n",
      "Number of transcations: 42, Wins: 34, Lose: 2, Defeat: 6 \n"
     ]
    },
    {
     "name": "stderr",
     "output_type": "stream",
     "text": [
      "100%|██████████| 1443/1443 [00:08<00:00, 174.69it/s]\n",
      "100%|██████████| 1443/1443 [00:07<00:00, 183.30it/s]\n",
      "100%|██████████| 1443/1443 [00:09<00:00, 149.23it/s]\n",
      "100%|██████████| 1443/1443 [00:09<00:00, 149.72it/s]\n",
      "100%|██████████| 1443/1443 [00:10<00:00, 134.55it/s]\n"
     ]
    },
    {
     "name": "stdout",
     "output_type": "stream",
     "text": [
      "Episode 2741\n",
      "Number of transcations: 40, Wins: 31, Lose: 1, Defeat: 8 \n"
     ]
    },
    {
     "name": "stderr",
     "output_type": "stream",
     "text": [
      "100%|██████████| 1443/1443 [00:10<00:00, 137.19it/s]\n",
      "100%|██████████| 1443/1443 [00:08<00:00, 176.69it/s]\n",
      "100%|██████████| 1443/1443 [00:08<00:00, 173.16it/s]\n",
      "100%|██████████| 1443/1443 [00:09<00:00, 145.77it/s]\n",
      "100%|██████████| 1443/1443 [00:10<00:00, 140.60it/s]\n"
     ]
    },
    {
     "name": "stdout",
     "output_type": "stream",
     "text": [
      "Episode 2746\n",
      "Number of transcations: 36, Wins: 29, Lose: 1, Defeat: 6 \n"
     ]
    },
    {
     "name": "stderr",
     "output_type": "stream",
     "text": [
      "100%|██████████| 1443/1443 [00:08<00:00, 178.21it/s]\n",
      "100%|██████████| 1443/1443 [00:07<00:00, 181.87it/s]\n",
      "100%|██████████| 1443/1443 [00:07<00:00, 192.78it/s]\n",
      "100%|██████████| 1443/1443 [00:09<00:00, 147.80it/s]\n",
      "100%|██████████| 1443/1443 [00:08<00:00, 164.85it/s]\n"
     ]
    },
    {
     "name": "stdout",
     "output_type": "stream",
     "text": [
      "Episode 2751\n",
      "Number of transcations: 37, Wins: 29, Lose: 1, Defeat: 7 \n"
     ]
    },
    {
     "name": "stderr",
     "output_type": "stream",
     "text": [
      "100%|██████████| 1443/1443 [00:09<00:00, 151.97it/s]\n",
      "100%|██████████| 1443/1443 [00:08<00:00, 160.68it/s]\n",
      "100%|██████████| 1443/1443 [00:08<00:00, 164.74it/s]\n",
      "100%|██████████| 1443/1443 [00:09<00:00, 145.81it/s]\n",
      "100%|██████████| 1443/1443 [00:09<00:00, 144.44it/s]\n"
     ]
    },
    {
     "name": "stdout",
     "output_type": "stream",
     "text": [
      "Episode 2756\n",
      "Number of transcations: 38, Wins: 31, Lose: 0, Defeat: 7 \n"
     ]
    },
    {
     "name": "stderr",
     "output_type": "stream",
     "text": [
      "100%|██████████| 1443/1443 [00:07<00:00, 196.86it/s]\n",
      "100%|██████████| 1443/1443 [00:08<00:00, 160.41it/s]\n",
      "100%|██████████| 1443/1443 [00:08<00:00, 168.89it/s]\n",
      "100%|██████████| 1443/1443 [00:07<00:00, 184.05it/s]\n",
      "100%|██████████| 1443/1443 [00:07<00:00, 194.49it/s]\n"
     ]
    },
    {
     "name": "stdout",
     "output_type": "stream",
     "text": [
      "Episode 2761\n",
      "Number of transcations: 35, Wins: 24, Lose: 2, Defeat: 9 \n"
     ]
    },
    {
     "name": "stderr",
     "output_type": "stream",
     "text": [
      "100%|██████████| 1443/1443 [00:08<00:00, 180.08it/s]\n",
      "100%|██████████| 1443/1443 [00:12<00:00, 118.10it/s]\n",
      "100%|██████████| 1443/1443 [00:06<00:00, 219.35it/s]\n",
      "100%|██████████| 1443/1443 [00:10<00:00, 134.83it/s]\n",
      "100%|██████████| 1443/1443 [00:12<00:00, 119.89it/s]\n"
     ]
    },
    {
     "name": "stdout",
     "output_type": "stream",
     "text": [
      "Episode 2766\n",
      "Number of transcations: 37, Wins: 32, Lose: 0, Defeat: 5 \n"
     ]
    },
    {
     "name": "stderr",
     "output_type": "stream",
     "text": [
      "100%|██████████| 1443/1443 [00:08<00:00, 176.03it/s]\n",
      "100%|██████████| 1443/1443 [00:10<00:00, 132.61it/s]\n",
      "100%|██████████| 1443/1443 [00:09<00:00, 145.28it/s]\n",
      "100%|██████████| 1443/1443 [00:08<00:00, 161.02it/s]\n",
      "100%|██████████| 1443/1443 [00:09<00:00, 153.17it/s]\n"
     ]
    },
    {
     "name": "stdout",
     "output_type": "stream",
     "text": [
      "Episode 2771\n",
      "Number of transcations: 35, Wins: 29, Lose: 1, Defeat: 5 \n"
     ]
    },
    {
     "name": "stderr",
     "output_type": "stream",
     "text": [
      "100%|██████████| 1443/1443 [00:11<00:00, 129.00it/s]\n",
      "100%|██████████| 1443/1443 [00:08<00:00, 165.34it/s]\n",
      "100%|██████████| 1443/1443 [00:08<00:00, 164.80it/s]\n",
      "100%|██████████| 1443/1443 [00:07<00:00, 183.09it/s]\n",
      "100%|██████████| 1443/1443 [00:09<00:00, 158.70it/s]\n"
     ]
    },
    {
     "name": "stdout",
     "output_type": "stream",
     "text": [
      "Episode 2776\n",
      "Number of transcations: 39, Wins: 31, Lose: 1, Defeat: 7 \n"
     ]
    },
    {
     "name": "stderr",
     "output_type": "stream",
     "text": [
      "100%|██████████| 1443/1443 [00:10<00:00, 134.45it/s]\n",
      "100%|██████████| 1443/1443 [00:12<00:00, 118.75it/s]\n",
      "100%|██████████| 1443/1443 [00:11<00:00, 130.15it/s]\n",
      "100%|██████████| 1443/1443 [00:11<00:00, 123.71it/s]\n",
      "100%|██████████| 1443/1443 [00:08<00:00, 171.96it/s]\n"
     ]
    },
    {
     "name": "stdout",
     "output_type": "stream",
     "text": [
      "Episode 2781\n",
      "Number of transcations: 38, Wins: 28, Lose: 1, Defeat: 9 \n"
     ]
    },
    {
     "name": "stderr",
     "output_type": "stream",
     "text": [
      "100%|██████████| 1443/1443 [00:10<00:00, 140.99it/s]\n",
      "100%|██████████| 1443/1443 [00:10<00:00, 137.17it/s]\n",
      "100%|██████████| 1443/1443 [00:09<00:00, 157.03it/s]\n",
      "100%|██████████| 1443/1443 [00:11<00:00, 129.52it/s]\n",
      "100%|██████████| 1443/1443 [00:10<00:00, 135.68it/s]\n"
     ]
    },
    {
     "name": "stdout",
     "output_type": "stream",
     "text": [
      "Episode 2786\n",
      "Number of transcations: 34, Wins: 28, Lose: 1, Defeat: 5 \n"
     ]
    },
    {
     "name": "stderr",
     "output_type": "stream",
     "text": [
      "100%|██████████| 1443/1443 [00:08<00:00, 172.59it/s]\n",
      "100%|██████████| 1443/1443 [00:08<00:00, 168.51it/s]\n",
      "100%|██████████| 1443/1443 [00:08<00:00, 167.08it/s]\n",
      "100%|██████████| 1443/1443 [00:09<00:00, 150.99it/s]\n",
      "100%|██████████| 1443/1443 [00:11<00:00, 127.47it/s]\n"
     ]
    },
    {
     "name": "stdout",
     "output_type": "stream",
     "text": [
      "Episode 2791\n",
      "Number of transcations: 33, Wins: 27, Lose: 1, Defeat: 5 \n"
     ]
    },
    {
     "name": "stderr",
     "output_type": "stream",
     "text": [
      "100%|██████████| 1443/1443 [00:10<00:00, 134.05it/s]\n",
      "100%|██████████| 1443/1443 [00:09<00:00, 151.87it/s]\n",
      "100%|██████████| 1443/1443 [00:11<00:00, 123.49it/s]\n",
      "100%|██████████| 1443/1443 [00:11<00:00, 123.27it/s]\n",
      "100%|██████████| 1443/1443 [00:11<00:00, 126.43it/s]\n"
     ]
    },
    {
     "name": "stdout",
     "output_type": "stream",
     "text": [
      "Episode 2796\n",
      "Number of transcations: 34, Wins: 26, Lose: 1, Defeat: 7 \n"
     ]
    },
    {
     "name": "stderr",
     "output_type": "stream",
     "text": [
      "100%|██████████| 1443/1443 [00:11<00:00, 127.38it/s]\n",
      "100%|██████████| 1443/1443 [00:12<00:00, 118.41it/s]\n",
      "100%|██████████| 1443/1443 [00:11<00:00, 126.34it/s]\n",
      "100%|██████████| 1443/1443 [00:10<00:00, 137.66it/s]\n",
      "100%|██████████| 1443/1443 [00:09<00:00, 145.02it/s]\n"
     ]
    },
    {
     "name": "stdout",
     "output_type": "stream",
     "text": [
      "Episode 2801\n",
      "Number of transcations: 32, Wins: 27, Lose: 1, Defeat: 4 \n"
     ]
    },
    {
     "name": "stderr",
     "output_type": "stream",
     "text": [
      "100%|██████████| 1443/1443 [00:09<00:00, 147.89it/s]\n",
      "100%|██████████| 1443/1443 [00:10<00:00, 136.11it/s]\n",
      "100%|██████████| 1443/1443 [00:11<00:00, 123.15it/s]\n",
      "100%|██████████| 1443/1443 [00:08<00:00, 176.91it/s]\n",
      "100%|██████████| 1443/1443 [00:09<00:00, 155.63it/s]\n"
     ]
    },
    {
     "name": "stdout",
     "output_type": "stream",
     "text": [
      "Episode 2806\n",
      "Number of transcations: 31, Wins: 22, Lose: 1, Defeat: 8 \n"
     ]
    },
    {
     "name": "stderr",
     "output_type": "stream",
     "text": [
      "100%|██████████| 1443/1443 [00:07<00:00, 187.82it/s]\n",
      "100%|██████████| 1443/1443 [00:09<00:00, 148.98it/s]\n",
      "100%|██████████| 1443/1443 [00:14<00:00, 98.38it/s] \n",
      "100%|██████████| 1443/1443 [00:10<00:00, 132.52it/s]\n",
      "100%|██████████| 1443/1443 [00:12<00:00, 115.80it/s]\n"
     ]
    },
    {
     "name": "stdout",
     "output_type": "stream",
     "text": [
      "Episode 2811\n",
      "Number of transcations: 34, Wins: 31, Lose: 1, Defeat: 2 \n"
     ]
    },
    {
     "name": "stderr",
     "output_type": "stream",
     "text": [
      "100%|██████████| 1443/1443 [00:11<00:00, 126.09it/s]\n",
      "100%|██████████| 1443/1443 [00:12<00:00, 116.01it/s]\n",
      "100%|██████████| 1443/1443 [00:11<00:00, 120.89it/s]\n",
      "100%|██████████| 1443/1443 [00:12<00:00, 117.81it/s]\n",
      "100%|██████████| 1443/1443 [00:13<00:00, 106.81it/s]\n"
     ]
    },
    {
     "name": "stdout",
     "output_type": "stream",
     "text": [
      "Episode 2816\n",
      "Number of transcations: 42, Wins: 40, Lose: 0, Defeat: 2 \n"
     ]
    },
    {
     "name": "stderr",
     "output_type": "stream",
     "text": [
      "100%|██████████| 1443/1443 [00:08<00:00, 171.91it/s]\n",
      "100%|██████████| 1443/1443 [00:11<00:00, 125.54it/s]\n",
      "100%|██████████| 1443/1443 [00:11<00:00, 125.33it/s]\n",
      "100%|██████████| 1443/1443 [00:12<00:00, 119.08it/s]\n",
      "100%|██████████| 1443/1443 [00:11<00:00, 125.53it/s]\n"
     ]
    },
    {
     "name": "stdout",
     "output_type": "stream",
     "text": [
      "Episode 2821\n",
      "Number of transcations: 42, Wins: 39, Lose: 0, Defeat: 3 \n"
     ]
    },
    {
     "name": "stderr",
     "output_type": "stream",
     "text": [
      "100%|██████████| 1443/1443 [00:07<00:00, 184.51it/s]\n",
      "100%|██████████| 1443/1443 [00:09<00:00, 146.74it/s]\n",
      "100%|██████████| 1443/1443 [00:11<00:00, 126.35it/s]\n",
      "100%|██████████| 1443/1443 [00:10<00:00, 140.05it/s]\n",
      "100%|██████████| 1443/1443 [00:10<00:00, 139.63it/s]\n"
     ]
    },
    {
     "name": "stdout",
     "output_type": "stream",
     "text": [
      "Episode 2826\n",
      "Number of transcations: 41, Wins: 38, Lose: 1, Defeat: 2 \n"
     ]
    },
    {
     "name": "stderr",
     "output_type": "stream",
     "text": [
      "100%|██████████| 1443/1443 [00:10<00:00, 132.80it/s]\n",
      "100%|██████████| 1443/1443 [00:10<00:00, 143.66it/s]\n",
      "100%|██████████| 1443/1443 [00:08<00:00, 162.39it/s]\n",
      "100%|██████████| 1443/1443 [00:10<00:00, 143.28it/s]\n",
      "100%|██████████| 1443/1443 [00:10<00:00, 136.57it/s]\n"
     ]
    },
    {
     "name": "stdout",
     "output_type": "stream",
     "text": [
      "Episode 2831\n",
      "Number of transcations: 43, Wins: 41, Lose: 0, Defeat: 2 \n"
     ]
    },
    {
     "name": "stderr",
     "output_type": "stream",
     "text": [
      "100%|██████████| 1443/1443 [00:13<00:00, 105.71it/s]\n",
      "100%|██████████| 1443/1443 [00:10<00:00, 137.01it/s]\n",
      "100%|██████████| 1443/1443 [00:11<00:00, 121.81it/s]\n",
      "100%|██████████| 1443/1443 [00:10<00:00, 133.91it/s]\n",
      "100%|██████████| 1443/1443 [00:10<00:00, 143.29it/s]\n"
     ]
    },
    {
     "name": "stdout",
     "output_type": "stream",
     "text": [
      "Episode 2836\n",
      "Number of transcations: 38, Wins: 34, Lose: 0, Defeat: 4 \n"
     ]
    },
    {
     "name": "stderr",
     "output_type": "stream",
     "text": [
      "100%|██████████| 1443/1443 [00:13<00:00, 107.72it/s]\n",
      "100%|██████████| 1443/1443 [00:16<00:00, 87.88it/s] \n",
      "100%|██████████| 1443/1443 [00:17<00:00, 80.85it/s] \n",
      "100%|██████████| 1443/1443 [00:13<00:00, 107.80it/s]\n",
      "100%|██████████| 1443/1443 [00:11<00:00, 124.54it/s]\n"
     ]
    },
    {
     "name": "stdout",
     "output_type": "stream",
     "text": [
      "Episode 2841\n",
      "Number of transcations: 40, Wins: 33, Lose: 1, Defeat: 6 \n"
     ]
    },
    {
     "name": "stderr",
     "output_type": "stream",
     "text": [
      "100%|██████████| 1443/1443 [00:16<00:00, 84.95it/s] \n",
      "100%|██████████| 1443/1443 [00:11<00:00, 121.73it/s]\n",
      "100%|██████████| 1443/1443 [00:11<00:00, 120.61it/s]\n",
      "100%|██████████| 1443/1443 [00:11<00:00, 120.55it/s]\n",
      "100%|██████████| 1443/1443 [00:11<00:00, 127.48it/s]\n"
     ]
    },
    {
     "name": "stdout",
     "output_type": "stream",
     "text": [
      "Episode 2846\n",
      "Number of transcations: 33, Wins: 26, Lose: 0, Defeat: 7 \n"
     ]
    },
    {
     "name": "stderr",
     "output_type": "stream",
     "text": [
      "100%|██████████| 1443/1443 [00:12<00:00, 119.57it/s]\n",
      "100%|██████████| 1443/1443 [00:17<00:00, 84.21it/s] \n",
      "100%|██████████| 1443/1443 [00:10<00:00, 134.22it/s]\n",
      "100%|██████████| 1443/1443 [00:13<00:00, 106.36it/s]\n",
      "100%|██████████| 1443/1443 [00:12<00:00, 113.76it/s]\n"
     ]
    },
    {
     "name": "stdout",
     "output_type": "stream",
     "text": [
      "Episode 2851\n",
      "Number of transcations: 37, Wins: 29, Lose: 2, Defeat: 6 \n"
     ]
    },
    {
     "name": "stderr",
     "output_type": "stream",
     "text": [
      "100%|██████████| 1443/1443 [00:10<00:00, 141.84it/s]\n",
      "100%|██████████| 1443/1443 [00:11<00:00, 124.73it/s]\n",
      "100%|██████████| 1443/1443 [6:54:18<00:00, 17.23s/it]  \n",
      "100%|██████████| 1443/1443 [00:12<00:00, 118.98it/s]\n",
      "100%|██████████| 1443/1443 [00:11<00:00, 127.19it/s]\n"
     ]
    },
    {
     "name": "stdout",
     "output_type": "stream",
     "text": [
      "Episode 2856\n",
      "Number of transcations: 41, Wins: 37, Lose: 0, Defeat: 4 \n"
     ]
    },
    {
     "name": "stderr",
     "output_type": "stream",
     "text": [
      "100%|██████████| 1443/1443 [00:13<00:00, 110.85it/s]\n",
      "100%|██████████| 1443/1443 [00:09<00:00, 160.30it/s]\n",
      "100%|██████████| 1443/1443 [00:10<00:00, 134.43it/s]\n",
      "100%|██████████| 1443/1443 [00:10<00:00, 133.76it/s]\n",
      "100%|██████████| 1443/1443 [00:09<00:00, 159.03it/s]\n"
     ]
    },
    {
     "name": "stdout",
     "output_type": "stream",
     "text": [
      "Episode 2861\n",
      "Number of transcations: 40, Wins: 32, Lose: 1, Defeat: 7 \n"
     ]
    },
    {
     "name": "stderr",
     "output_type": "stream",
     "text": [
      "100%|██████████| 1443/1443 [00:08<00:00, 167.12it/s]\n",
      "100%|██████████| 1443/1443 [00:09<00:00, 153.26it/s]\n",
      "100%|██████████| 1443/1443 [00:09<00:00, 146.66it/s]\n",
      "100%|██████████| 1443/1443 [00:11<00:00, 126.75it/s]\n",
      "100%|██████████| 1443/1443 [00:09<00:00, 154.17it/s]\n"
     ]
    },
    {
     "name": "stdout",
     "output_type": "stream",
     "text": [
      "Episode 2866\n",
      "Number of transcations: 39, Wins: 28, Lose: 1, Defeat: 10 \n"
     ]
    },
    {
     "name": "stderr",
     "output_type": "stream",
     "text": [
      "100%|██████████| 1443/1443 [00:06<00:00, 229.26it/s]\n",
      " 80%|████████  | 1155/1443 [00:06<00:01, 153.18it/s]"
     ]
    },
    {
     "ename": "KeyboardInterrupt",
     "evalue": "",
     "output_type": "error",
     "traceback": [
      "\u001b[31m---------------------------------------------------------------------------\u001b[39m",
      "\u001b[31mKeyboardInterrupt\u001b[39m                         Traceback (most recent call last)",
      "\u001b[36mCell\u001b[39m\u001b[36m \u001b[39m\u001b[32mIn[16]\u001b[39m\u001b[32m, line 19\u001b[39m\n\u001b[32m     15\u001b[39m \u001b[38;5;28;01mwhile\u001b[39;00m step<\u001b[38;5;28mlen\u001b[39m(df_normalized):\n\u001b[32m     18\u001b[39m     state = get_state(df_normalized,step)\n\u001b[32m---> \u001b[39m\u001b[32m19\u001b[39m     action = \u001b[43magent\u001b[49m\u001b[43m.\u001b[49m\u001b[43mselect_action\u001b[49m\u001b[43m(\u001b[49m\u001b[43mstate\u001b[49m\u001b[43m)\u001b[49m\n\u001b[32m     20\u001b[39m     done = \u001b[38;5;28;01mFalse\u001b[39;00m\n\u001b[32m     21\u001b[39m     \u001b[38;5;66;03m# print(action)\u001b[39;00m\n",
      "\u001b[36mFile \u001b[39m\u001b[32mc:\\Users\\srija\\Assignment\\Trading\\Models\\DQN.py:53\u001b[39m, in \u001b[36mDQNAgent.select_action\u001b[39m\u001b[34m(self, state)\u001b[39m\n\u001b[32m     51\u001b[39m     \u001b[38;5;28;01mreturn\u001b[39;00m \u001b[38;5;28mself\u001b[39m.env.action_space.sample()\n\u001b[32m     52\u001b[39m \u001b[38;5;28;01mwith\u001b[39;00m torch.no_grad():\n\u001b[32m---> \u001b[39m\u001b[32m53\u001b[39m     state = \u001b[43mtorch\u001b[49m\u001b[43m.\u001b[49m\u001b[43mtensor\u001b[49m\u001b[43m(\u001b[49m\u001b[43mstate\u001b[49m\u001b[43m,\u001b[49m\u001b[43m \u001b[49m\u001b[43mdtype\u001b[49m\u001b[43m=\u001b[49m\u001b[43mtorch\u001b[49m\u001b[43m.\u001b[49m\u001b[43mfloat32\u001b[49m\u001b[43m)\u001b[49m\u001b[43m.\u001b[49m\u001b[43munsqueeze\u001b[49m\u001b[43m(\u001b[49m\u001b[32;43m0\u001b[39;49m\u001b[43m)\u001b[49m\u001b[43m.\u001b[49m\u001b[43mto\u001b[49m\u001b[43m(\u001b[49m\u001b[43mdevice\u001b[49m\u001b[43m)\u001b[49m\n\u001b[32m     54\u001b[39m     q_values = \u001b[38;5;28mself\u001b[39m.policy_net(state)\n\u001b[32m     55\u001b[39m     \u001b[38;5;28;01mreturn\u001b[39;00m q_values.argmax().item()\n",
      "\u001b[31mKeyboardInterrupt\u001b[39m: "
     ]
    },
    {
     "name": "stderr",
     "output_type": "stream",
     "text": [
      " 82%|████████▏ | 1181/1443 [00:17<00:01, 153.18it/s]"
     ]
    }
   ],
   "source": [
    "num_episodes = 3000\n",
    "\n",
    "for episode in range(1500,num_episodes):\n",
    "    # state = env.reset()\n",
    "    total_reward = 0\n",
    "    number_trans = 0\n",
    "    wins =0\n",
    "    lose = 0\n",
    "    defeat =0\n",
    "    consecutive_success = 0\n",
    "    pbar = tqdm(total = len(df_normalized))\n",
    "    step =0\n",
    "    next_step = 0\n",
    "\n",
    "    while step<len(df_normalized):\n",
    "    \n",
    "        \n",
    "        state = get_state(df_normalized,step)\n",
    "        action = agent.select_action(state)\n",
    "        done = False\n",
    "        # print(action)\n",
    "       \n",
    "        if action ==1: ## BUY\n",
    "            next_state = target_buy.iloc[step]\n",
    "            \n",
    "            next_state_index = next_state[\"next_state_index\"]\n",
    "            \n",
    "            next_state2 = df_normalized.iloc[next_state_index].copy()\n",
    "\n",
    "            reward = 0\n",
    "            if(next_state['action']==\"Target Hit\"):\n",
    "                wins +=1\n",
    "                consecutive_success+=1\n",
    "                # reward = 1000/(target_buy.iloc[step]['delay']+1)\n",
    "                reward = calculate_optimized_scalping_reward(delay=target_buy.iloc[step]['delay'],action_type=\"success\",consecutive_successes=consecutive_success)\n",
    "                \n",
    "              \n",
    "            elif next_state['action']==\"Stop Loss Hit\":\n",
    "                defeat +=1\n",
    "                consecutive_success=0\n",
    "                # reward = -1000/(target_buy.iloc[step]['delay']+1)\n",
    "                reward = calculate_optimized_scalping_reward(delay=target_buy.iloc[step]['delay'],action_type=\"failure\",consecutive_successes=consecutive_success)\n",
    "                \n",
    "                \n",
    "            elif next_state['action']==\"End of Day\":\n",
    "                lose+=1\n",
    "                consecutive_success=0\n",
    "                done = True\n",
    "                # reward = -50\n",
    "                reward = calculate_optimized_scalping_reward(delay=target_buy.iloc[step]['delay'],action_type=\"failure\",consecutive_successes=consecutive_success)\n",
    "                \n",
    "               \n",
    "            reward = float(reward)  # Convert to scalar float\n",
    "            \n",
    "            next_state2 = np.array(next_state2.values, dtype=np.float32)\n",
    "            agent.store_transition(state, action, reward, next_state2, done)\n",
    "            agent.update_policy()\n",
    "            number_trans +=1\n",
    "            next_step = next_state_index+1\n",
    "        \n",
    "        if action==2: ## Sell  short\n",
    "            next_state = target_sell.iloc[step]\n",
    "            next_state_index = next_state[\"next_state_index\"]\n",
    "            \n",
    "            next_state2 = df_normalized.iloc[next_state_index].copy()\n",
    "            reward = 0\n",
    "            if(next_state['action']==\"Target Hit\"):\n",
    "                wins +=1\n",
    "                consecutive_success+=1\n",
    "                # reward = 1000/(target_sell.iloc[step]['delay']+1)\n",
    "                reward = calculate_optimized_scalping_reward(delay=target_sell.iloc[step]['delay'],action_type=\"success\",consecutive_successes=consecutive_success)\n",
    "                \n",
    "               \n",
    "            elif next_state['action']==\"Stop Loss Hit\":\n",
    "                consecutive_success=0\n",
    "                defeat +=1\n",
    "                # reward = -1000/(target_sell.iloc[step]['delay']+1)\n",
    "                reward = calculate_optimized_scalping_reward(delay=target_sell.iloc[step]['delay'],action_type=\"failure\",consecutive_successes=consecutive_success)\n",
    "                \n",
    "               \n",
    "            elif next_state['action']==\"End of Day\":\n",
    "                consecutive_success=0\n",
    "                lose+=1\n",
    "                done =True\n",
    "                # reward = -50\n",
    "                reward = calculate_optimized_scalping_reward(delay=target_sell.iloc[step]['delay'],action_type=\"failure\",consecutive_successes=consecutive_success)\n",
    "                \n",
    "                \n",
    "            reward = float(reward)  # Convert to scalar float\n",
    "           \n",
    "            next_state2 = np.array(next_state2.values, dtype=np.float32)\n",
    "            \n",
    "            agent.store_transition(state, action, reward, next_state2, done)\n",
    "            agent.update_policy()\n",
    "            number_trans +=1\n",
    "            next_step = next_state_index+1\n",
    "        if action ==0:\n",
    "            buy_side = target_buy.iloc[step].copy()\n",
    "            sell_side = target_sell.iloc[step].copy()\n",
    "            if buy_side['action']==\"Target Hit\":\n",
    "                # reward = -1000/(target_buy.iloc[step]['delay']+1)\n",
    "                reward = calculate_optimized_scalping_reward(delay=target_buy.iloc[step]['delay'],action_type=\"missed_opportunity\",consecutive_successes=consecutive_success)     \n",
    "            elif sell_side['action']==\"Target Hit\":\n",
    "                # reward = -1000/(target_sell.iloc[step]['delay']+1)\n",
    "                reward = calculate_optimized_scalping_reward(delay=target_sell.iloc[step]['delay'],action_type=\"missed_opportunity\",consecutive_successes=consecutive_success)\n",
    "            else:\n",
    "                reward = 100\n",
    "            if step+1 < len(df_normalized):\n",
    "               \n",
    "                next_state = get_state(df_normalized,step+1)\n",
    "                \n",
    "                reward = float(reward)  # Convert to scalar float\n",
    "                agent.store_transition(state, action, reward, next_state, done)\n",
    "                agent.update_policy()\n",
    "            else:\n",
    "                done = True\n",
    "                next_state = get_state(df_normalized,-1)\n",
    "                reward = float(reward)  # Convert to scalar float\n",
    "                agent.store_transition(state, action, reward, next_state, done)\n",
    "                agent.update_policy()\n",
    "            next_step = step+1\n",
    "            \n",
    "        pbar.update(next_step - step)\n",
    "        step = next_step\n",
    "    pbar.close()\n",
    "                    \n",
    "    \n",
    "    # Update the target network\n",
    "    if episode % 5 == 0:\n",
    "        target_net.load_state_dict(policy_net.state_dict())\n",
    "        model_save_path = os.path.join(save_folder, f'suzlon_14_june_{episode+1}.pth')\n",
    "        print(f'Episode {episode + 1}')\n",
    "        print(f'Number of transcations: {number_trans}, Wins: {wins}, Lose: {lose}, Defeat: {defeat} ')\n",
    "\n",
    "        # Save the model state_dict\n",
    "        torch.save(policy_net.state_dict(), model_save_path)       \n"
   ]
  },
  {
   "cell_type": "code",
   "execution_count": null,
   "metadata": {},
   "outputs": [],
   "source": []
  }
 ],
 "metadata": {
  "kernelspec": {
   "display_name": "trader",
   "language": "python",
   "name": "python3"
  },
  "language_info": {
   "codemirror_mode": {
    "name": "ipython",
    "version": 3
   },
   "file_extension": ".py",
   "mimetype": "text/x-python",
   "name": "python",
   "nbconvert_exporter": "python",
   "pygments_lexer": "ipython3",
   "version": "3.12.2"
  }
 },
 "nbformat": 4,
 "nbformat_minor": 2
}
