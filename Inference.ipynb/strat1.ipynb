{
 "cells": [
  {
   "cell_type": "code",
   "execution_count": 1,
   "metadata": {},
   "outputs": [],
   "source": [
    "import sys\n",
    "import os\n",
    "\n",
    "# Get the parent directory of the current notebook\n",
    "parent_dir = os.path.abspath(os.path.join(os.getcwd(), \"..\"))\n",
    "\n",
    "# Add parent directory to sys.path\n",
    "sys.path.append(parent_dir)\n",
    "\n",
    "# Now, import utils_data\n",
    "import utils_data\n",
    "\n",
    "from utils_data import StockDataFetcher, generateTargetDataBuySide, generateTargetDataSellSide,getTechnicalIndicators,normalize_dataframe_with_mean_std"
   ]
  },
  {
   "cell_type": "code",
   "execution_count": null,
   "metadata": {},
   "outputs": [],
   "source": [
    "fetcher = StockDataFetcher()\n",
    "\n",
    "stock_symbol = \"TSLA\"\n",
    "\n",
    "end_date = \"2025-03-09T09:30:00-04:00\"\n",
    "start_date = \"2025-03-02T09:30:00-04:00\"\n",
    "df = fetcher.get_stock_data(stock_symbol, start_date, end_date)\n",
    "df"
   ]
  }
 ],
 "metadata": {
  "kernelspec": {
   "display_name": "trader",
   "language": "python",
   "name": "python3"
  },
  "language_info": {
   "codemirror_mode": {
    "name": "ipython",
    "version": 3
   },
   "file_extension": ".py",
   "mimetype": "text/x-python",
   "name": "python",
   "nbconvert_exporter": "python",
   "pygments_lexer": "ipython3",
   "version": "3.12.2"
  }
 },
 "nbformat": 4,
 "nbformat_minor": 2
}
