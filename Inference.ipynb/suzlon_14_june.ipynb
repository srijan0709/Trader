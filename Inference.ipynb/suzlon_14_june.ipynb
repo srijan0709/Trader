{
 "cells": [
  {
   "cell_type": "markdown",
   "metadata": {},
   "source": [
    "# Importing Libraries"
   ]
  },
  {
   "cell_type": "code",
   "execution_count": 2,
   "metadata": {},
   "outputs": [],
   "source": [
    "import sys\n",
    "import os\n",
    "import json\n",
    "import numpy as np\n",
    "from tqdm import tqdm\n",
    "import torch\n",
    "parent_dir = os.path.abspath(os.path.join(os.getcwd(), \"..\"))\n",
    "sys.path.append(parent_dir)\n",
    "from utils_data import  generateTargetDataBuySide, generateTargetDataSellSide, getTechnicalIndicators, normalize_dataframe_with_mean_std\n",
    "from utils_data import UpstoxStockDataFetcher"
   ]
  },
  {
   "cell_type": "markdown",
   "metadata": {},
   "source": [
    "# Load data"
   ]
  },
  {
   "cell_type": "code",
   "execution_count": 27,
   "metadata": {},
   "outputs": [
    {
     "data": {
      "text/html": [
       "<div>\n",
       "<style scoped>\n",
       "    .dataframe tbody tr th:only-of-type {\n",
       "        vertical-align: middle;\n",
       "    }\n",
       "\n",
       "    .dataframe tbody tr th {\n",
       "        vertical-align: top;\n",
       "    }\n",
       "\n",
       "    .dataframe thead th {\n",
       "        text-align: right;\n",
       "    }\n",
       "</style>\n",
       "<table border=\"1\" class=\"dataframe\">\n",
       "  <thead>\n",
       "    <tr style=\"text-align: right;\">\n",
       "      <th></th>\n",
       "      <th>time</th>\n",
       "      <th>open</th>\n",
       "      <th>high</th>\n",
       "      <th>low</th>\n",
       "      <th>close</th>\n",
       "      <th>volume</th>\n",
       "    </tr>\n",
       "  </thead>\n",
       "  <tbody>\n",
       "    <tr>\n",
       "      <th>0</th>\n",
       "      <td>2025-06-09 09:15:00+05:30</td>\n",
       "      <td>67.75</td>\n",
       "      <td>68.21</td>\n",
       "      <td>67.00</td>\n",
       "      <td>67.65</td>\n",
       "      <td>11799029</td>\n",
       "    </tr>\n",
       "    <tr>\n",
       "      <th>1</th>\n",
       "      <td>2025-06-09 09:16:00+05:30</td>\n",
       "      <td>67.65</td>\n",
       "      <td>67.65</td>\n",
       "      <td>67.01</td>\n",
       "      <td>67.45</td>\n",
       "      <td>5551341</td>\n",
       "    </tr>\n",
       "    <tr>\n",
       "      <th>2</th>\n",
       "      <td>2025-06-09 09:17:00+05:30</td>\n",
       "      <td>67.45</td>\n",
       "      <td>67.85</td>\n",
       "      <td>67.39</td>\n",
       "      <td>67.70</td>\n",
       "      <td>2244711</td>\n",
       "    </tr>\n",
       "    <tr>\n",
       "      <th>3</th>\n",
       "      <td>2025-06-09 09:18:00+05:30</td>\n",
       "      <td>67.69</td>\n",
       "      <td>68.07</td>\n",
       "      <td>67.64</td>\n",
       "      <td>68.00</td>\n",
       "      <td>3492135</td>\n",
       "    </tr>\n",
       "    <tr>\n",
       "      <th>4</th>\n",
       "      <td>2025-06-09 09:19:00+05:30</td>\n",
       "      <td>68.00</td>\n",
       "      <td>68.30</td>\n",
       "      <td>67.88</td>\n",
       "      <td>68.10</td>\n",
       "      <td>3869514</td>\n",
       "    </tr>\n",
       "    <tr>\n",
       "      <th>...</th>\n",
       "      <td>...</td>\n",
       "      <td>...</td>\n",
       "      <td>...</td>\n",
       "      <td>...</td>\n",
       "      <td>...</td>\n",
       "      <td>...</td>\n",
       "    </tr>\n",
       "    <tr>\n",
       "      <th>2620</th>\n",
       "      <td>2025-06-17 15:25:00+05:30</td>\n",
       "      <td>64.62</td>\n",
       "      <td>64.62</td>\n",
       "      <td>64.60</td>\n",
       "      <td>64.61</td>\n",
       "      <td>100057</td>\n",
       "    </tr>\n",
       "    <tr>\n",
       "      <th>2621</th>\n",
       "      <td>2025-06-17 15:26:00+05:30</td>\n",
       "      <td>64.60</td>\n",
       "      <td>64.61</td>\n",
       "      <td>64.59</td>\n",
       "      <td>64.60</td>\n",
       "      <td>334285</td>\n",
       "    </tr>\n",
       "    <tr>\n",
       "      <th>2622</th>\n",
       "      <td>2025-06-17 15:27:00+05:30</td>\n",
       "      <td>64.61</td>\n",
       "      <td>64.66</td>\n",
       "      <td>64.46</td>\n",
       "      <td>64.65</td>\n",
       "      <td>592029</td>\n",
       "    </tr>\n",
       "    <tr>\n",
       "      <th>2623</th>\n",
       "      <td>2025-06-17 15:28:00+05:30</td>\n",
       "      <td>64.65</td>\n",
       "      <td>64.66</td>\n",
       "      <td>64.60</td>\n",
       "      <td>64.66</td>\n",
       "      <td>203337</td>\n",
       "    </tr>\n",
       "    <tr>\n",
       "      <th>2624</th>\n",
       "      <td>2025-06-17 15:29:00+05:30</td>\n",
       "      <td>64.65</td>\n",
       "      <td>64.74</td>\n",
       "      <td>64.60</td>\n",
       "      <td>64.70</td>\n",
       "      <td>360143</td>\n",
       "    </tr>\n",
       "  </tbody>\n",
       "</table>\n",
       "<p>2625 rows × 6 columns</p>\n",
       "</div>"
      ],
      "text/plain": [
       "                          time   open   high    low  close    volume\n",
       "0    2025-06-09 09:15:00+05:30  67.75  68.21  67.00  67.65  11799029\n",
       "1    2025-06-09 09:16:00+05:30  67.65  67.65  67.01  67.45   5551341\n",
       "2    2025-06-09 09:17:00+05:30  67.45  67.85  67.39  67.70   2244711\n",
       "3    2025-06-09 09:18:00+05:30  67.69  68.07  67.64  68.00   3492135\n",
       "4    2025-06-09 09:19:00+05:30  68.00  68.30  67.88  68.10   3869514\n",
       "...                        ...    ...    ...    ...    ...       ...\n",
       "2620 2025-06-17 15:25:00+05:30  64.62  64.62  64.60  64.61    100057\n",
       "2621 2025-06-17 15:26:00+05:30  64.60  64.61  64.59  64.60    334285\n",
       "2622 2025-06-17 15:27:00+05:30  64.61  64.66  64.46  64.65    592029\n",
       "2623 2025-06-17 15:28:00+05:30  64.65  64.66  64.60  64.66    203337\n",
       "2624 2025-06-17 15:29:00+05:30  64.65  64.74  64.60  64.70    360143\n",
       "\n",
       "[2625 rows x 6 columns]"
      ]
     },
     "execution_count": 27,
     "metadata": {},
     "output_type": "execute_result"
    }
   ],
   "source": [
    "fetcher = UpstoxStockDataFetcher()\n",
    "stock_symbol = \"SUZLON\"\n",
    "start_date = \"2025-06-09\"\n",
    "end_date = \"2025-06-17\"\n",
    "df = fetcher.get_stock_data(stock_symbol, start_date, end_date)\n",
    "df\n"
   ]
  },
  {
   "cell_type": "code",
   "execution_count": 28,
   "metadata": {},
   "outputs": [
    {
     "name": "stderr",
     "output_type": "stream",
     "text": [
      "Processing Buy Side Data: 100%|██████████| 2598/2598 [01:04<00:00, 40.18it/s] \n",
      "Processing Sell Side Data: 100%|██████████| 2598/2598 [00:58<00:00, 44.63it/s] \n"
     ]
    }
   ],
   "source": [
    "df = getTechnicalIndicators(df)\n",
    "target_buy = generateTargetDataBuySide(df,1.005,0.99)\n",
    "target_sell = generateTargetDataSellSide(df,0.995,1.01)\n"
   ]
  },
  {
   "cell_type": "code",
   "execution_count": 29,
   "metadata": {},
   "outputs": [
    {
     "name": "stderr",
     "output_type": "stream",
     "text": [
      "c:\\Users\\srija\\Assignment\\Trading\\utils_data.py:207: SettingWithCopyWarning: \n",
      "A value is trying to be set on a copy of a slice from a DataFrame\n",
      "\n",
      "See the caveats in the documentation: https://pandas.pydata.org/pandas-docs/stable/user_guide/indexing.html#returning-a-view-versus-a-copy\n",
      "  normalized_df[col].iloc[i] = normalized_df[col].iloc[i].hour*60 + normalized_df[col].iloc[i].minute-540\n",
      "c:\\Users\\srija\\Assignment\\Trading\\utils_data.py:207: FutureWarning: Setting an item of incompatible dtype is deprecated and will raise in a future error of pandas. Value '42' has dtype incompatible with datetime64[ns, UTC+05:30], please explicitly cast to a compatible dtype first.\n",
      "  normalized_df[col].iloc[i] = normalized_df[col].iloc[i].hour*60 + normalized_df[col].iloc[i].minute-540\n"
     ]
    }
   ],
   "source": [
    "df_normalized, norm_param = normalize_dataframe_with_mean_std(df)"
   ]
  },
  {
   "cell_type": "code",
   "execution_count": 30,
   "metadata": {},
   "outputs": [],
   "source": [
    "def get_state(df, current_step):\n",
    "    row = df.iloc[current_step]\n",
    "    state = np.array([\n",
    "        row['time'],\n",
    "        row['open'],\n",
    "        row['high'],\n",
    "        row['low'],\n",
    "        row['close'],\n",
    "        row['volume'],\n",
    "        row['MA50'],\n",
    "        row['RSI'],\n",
    "        row['MACD'],\n",
    "        row['BB_upper'],\n",
    "        row['BB_lower'],\n",
    "        row['ADX'],\n",
    "        row['CCI'],\n",
    "        row['ATR'],\n",
    "        row['ROC'],\n",
    "        row['OBV']\n",
    "    ], dtype=np.float32)\n",
    "    return state"
   ]
  },
  {
   "cell_type": "markdown",
   "metadata": {},
   "source": [
    "# Loading Model"
   ]
  },
  {
   "cell_type": "code",
   "execution_count": 31,
   "metadata": {},
   "outputs": [
    {
     "data": {
      "text/plain": [
       "DQN(\n",
       "  (fc1): Linear(in_features=16, out_features=1440, bias=True)\n",
       "  (fc2): Linear(in_features=1440, out_features=1024, bias=True)\n",
       "  (fc3): Linear(in_features=1024, out_features=512, bias=True)\n",
       "  (fc4): Linear(in_features=512, out_features=256, bias=True)\n",
       "  (fc5): Linear(in_features=256, out_features=128, bias=True)\n",
       "  (fc6): Linear(in_features=128, out_features=64, bias=True)\n",
       "  (fc7): Linear(in_features=64, out_features=32, bias=True)\n",
       "  (fc8): Linear(in_features=32, out_features=3, bias=True)\n",
       ")"
      ]
     },
     "execution_count": 31,
     "metadata": {},
     "output_type": "execute_result"
    }
   ],
   "source": [
    "from Models.DQN import DQN,DQNAgent\n",
    "from trading_environment import StockTradingEnv\n",
    "\n",
    "policy_net = DQN(16, 3)\n",
    "target_net = DQN(16, 3)\n",
    "target_net.load_state_dict(policy_net.state_dict())\n",
    "target_net.eval()"
   ]
  },
  {
   "cell_type": "code",
   "execution_count": 32,
   "metadata": {},
   "outputs": [
    {
     "data": {
      "text/plain": [
       "DQN(\n",
       "  (fc1): Linear(in_features=16, out_features=1440, bias=True)\n",
       "  (fc2): Linear(in_features=1440, out_features=1024, bias=True)\n",
       "  (fc3): Linear(in_features=1024, out_features=512, bias=True)\n",
       "  (fc4): Linear(in_features=512, out_features=256, bias=True)\n",
       "  (fc5): Linear(in_features=256, out_features=128, bias=True)\n",
       "  (fc6): Linear(in_features=128, out_features=64, bias=True)\n",
       "  (fc7): Linear(in_features=64, out_features=32, bias=True)\n",
       "  (fc8): Linear(in_features=32, out_features=3, bias=True)\n",
       ")"
      ]
     },
     "execution_count": 32,
     "metadata": {},
     "output_type": "execute_result"
    }
   ],
   "source": [
    "device = torch.device('cuda' if torch.cuda.is_available() else 'cpu')\n",
    "\n",
    "policy_net.to(device)\n",
    "target_net.to(device)"
   ]
  },
  {
   "cell_type": "code",
   "execution_count": 39,
   "metadata": {},
   "outputs": [
    {
     "data": {
      "text/plain": [
       "DQN(\n",
       "  (fc1): Linear(in_features=16, out_features=1440, bias=True)\n",
       "  (fc2): Linear(in_features=1440, out_features=1024, bias=True)\n",
       "  (fc3): Linear(in_features=1024, out_features=512, bias=True)\n",
       "  (fc4): Linear(in_features=512, out_features=256, bias=True)\n",
       "  (fc5): Linear(in_features=256, out_features=128, bias=True)\n",
       "  (fc6): Linear(in_features=128, out_features=64, bias=True)\n",
       "  (fc7): Linear(in_features=64, out_features=32, bias=True)\n",
       "  (fc8): Linear(in_features=32, out_features=3, bias=True)\n",
       ")"
      ]
     },
     "execution_count": 39,
     "metadata": {},
     "output_type": "execute_result"
    }
   ],
   "source": [
    "model_path = r\"C:\\Users\\srija\\Assignment\\Trading\\Models\\trained_models\\suzlon_14_june\\suzlon_14_june_5501.pth\"\n",
    "policy_net.load_state_dict(torch.load(model_path))\n",
    "policy_net.eval()"
   ]
  },
  {
   "cell_type": "markdown",
   "metadata": {},
   "source": [
    "# Evaluate Model"
   ]
  },
  {
   "cell_type": "code",
   "execution_count": 40,
   "metadata": {},
   "outputs": [
    {
     "name": "stdout",
     "output_type": "stream",
     "text": [
      "Correct: 751, Wrong: 1538, Blunder: 309\n",
      "Average Latency: 0.0008870003496893926 seconds\n"
     ]
    }
   ],
   "source": [
    "import time\n",
    "correct = 0\n",
    "wrong = 0\n",
    "blunder =0\n",
    "latency_list = []\n",
    "for i in range(0,len(df_normalized)):\n",
    "    t1 = time.time()\n",
    "    state = get_state(df_normalized,i)\n",
    "    with torch.no_grad():\n",
    "        state = torch.tensor(state, dtype=torch.float32).unsqueeze(0).to(device)\n",
    "        q_values = policy_net(state)\n",
    "        action=q_values.argmax().item()\n",
    "    ideal_action = 0\n",
    "    if target_buy.iloc[i]['action'] == \"Target Hit\":\n",
    "        ideal_action = 1\n",
    "    elif target_sell.iloc[i]['action'] == \"Target Hit\":\n",
    "        ideal_action = 2\n",
    "    if action==ideal_action:\n",
    "        correct += 1\n",
    "    elif action == 1 and ideal_action ==2:\n",
    "        blunder += 1\n",
    "    elif action == 2 and ideal_action ==1:\n",
    "        blunder += 1    \n",
    "    else:\n",
    "        wrong += 1\n",
    "    t2 = time.time()\n",
    "    latency = t2 - t1\n",
    "    latency_list.append(latency)\n",
    "\n",
    "print(f\"Correct: {correct}, Wrong: {wrong}, Blunder: {blunder}\")  \n",
    "print(f\"Average Latency: {np.mean(latency_list)} seconds\")  "
   ]
  },
  {
   "cell_type": "code",
   "execution_count": null,
   "metadata": {},
   "outputs": [],
   "source": []
  }
 ],
 "metadata": {
  "kernelspec": {
   "display_name": "trader",
   "language": "python",
   "name": "python3"
  },
  "language_info": {
   "codemirror_mode": {
    "name": "ipython",
    "version": 3
   },
   "file_extension": ".py",
   "mimetype": "text/x-python",
   "name": "python",
   "nbconvert_exporter": "python",
   "pygments_lexer": "ipython3",
   "version": "3.12.2"
  }
 },
 "nbformat": 4,
 "nbformat_minor": 2
}
